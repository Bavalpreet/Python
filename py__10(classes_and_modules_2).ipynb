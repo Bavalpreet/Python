{
  "nbformat": 4,
  "nbformat_minor": 0,
  "metadata": {
    "colab": {
      "name": "py_10(classes_and_modules_2).ipynb",
      "version": "0.3.2",
      "provenance": [],
      "collapsed_sections": []
    },
    "kernelspec": {
      "name": "python3",
      "display_name": "Python 3"
    }
  },
  "cells": [
    {
      "cell_type": "code",
      "metadata": {
        "id": "8aehUu3bSiFb",
        "colab_type": "code",
        "colab": {
          "base_uri": "https://localhost:8080/",
          "height": 52
        },
        "outputId": "e2cb1c5f-0826-487a-cc28-91635b85afbc"
      },
      "source": [
        "class Employee:\n",
        "  \n",
        "  def __init__(self, first, last, pay):\n",
        "    self.first = first\n",
        "    self.last = last\n",
        "    self.pay = pay\n",
        "    self.email = first + '.' + last + '@zoam.com'\n",
        "  \n",
        "  def fullname(self):              \n",
        "    return '{} {}'.format(self.first, self.last)\n",
        "  def apply_raise(self):\n",
        "    self.pay = int(self.pay * 1.04)\n",
        "\n",
        "emp_1 = Employee('baval', 'preet', 50000)\n",
        "emp_2 = Employee('sam', 'preet', 60000)\n",
        "\n",
        "print(emp_1.pay)\n",
        "emp_1.apply_raise()\n",
        "print(emp_1.pay)\n"
      ],
      "execution_count": 3,
      "outputs": [
        {
          "output_type": "stream",
          "text": [
            "50000\n",
            "52000\n"
          ],
          "name": "stdout"
        }
      ]
    },
    {
      "cell_type": "markdown",
      "metadata": {
        "id": "IXIHuvzrS0yv",
        "colab_type": "text"
      },
      "source": [
        "class variables are those variables which are shared among all instances of class"
      ]
    },
    {
      "cell_type": "code",
      "metadata": {
        "id": "8RTgPF_TU4MA",
        "colab_type": "code",
        "colab": {
          "base_uri": "https://localhost:8080/",
          "height": 357
        },
        "outputId": "ed318fcb-7c86-4d59-b6bd-535c2a08d61e"
      },
      "source": [
        "class Employee:\n",
        "  raise_amount = 1.04#class variable\n",
        "  \n",
        "  def __init__(self, first, last, pay):\n",
        "    self.first = first\n",
        "    self.last = last\n",
        "    self.pay = pay\n",
        "    self.email = first + '.' + last + '@zoam.com'\n",
        "  \n",
        "  def fullname(self):              \n",
        "    return '{} {}'.format(self.first, self.last)\n",
        "  def apply_raise(self):\n",
        "    self.pay = int(self.pay * raise_amount)\n",
        "\n",
        "emp_1 = Employee('baval', 'preet', 50000)\n",
        "emp_2 = Employee('sam', 'preet', 60000)\n",
        "\n",
        "print(emp_1.pay)\n",
        "emp_1.apply_raise()\n",
        "print(emp_1.pay)\n"
      ],
      "execution_count": 4,
      "outputs": [
        {
          "output_type": "stream",
          "text": [
            "50000\n"
          ],
          "name": "stdout"
        },
        {
          "output_type": "error",
          "ename": "NameError",
          "evalue": "ignored",
          "traceback": [
            "\u001b[0;31m---------------------------------------------------------------------------\u001b[0m",
            "\u001b[0;31mNameError\u001b[0m                                 Traceback (most recent call last)",
            "\u001b[0;32m<ipython-input-4-de0d31d92e06>\u001b[0m in \u001b[0;36m<module>\u001b[0;34m()\u001b[0m\n\u001b[1;32m     17\u001b[0m \u001b[0;34m\u001b[0m\u001b[0m\n\u001b[1;32m     18\u001b[0m \u001b[0mprint\u001b[0m\u001b[0;34m(\u001b[0m\u001b[0memp_1\u001b[0m\u001b[0;34m.\u001b[0m\u001b[0mpay\u001b[0m\u001b[0;34m)\u001b[0m\u001b[0;34m\u001b[0m\u001b[0;34m\u001b[0m\u001b[0m\n\u001b[0;32m---> 19\u001b[0;31m \u001b[0memp_1\u001b[0m\u001b[0;34m.\u001b[0m\u001b[0mapply_raise\u001b[0m\u001b[0;34m(\u001b[0m\u001b[0;34m)\u001b[0m\u001b[0;34m\u001b[0m\u001b[0;34m\u001b[0m\u001b[0m\n\u001b[0m\u001b[1;32m     20\u001b[0m \u001b[0mprint\u001b[0m\u001b[0;34m(\u001b[0m\u001b[0memp_1\u001b[0m\u001b[0;34m.\u001b[0m\u001b[0mpay\u001b[0m\u001b[0;34m)\u001b[0m\u001b[0;34m\u001b[0m\u001b[0;34m\u001b[0m\u001b[0m\n",
            "\u001b[0;32m<ipython-input-4-de0d31d92e06>\u001b[0m in \u001b[0;36mapply_raise\u001b[0;34m(self)\u001b[0m\n\u001b[1;32m     11\u001b[0m     \u001b[0;32mreturn\u001b[0m \u001b[0;34m'{} {}'\u001b[0m\u001b[0;34m.\u001b[0m\u001b[0mformat\u001b[0m\u001b[0;34m(\u001b[0m\u001b[0mself\u001b[0m\u001b[0;34m.\u001b[0m\u001b[0mfirst\u001b[0m\u001b[0;34m,\u001b[0m \u001b[0mself\u001b[0m\u001b[0;34m.\u001b[0m\u001b[0mlast\u001b[0m\u001b[0;34m)\u001b[0m\u001b[0;34m\u001b[0m\u001b[0;34m\u001b[0m\u001b[0m\n\u001b[1;32m     12\u001b[0m   \u001b[0;32mdef\u001b[0m \u001b[0mapply_raise\u001b[0m\u001b[0;34m(\u001b[0m\u001b[0mself\u001b[0m\u001b[0;34m)\u001b[0m\u001b[0;34m:\u001b[0m\u001b[0;34m\u001b[0m\u001b[0;34m\u001b[0m\u001b[0m\n\u001b[0;32m---> 13\u001b[0;31m     \u001b[0mself\u001b[0m\u001b[0;34m.\u001b[0m\u001b[0mpay\u001b[0m \u001b[0;34m=\u001b[0m \u001b[0mint\u001b[0m\u001b[0;34m(\u001b[0m\u001b[0mself\u001b[0m\u001b[0;34m.\u001b[0m\u001b[0mpay\u001b[0m \u001b[0;34m*\u001b[0m \u001b[0mraise_amount\u001b[0m\u001b[0;34m)\u001b[0m\u001b[0;34m\u001b[0m\u001b[0;34m\u001b[0m\u001b[0m\n\u001b[0m\u001b[1;32m     14\u001b[0m \u001b[0;34m\u001b[0m\u001b[0m\n\u001b[1;32m     15\u001b[0m \u001b[0memp_1\u001b[0m \u001b[0;34m=\u001b[0m \u001b[0mEmployee\u001b[0m\u001b[0;34m(\u001b[0m\u001b[0;34m'baval'\u001b[0m\u001b[0;34m,\u001b[0m \u001b[0;34m'preet'\u001b[0m\u001b[0;34m,\u001b[0m \u001b[0;36m50000\u001b[0m\u001b[0;34m)\u001b[0m\u001b[0;34m\u001b[0m\u001b[0;34m\u001b[0m\u001b[0m\n",
            "\u001b[0;31mNameError\u001b[0m: name 'raise_amount' is not defined"
          ]
        }
      ]
    },
    {
      "cell_type": "markdown",
      "metadata": {
        "id": "6A1QNqU6VSdr",
        "colab_type": "text"
      },
      "source": [
        "NameError: name 'raise_amount' is not defined \n",
        "\n",
        "this is because when we access the class variables we need to access them either through the class itself or an instance of the class"
      ]
    },
    {
      "cell_type": "code",
      "metadata": {
        "id": "H8ysVA85XUQ2",
        "colab_type": "code",
        "colab": {
          "base_uri": "https://localhost:8080/",
          "height": 87
        },
        "outputId": "08d51ed4-66f7-4747-d4b1-b7d4c5d24166"
      },
      "source": [
        "class Employee:\n",
        "  raise_amount = 1.04#class variable\n",
        "  \n",
        "  def __init__(self, first, last, pay):\n",
        "    self.first = first\n",
        "    self.last = last\n",
        "    self.pay = pay\n",
        "    self.email = first + '.' + last + '@zoam.com'\n",
        "  \n",
        "  def fullname(self):              \n",
        "    return '{} {}'.format(self.first, self.last)\n",
        "  def apply_raise(self):\n",
        "    self.pay = int(self.pay * Employee.raise_amount)\n",
        "\n",
        "emp_1 = Employee('baval', 'preet', 50000)\n",
        "emp_2 = Employee('sam', 'preet', 60000)\n",
        "\n",
        "print(emp_1.pay)\n",
        "emp_1.apply_raise()\n",
        "print(emp_1.pay)\n",
        "\n",
        "\n",
        "#WITH INSTANCE OF CLASS IN APPLY RAISE METHOD\n",
        "\n",
        "class Employee:\n",
        "  raise_amount = 1.04#class variable\n",
        "  \n",
        "  def __init__(self, first, last, pay):\n",
        "    self.first = first\n",
        "    self.last = last\n",
        "    self.pay = pay\n",
        "    self.email = first + '.' + last + '@zoam.com'\n",
        "  \n",
        "  def fullname(self):              \n",
        "    return '{} {}'.format(self.first, self.last)\n",
        "  def apply_raise(self):\n",
        "    self.pay = int(self.pay * self.raise_amount)\n",
        "\n",
        "emp_1 = Employee('baval', 'preet', 50000)\n",
        "emp_2 = Employee('sam', 'preet', 60000)\n",
        "\n",
        "print(emp_1.pay)\n",
        "emp_1.apply_raise()\n",
        "print(emp_1.pay)"
      ],
      "execution_count": 7,
      "outputs": [
        {
          "output_type": "stream",
          "text": [
            "50000\n",
            "52000\n",
            "50000\n",
            "52000\n"
          ],
          "name": "stdout"
        }
      ]
    },
    {
      "cell_type": "code",
      "metadata": {
        "id": "tkxhT2i4anN7",
        "colab_type": "code",
        "colab": {
          "base_uri": "https://localhost:8080/",
          "height": 87
        },
        "outputId": "cc5c1151-2910-487e-908e-d5687bb4f160"
      },
      "source": [
        "class Employee:\n",
        "  raise_amount = 1.04#class variable\n",
        "  \n",
        "  def __init__(self, first, last, pay):\n",
        "    self.first = first\n",
        "    self.last = last\n",
        "    self.pay = pay\n",
        "    self.email = first + '.' + last + '@zoam.com'\n",
        "  \n",
        "  def fullname(self):              \n",
        "    return '{} {}'.format(self.first, self.last)\n",
        "  def apply_raise(self):\n",
        "    self.pay = int(self.pay * self.raise_amount)\n",
        "\n",
        "emp_1 = Employee('baval', 'preet', 50000)\n",
        "emp_2 = Employee('sam', 'preet', 60000)\n",
        "\n",
        "print(emp_1.__dict__)\n",
        "print(Employee.raise_amount)\n",
        "print(emp_1.raise_amount)\n",
        "print(emp_2.raise_amount)"
      ],
      "execution_count": 4,
      "outputs": [
        {
          "output_type": "stream",
          "text": [
            "{'first': 'baval', 'last': 'preet', 'pay': 50000, 'email': 'baval.preet@zoam.com'}\n",
            "1.04\n",
            "1.04\n",
            "1.04\n"
          ],
          "name": "stdout"
        }
      ]
    },
    {
      "cell_type": "code",
      "metadata": {
        "id": "iCXMYDmOdFbm",
        "colab_type": "code",
        "colab": {
          "base_uri": "https://localhost:8080/",
          "height": 107
        },
        "outputId": "fc64c5b0-edcb-491f-927f-eff91a368cee"
      },
      "source": [
        "class Employee:\n",
        "  raise_amount = 1.04#class variable\n",
        "  \n",
        "  def __init__(self, first, last, pay):\n",
        "    self.first = first\n",
        "    self.last = last\n",
        "    self.pay = pay\n",
        "    self.email = first + '.' + last + '@zoam.com'\n",
        "  \n",
        "  def fullname(self):              \n",
        "    return '{} {}'.format(self.first, self.last)\n",
        "  def apply_raise(self):\n",
        "    self.pay = int(self.pay * self.raise_amount)\n",
        "\n",
        "emp_1 = Employee('baval', 'preet', 50000)\n",
        "emp_2 = Employee('sam', 'preet', 60000)\n",
        "\n",
        "Employee.raise_amount = 1.05\n",
        "\n",
        "print(Employee.__dict__)\n",
        "print(Employee.raise_amount)\n",
        "print(emp_1.raise_amount)\n",
        "print(emp_2.raise_amount)"
      ],
      "execution_count": 6,
      "outputs": [
        {
          "output_type": "stream",
          "text": [
            "{'__module__': '__main__', 'raise_amount': 1.05, '__init__': <function Employee.__init__ at 0x7f1c1f221f28>, 'fullname': <function Employee.fullname at 0x7f1c1f221e18>, 'apply_raise': <function Employee.apply_raise at 0x7f1c1f221ea0>, '__dict__': <attribute '__dict__' of 'Employee' objects>, '__weakref__': <attribute '__weakref__' of 'Employee' objects>, '__doc__': None}\n",
            "1.05\n",
            "1.05\n",
            "1.05\n"
          ],
          "name": "stdout"
        }
      ]
    },
    {
      "cell_type": "markdown",
      "metadata": {
        "id": "kqyKI88JdnTB",
        "colab_type": "text"
      },
      "source": [
        "Employee.raise_amount = 1.05\n",
        "\n",
        "it change the raise amount for the class and all of the instances"
      ]
    },
    {
      "cell_type": "code",
      "metadata": {
        "id": "OR4Ym7L6dcOW",
        "colab_type": "code",
        "colab": {
          "base_uri": "https://localhost:8080/",
          "height": 87
        },
        "outputId": "101e2b0a-f369-4cf7-99d8-d9d7580e2314"
      },
      "source": [
        "class Employee:\n",
        "  raise_amount = 1.04#class variable\n",
        "  \n",
        "  def __init__(self, first, last, pay):\n",
        "    self.first = first\n",
        "    self.last = last\n",
        "    self.pay = pay\n",
        "    self.email = first + '.' + last + '@zoam.com'\n",
        "  \n",
        "  def fullname(self):              \n",
        "    return '{} {}'.format(self.first, self.last)\n",
        "  def apply_raise(self):\n",
        "    self.pay = int(self.pay * self.raise_amount)\n",
        "\n",
        "emp_1 = Employee('baval', 'preet', 50000)\n",
        "emp_2 = Employee('sam', 'preet', 60000)\n",
        "\n",
        "emp_1.raise_amount = 1.05\n",
        "\n",
        "print(emp_1.__dict__)\n",
        "print(Employee.raise_amount)\n",
        "print(emp_1.raise_amount)\n",
        "print(emp_2.raise_amount)"
      ],
      "execution_count": 5,
      "outputs": [
        {
          "output_type": "stream",
          "text": [
            "{'first': 'baval', 'last': 'preet', 'pay': 50000, 'email': 'baval.preet@zoam.com', 'raise_amount': 1.05}\n",
            "1.04\n",
            "1.05\n",
            "1.04\n"
          ],
          "name": "stdout"
        }
      ]
    },
    {
      "cell_type": "markdown",
      "metadata": {
        "id": "UnTAbeyjd8ac",
        "colab_type": "text"
      },
      "source": [
        "emp_1.raise_amount = 1.05\n",
        "\n",
        "it will only change the raise amount for emp_1"
      ]
    },
    {
      "cell_type": "code",
      "metadata": {
        "id": "CH4bHzuBgd2c",
        "colab_type": "code",
        "colab": {
          "base_uri": "https://localhost:8080/",
          "height": 52
        },
        "outputId": "1cf5307e-9cc6-47f7-db7f-19706de0bf9d"
      },
      "source": [
        "class Employee:\n",
        "  \n",
        "  num_of_emps = 0\n",
        "  raise_amount = 1.04#class variable\n",
        "  \n",
        "  def __init__(self, first, last, pay):\n",
        "    self.first = first\n",
        "    self.last = last\n",
        "    self.pay = pay\n",
        "    self.email = first + '.' + last + '@zoam.com'\n",
        "    Employee.num_of_emps += 1\n",
        "  \n",
        "  def fullname(self):              \n",
        "    return '{} {}'.format(self.first, self.last)\n",
        "  def apply_raise(self):\n",
        "    self.pay = int(self.pay * self.raise_amount)\n",
        "\n",
        "print(Employee.num_of_emps)    \n",
        "emp_1 = Employee('baval', 'preet', 50000)\n",
        "emp_2 = Employee('sam', 'preet', 60000)\n",
        "print(Employee.num_of_emps)"
      ],
      "execution_count": 3,
      "outputs": [
        {
          "output_type": "stream",
          "text": [
            "0\n",
            "2\n"
          ],
          "name": "stdout"
        }
      ]
    }
  ]
}
