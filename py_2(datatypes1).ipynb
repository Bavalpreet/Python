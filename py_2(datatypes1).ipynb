{
  "nbformat": 4,
  "nbformat_minor": 0,
  "metadata": {
    "colab": {
      "name": "py(datatypes).ipynb",
      "version": "0.3.2",
      "provenance": [],
      "collapsed_sections": []
    },
    "kernelspec": {
      "name": "python3",
      "display_name": "Python 3"
    }
  },
  "cells": [
    {
      "cell_type": "code",
      "metadata": {
        "id": "wwbl-gzgnPhM",
        "colab_type": "code",
        "colab": {
          "base_uri": "https://localhost:8080/",
          "height": 51
        },
        "outputId": "2ef7b790-7033-4f9c-fac0-60b27638010f"
      },
      "source": [
        "CREDITS = Acadview\n",
        "#1. List using input\n",
        "a=[]\n",
        "b = int(input('Enter a number in the list'))   # input() is used to take input from user\n",
        "a.insert(0,b)                                  # the input entered is stored in b and then passed to  list at 0 index\n",
        "print(a)"
      ],
      "execution_count": 1,
      "outputs": [
        {
          "output_type": "stream",
          "text": [
            "Enter a number in the list5\n",
            "[5]\n"
          ],
          "name": "stdout"
        }
      ]
    },
    {
      "cell_type": "code",
      "metadata": {
        "id": "mh6rpYK4pT2Q",
        "colab_type": "code",
        "colab": {
          "base_uri": "https://localhost:8080/",
          "height": 34
        },
        "outputId": "509b26a4-93d2-42a6-fc1e-f03fc86309ae"
      },
      "source": [
        "#2.Add to the list\n",
        "a.append('google')                             #.append() is used to add element after last element of the list\n",
        "a.append('apple')\n",
        "a.append('facebook')\n",
        "a.append('microsoft')\n",
        "a.append('tesla')\n",
        "print(a)"
      ],
      "execution_count": 2,
      "outputs": [
        {
          "output_type": "stream",
          "text": [
            "[5, 'google', 'apple', 'facebook', 'microsoft', 'tesla']\n"
          ],
          "name": "stdout"
        }
      ]
    },
    {
      "cell_type": "code",
      "metadata": {
        "id": "XP51rWTPpkr5",
        "colab_type": "code",
        "colab": {
          "base_uri": "https://localhost:8080/",
          "height": 34
        },
        "outputId": "11716607-9e76-4176-c45c-6742561342e0"
      },
      "source": [
        "#3.count abjects\n",
        "a.count('google')                              # count is used to count the no of times object is present in given list\n"
      ],
      "execution_count": 3,
      "outputs": [
        {
          "output_type": "execute_result",
          "data": {
            "text/plain": [
              "1"
            ]
          },
          "metadata": {
            "tags": []
          },
          "execution_count": 3
        }
      ]
    },
    {
      "cell_type": "code",
      "metadata": {
        "id": "rVnOu0xssavV",
        "colab_type": "code",
        "colab": {
          "base_uri": "https://localhost:8080/",
          "height": 34
        },
        "outputId": "eb837395-8ef4-48fd-b297-f97922e8c4d0"
      },
      "source": [
        "#4.sort list\n",
        "b = [5,3,9,7,8]\n",
        "b.sort()                                       #this will sort the elements in the list\n",
        "print(b)\n"
      ],
      "execution_count": 4,
      "outputs": [
        {
          "output_type": "stream",
          "text": [
            "[3, 5, 7, 8, 9]\n"
          ],
          "name": "stdout"
        }
      ]
    },
    {
      "cell_type": "code",
      "metadata": {
        "id": "NZLsHkZmspfm",
        "colab_type": "code",
        "colab": {
          "base_uri": "https://localhost:8080/",
          "height": 51
        },
        "outputId": "1ca34a5c-3e3f-4de7-98c5-dc7fe4acea22"
      },
      "source": [
        "#6.implement stack and queue using list\n",
        "stack = [1,2,34,4]\n",
        "stack.append(5)                                #here we are pushing element into stack\n",
        "print(stack)\n",
        "stack.pop()                                    #here we are performing the pop operation\n",
        "print(stack)"
      ],
      "execution_count": 7,
      "outputs": [
        {
          "output_type": "stream",
          "text": [
            "[1, 2, 34, 4, 5]\n",
            "[1, 2, 34, 4]\n"
          ],
          "name": "stdout"
        }
      ]
    },
    {
      "cell_type": "code",
      "metadata": {
        "id": "AaCF_juutEGU",
        "colab_type": "code",
        "colab": {
          "base_uri": "https://localhost:8080/",
          "height": 51
        },
        "outputId": "9b5f75fc-93c4-41f1-db1b-71bdc6baaab0"
      },
      "source": [
        "queue = [5,32,6,7,8]\n",
        "queue.append(4)\n",
        "print(queue)\n",
        "queue.pop(0)\n",
        "print(queue)"
      ],
      "execution_count": 8,
      "outputs": [
        {
          "output_type": "stream",
          "text": [
            "[5, 32, 6, 7, 8, 4]\n",
            "[32, 6, 7, 8, 4]\n"
          ],
          "name": "stdout"
        }
      ]
    }
  ]
}