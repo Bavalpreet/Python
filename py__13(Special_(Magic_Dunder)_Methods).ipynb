{
  "nbformat": 4,
  "nbformat_minor": 0,
  "metadata": {
    "colab": {
      "name": "py_13(Special (Magic/Dunder) Methods).ipynb",
      "version": "0.3.2",
      "provenance": []
    },
    "kernelspec": {
      "name": "python3",
      "display_name": "Python 3"
    }
  },
  "cells": [
    {
      "cell_type": "code",
      "metadata": {
        "id": "WETUpKexF1K9",
        "colab_type": "code",
        "colab": {
          "base_uri": "https://localhost:8080/",
          "height": 35
        },
        "outputId": "d2c42b6d-c40f-42e6-aa18-0e6c591c32c9"
      },
      "source": [
        "class Employee:\n",
        "  \n",
        "  raise_amount = 1.04\n",
        "  \n",
        "  def __init__(self, first, last, pay):\n",
        "    self.first = first\n",
        "    self.last = last\n",
        "    self.pay = pay\n",
        "    self.email = first + '.' + last + '@zoam.com'\n",
        "  \n",
        "  def fullname(self):              \n",
        "    return '{} {}'.format(self.first, self.last)\n",
        "  \n",
        "  def apply_raise(self):\n",
        "    self.pay = int(self.pay * self.raise_amount)\n",
        "    \n",
        "\n",
        "    \n",
        "emp_1 = Employee('baval', 'preet', 50000)\n",
        "emp_2 = Employee('sam', 'preet', 60000)\n",
        "\n",
        "print(emp_1)\n",
        "\n"
      ],
      "execution_count": 3,
      "outputs": [
        {
          "output_type": "stream",
          "text": [
            "<__main__.Employee object at 0x7fe97a8c4630>\n"
          ],
          "name": "stdout"
        }
      ]
    },
    {
      "cell_type": "code",
      "metadata": {
        "id": "k9HIZsdnJw9S",
        "colab_type": "code",
        "colab": {
          "base_uri": "https://localhost:8080/",
          "height": 35
        },
        "outputId": "be3bb944-27c3-4bab-91af-3b4ceb309400"
      },
      "source": [
        "class Employee:\n",
        "  \n",
        "  raise_amount = 1.04\n",
        "  \n",
        "  def __init__(self, first, last, pay):\n",
        "    self.first = first\n",
        "    self.last = last\n",
        "    self.pay = pay\n",
        "    self.email = first + '.' + last + '@zoam.com'\n",
        "  \n",
        "  def fullname(self):              \n",
        "    return '{} {}'.format(self.first, self.last)\n",
        "  \n",
        "  def apply_raise(self):\n",
        "    self.pay = int(self.pay * self.raise_amount)\n",
        "    \n",
        "  def __repr__(self):\n",
        "    return \"Employee('{}', '{}', '{}')\".format(self.first,self.last,self.pay)\n",
        "  \n",
        " # def __str__(self):\n",
        "    #pass\n",
        "    \n",
        "\n",
        "    \n",
        "emp_1 = Employee('baval', 'preet', 50000)\n",
        "emp_2 = Employee('sam', 'preet', 60000)\n",
        "\n",
        "print(emp_1)\n",
        "#repr(emp_1)\n",
        "#str(emp_1)\n"
      ],
      "execution_count": 5,
      "outputs": [
        {
          "output_type": "stream",
          "text": [
            "Employee('baval', 'preet', '50000')\n"
          ],
          "name": "stdout"
        }
      ]
    },
    {
      "cell_type": "markdown",
      "metadata": {
        "id": "LVZq71tWG9Lv",
        "colab_type": "text"
      },
      "source": [
        "Special methods are methods with use of which we can change some of this  built in behaviour and operations, so these special methods are always surrounded by double underscores also known as dunder.\n",
        "\n",
        "repr is meant to be an unambiguous representation of the object and should be used for debugging and logging and things like that it's really meant to be seen by oyher developers .\n",
        "str is meant to be more of a readable representation of an object and is meant to be used as a display to the end user"
      ]
    },
    {
      "cell_type": "code",
      "metadata": {
        "id": "gR6OZqutK9Co",
        "colab_type": "code",
        "colab": {
          "base_uri": "https://localhost:8080/",
          "height": 35
        },
        "outputId": "50d46791-2783-4216-991a-e6589d9fe276"
      },
      "source": [
        "class Employee:\n",
        "  \n",
        "  raise_amount = 1.04\n",
        "  \n",
        "  def __init__(self, first, last, pay):\n",
        "    self.first = first\n",
        "    self.last = last\n",
        "    self.pay = pay\n",
        "    self.email = first + '.' + last + '@zoam.com'\n",
        "  \n",
        "  def fullname(self):              \n",
        "    return '{} {}'.format(self.first, self.last)\n",
        "  \n",
        "  def apply_raise(self):\n",
        "    self.pay = int(self.pay * self.raise_amount)\n",
        "    \n",
        "  def __repr__(self):\n",
        "    return \"Employee('{}', '{}', '{}')\".format(self.first,self.last,self.pay)\n",
        "  \n",
        "  def __str__(self):\n",
        "    return '{} - {}'.format(self.fullname(),self.email)\n",
        "    \n",
        "\n",
        "    \n",
        "emp_1 = Employee('baval', 'preet', 50000)\n",
        "emp_2 = Employee('sam', 'preet', 60000)\n",
        "\n",
        "print(emp_1)\n",
        "#repr(emp_1)\n",
        "#str(emp_1)\n"
      ],
      "execution_count": 6,
      "outputs": [
        {
          "output_type": "stream",
          "text": [
            "baval preet - baval.preet@zoam.com\n"
          ],
          "name": "stdout"
        }
      ]
    },
    {
      "cell_type": "code",
      "metadata": {
        "id": "vqvfwLRVLmSN",
        "colab_type": "code",
        "colab": {
          "base_uri": "https://localhost:8080/",
          "height": 52
        },
        "outputId": "5c9a4e9b-fe6a-4532-9ec1-86fa4ca4eb9e"
      },
      "source": [
        "class Employee:\n",
        "  \n",
        "  raise_amount = 1.04\n",
        "  \n",
        "  def __init__(self, first, last, pay):\n",
        "    self.first = first\n",
        "    self.last = last\n",
        "    self.pay = pay\n",
        "    self.email = first + '.' + last + '@zoam.com'\n",
        "  \n",
        "  def fullname(self):              \n",
        "    return '{} {}'.format(self.first, self.last)\n",
        "  \n",
        "  def apply_raise(self):\n",
        "    self.pay = int(self.pay * self.raise_amount)\n",
        "    \n",
        "  def __repr__(self):\n",
        "    return \"Employee('{}', '{}', '{}')\".format(self.first,self.last,self.pay)\n",
        "  \n",
        "  def __str__(self):\n",
        "    return '{} - {}'.format(self.fullname(),self.email)\n",
        "    \n",
        "\n",
        "    \n",
        "emp_1 = Employee('baval', 'preet', 50000)\n",
        "emp_2 = Employee('sam', 'preet', 60000)\n",
        "\n",
        "#print(emp_1)\n",
        "print(repr(emp_1))\n",
        "print(str(emp_1))\n"
      ],
      "execution_count": 13,
      "outputs": [
        {
          "output_type": "stream",
          "text": [
            "Employee('baval', 'preet', '50000')\n",
            "baval preet - baval.preet@zoam.com\n"
          ],
          "name": "stdout"
        }
      ]
    },
    {
      "cell_type": "code",
      "metadata": {
        "id": "28LQb0bwMKpK",
        "colab_type": "code",
        "colab": {
          "base_uri": "https://localhost:8080/",
          "height": 87
        },
        "outputId": "68704325-3d84-4b45-885a-10f56a4907eb"
      },
      "source": [
        "print(1+2)\n",
        "print('a'+'b')\n",
        "\n",
        "print(int.__add__(1,2))\n",
        "print(str.__add__('a','b'))\n"
      ],
      "execution_count": 10,
      "outputs": [
        {
          "output_type": "stream",
          "text": [
            "3\n",
            "ab\n",
            "3\n",
            "ab\n"
          ],
          "name": "stdout"
        }
      ]
    },
    {
      "cell_type": "code",
      "metadata": {
        "id": "esNaGmChNC0O",
        "colab_type": "code",
        "colab": {
          "base_uri": "https://localhost:8080/",
          "height": 35
        },
        "outputId": "4a5ffc3f-768e-434a-ed46-8ee1a3fc0bfe"
      },
      "source": [
        "class Employee:\n",
        "  \n",
        "  raise_amount = 1.04\n",
        "  \n",
        "  def __init__(self, first, last, pay):\n",
        "    self.first = first\n",
        "    self.last = last\n",
        "    self.pay = pay\n",
        "    self.email = first + '.' + last + '@zoam.com'\n",
        "  \n",
        "  def fullname(self):              \n",
        "    return '{} {}'.format(self.first, self.last)\n",
        "  \n",
        "  def apply_raise(self):\n",
        "    self.pay = int(self.pay * self.raise_amount)\n",
        "    \n",
        "  def __repr__(self):\n",
        "    return \"Employee('{}', '{}', '{}')\".format(self.first,self.last,self.pay)\n",
        "  \n",
        "  def __str__(self):\n",
        "    return '{} - {}'.format(self.fullname(),self.email)\n",
        "  \n",
        "  def __add__(self,other):\n",
        "    return self.pay + other.pay\n",
        "    \n",
        "\n",
        "    \n",
        "emp_1 = Employee('baval', 'preet', 50000)\n",
        "emp_2 = Employee('sam', 'preet', 60000)\n",
        "\n",
        "print(emp_1 + emp_2)\n"
      ],
      "execution_count": 11,
      "outputs": [
        {
          "output_type": "stream",
          "text": [
            "110000\n"
          ],
          "name": "stdout"
        }
      ]
    },
    {
      "cell_type": "code",
      "metadata": {
        "id": "CYAit7q5Ogdp",
        "colab_type": "code",
        "colab": {
          "base_uri": "https://localhost:8080/",
          "height": 52
        },
        "outputId": "9229fe8b-4324-4f0b-e323-9caabfaef582"
      },
      "source": [
        "print(len('test'))\n",
        "print('test'.__len__())"
      ],
      "execution_count": 14,
      "outputs": [
        {
          "output_type": "stream",
          "text": [
            "4\n",
            "4\n"
          ],
          "name": "stdout"
        }
      ]
    },
    {
      "cell_type": "code",
      "metadata": {
        "id": "R3RHaoYKMLua",
        "colab_type": "code",
        "colab": {
          "base_uri": "https://localhost:8080/",
          "height": 35
        },
        "outputId": "41e3d536-a112-4c91-fb82-fa271a4eeb41"
      },
      "source": [
        "class Employee:\n",
        "  \n",
        "  raise_amount = 1.04\n",
        "  \n",
        "  def __init__(self, first, last, pay):\n",
        "    self.first = first\n",
        "    self.last = last\n",
        "    self.pay = pay\n",
        "    self.email = first + '.' + last + '@zoam.com'\n",
        "  \n",
        "  def fullname(self):              \n",
        "    return '{} {}'.format(self.first, self.last)\n",
        "  \n",
        "  def apply_raise(self):\n",
        "    self.pay = int(self.pay * self.raise_amount)\n",
        "    \n",
        "  def __repr__(self):\n",
        "    return \"Employee('{}', '{}', '{}')\".format(self.first,self.last,self.pay)\n",
        "  \n",
        "  def __str__(self):\n",
        "    return '{} - {}'.format(self.fullname(),self.email)\n",
        "  \n",
        "  def __add__(self,other):\n",
        "    return self.pay + other.pay\n",
        "  \n",
        "  def __len__(self):\n",
        "    return len(self.fullname())\n",
        "    \n",
        "\n",
        "    \n",
        "emp_1 = Employee('baval', 'preet', 50000)\n",
        "emp_2 = Employee('sam', 'preet', 60000)\n",
        "\n",
        "print(len(emp_1))"
      ],
      "execution_count": 15,
      "outputs": [
        {
          "output_type": "stream",
          "text": [
            "11\n"
          ],
          "name": "stdout"
        }
      ]
    }
  ]
}