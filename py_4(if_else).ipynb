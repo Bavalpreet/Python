{
  "nbformat": 4,
  "nbformat_minor": 0,
  "metadata": {
    "colab": {
      "name": "py(if/else).ipynb",
      "version": "0.3.2",
      "provenance": [],
      "collapsed_sections": []
    },
    "kernelspec": {
      "name": "python3",
      "display_name": "Python 3"
    }
  },
  "cells": [
    {
      "cell_type": "code",
      "metadata": {
        "id": "tFF373Gy6rw_",
        "colab_type": "code",
        "colab": {
          "base_uri": "https://localhost:8080/",
          "height": 52
        },
        "outputId": "49dcaab8-3687-4bca-85cd-13e7797f7ca7"
      },
      "source": [
        "#1. leap year or not\n",
        "yr = int(input('enter the year you want to check'))\n",
        "if(yr%4 == 0):\n",
        "    if(yr%100 == 0):\n",
        "        if(yr%400 == 0):\n",
        "            print('It is a leap year')\n",
        "        else:\n",
        "            print('Not a leap year')\n",
        "    else:\n",
        "        print('Not a leap year')\n",
        "else:\n",
        "    print('Not a leap year')\n"
      ],
      "execution_count": 1,
      "outputs": [
        {
          "output_type": "stream",
          "text": [
            "enter the year you want to check2000\n",
            "It is a leap year\n"
          ],
          "name": "stdout"
        }
      ]
    },
    {
      "cell_type": "code",
      "metadata": {
        "id": "ZdKt9ZjK63i6",
        "colab_type": "code",
        "colab": {
          "base_uri": "https://localhost:8080/",
          "height": 104
        },
        "outputId": "1b0556ce-32b7-40b9-d8d6-f6c51d3eeb21"
      },
      "source": [
        "#2.sqaure or a rectangle\n",
        "a = int(input('Enter length'))\n",
        "b = int(input('Enter breadth'))\n",
        "c = int(input('Enter length'))\n",
        "d = int(input('Enter breadth'))\n",
        "if(a == c and b == d and a is not b):\n",
        "    print('Rectangle')\n",
        "elif(a == b and b == c and c== d and d ==a):\n",
        "    print('Sqaure')"
      ],
      "execution_count": 2,
      "outputs": [
        {
          "output_type": "stream",
          "text": [
            "Enter length45\n",
            "Enter breadth65\n",
            "Enter length45\n",
            "Enter breadth65\n",
            "Rectangle\n"
          ],
          "name": "stdout"
        }
      ]
    },
    {
      "cell_type": "code",
      "metadata": {
        "id": "hAK_5fHY67g0",
        "colab_type": "code",
        "colab": {
          "base_uri": "https://localhost:8080/",
          "height": 104
        },
        "outputId": "21b44910-3be7-46f3-c5f1-71b3dcf21c3f"
      },
      "source": [
        "#3.oldest and youngest\n",
        "x = int(input('enter age of 1st person'))\n",
        "y = int(input('enter age of 2nd person'))\n",
        "z = int(input('enter age of 3rd person'))\n",
        "if(x >= y):\n",
        "    if(x >= z):\n",
        "        print('1st is the oldest')\n",
        "    elif(z >= x):\n",
        "        print('3rd is the oldest')\n",
        "else:\n",
        "    if(y >= z):\n",
        "        print('2nd is the oldest')\n",
        "if(x <= y):\n",
        "    if(x <= z):\n",
        "        print('1st is the youngest')\n",
        "    elif(z <= x):\n",
        "        print('3rd is the youngest')\n",
        "else:\n",
        "    if(y <= z):\n",
        "        print('2nd is the youngest')"
      ],
      "execution_count": 3,
      "outputs": [
        {
          "output_type": "stream",
          "text": [
            "enter age of 1st person45\n",
            "enter age of 2nd person25\n",
            "enter age of 3rd person75\n",
            "3rd is the oldest\n",
            "2nd is the youngest\n"
          ],
          "name": "stdout"
        }
      ]
    }
  ]
}