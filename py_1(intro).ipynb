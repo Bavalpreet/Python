{
  "nbformat": 4,
  "nbformat_minor": 0,
  "metadata": {
    "colab": {
      "name": "py-1(intro).ipynb",
      "version": "0.3.2",
      "provenance": []
    },
    "kernelspec": {
      "name": "python3",
      "display_name": "Python 3"
    }
  },
  "cells": [
    {
      "metadata": {
        "id": "gAYPeaEiMWBV",
        "colab_type": "code",
        "colab": {
          "base_uri": "https://localhost:8080/",
          "height": 34
        },
        "outputId": "38ed337d-32f2-4a03-edde-9e8f1befcb25"
      },
      "cell_type": "code",
      "source": [
        "#write something\n",
        "print('Hi! Wade') # this will print the statement written in inverted commas\n"
      ],
      "execution_count": 1,
      "outputs": [
        {
          "output_type": "stream",
          "text": [
            "Hi! Wade\n"
          ],
          "name": "stdout"
        }
      ]
    },
    {
      "metadata": {
        "id": "KKeV77e-MeNe",
        "colab_type": "code",
        "colab": {
          "base_uri": "https://localhost:8080/",
          "height": 34
        },
        "outputId": "50c78ca1-3b8c-41e4-e598-79f4cafa87e3"
      },
      "cell_type": "code",
      "source": [
        "#2. Join strings\n",
        "a = 'Dead'\n",
        "b = 'Pool'\n",
        "print(a+b)"
      ],
      "execution_count": 2,
      "outputs": [
        {
          "output_type": "stream",
          "text": [
            "DeadPool\n"
          ],
          "name": "stdout"
        }
      ]
    },
    {
      "metadata": {
        "id": "Mg-ynM1zMncc",
        "colab_type": "code",
        "colab": {
          "base_uri": "https://localhost:8080/",
          "height": 34
        },
        "outputId": "8b966c2a-8c4c-492c-9e00-8b965c826662"
      },
      "cell_type": "code",
      "source": [
        "#3.print variable values\n",
        "a = 2.05\n",
        "print(a)"
      ],
      "execution_count": 5,
      "outputs": [
        {
          "output_type": "stream",
          "text": [
            "2.05\n"
          ],
          "name": "stdout"
        }
      ]
    },
    {
      "metadata": {
        "id": "67MdMThOMuJd",
        "colab_type": "code",
        "colab": {
          "base_uri": "https://localhost:8080/",
          "height": 68
        },
        "outputId": "86ce0495-94c0-4db7-f306-35fd3513658e"
      },
      "cell_type": "code",
      "source": [
        "#5.Placeholders\n",
        "print('This is float:%f'%(4.5))\n",
        "print('This is float:%2f'%(4.5))\n",
        "print('This is float:%7f'%(4.5))"
      ],
      "execution_count": 6,
      "outputs": [
        {
          "output_type": "stream",
          "text": [
            "This is float:4.500000\n",
            "This is float:4.500000\n",
            "This is float:4.500000\n"
          ],
          "name": "stdout"
        }
      ]
    },
    {
      "metadata": {
        "id": "-FZRU56WM8ZP",
        "colab_type": "code",
        "colab": {
          "base_uri": "https://localhost:8080/",
          "height": 51
        },
        "outputId": "1bc90824-6c6c-4064-871f-56f08cd8fcac"
      },
      "cell_type": "code",
      "source": [
        "#6.Fill in the blanks\n",
        "input(\"My name is \")"
      ],
      "execution_count": 7,
      "outputs": [
        {
          "output_type": "stream",
          "text": [
            "My name is baval\n"
          ],
          "name": "stdout"
        },
        {
          "output_type": "execute_result",
          "data": {
            "text/plain": [
              "'baval'"
            ]
          },
          "metadata": {
            "tags": []
          },
          "execution_count": 7
        }
      ]
    }
  ]
}