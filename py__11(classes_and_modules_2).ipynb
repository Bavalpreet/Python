{
  "nbformat": 4,
  "nbformat_minor": 0,
  "metadata": {
    "colab": {
      "name": "py__11(classes_and_modules_2).ipynb",
      "version": "0.3.2",
      "provenance": [],
      "collapsed_sections": []
    },
    "kernelspec": {
      "name": "python3",
      "display_name": "Python 3"
    }
  },
  "cells": [
    {
      "cell_type": "code",
      "metadata": {
        "id": "xiaV5qZOYYer",
        "colab_type": "code",
        "colab": {
          "base_uri": "https://localhost:8080/",
          "height": 52
        },
        "outputId": "3578fe78-66a6-4121-bf9f-c55ece4e4269"
      },
      "source": [
        "#INHERITANCE - CREATING SUBCLASS\n",
        "class Employee:\n",
        "  \n",
        "  raise_amount = 1.04\n",
        "  \n",
        "  def __init__(self, first, last, pay):\n",
        "    self.first = first\n",
        "    self.last = last\n",
        "    self.pay = pay\n",
        "    self.email = first + '.' + last + '@zoam.com'\n",
        "  \n",
        "  def fullname(self):              \n",
        "    return '{} {}'.format(self.first, self.last)\n",
        "  \n",
        "  def apply_raise(self):\n",
        "    self.pay = int(self.pay * self.raise_amount)\n",
        "    \n",
        "class Developer(Employee):\n",
        "  pass\n",
        "\n",
        "   \n",
        "dev_1 = Employee('baval', 'preet', 50000)\n",
        "dev_2 = Employee('sam', 'preet', 60000)\n",
        "\n",
        "print(dev_1.email) \n",
        "print(dev_2.email) "
      ],
      "execution_count": 1,
      "outputs": [
        {
          "output_type": "stream",
          "text": [
            "baval.preet@zoam.com\n",
            "sam.preet@zoam.com\n"
          ],
          "name": "stdout"
        }
      ]
    },
    {
      "cell_type": "code",
      "metadata": {
        "id": "YBArePXcZxYn",
        "colab_type": "code",
        "colab": {
          "base_uri": "https://localhost:8080/",
          "height": 52
        },
        "outputId": "3d7d3bd4-212b-43f5-cd7f-c85529a646d0"
      },
      "source": [
        "#INHERITANCE - CREATING SUBCLASS\n",
        "class Employee:\n",
        "  \n",
        "  raise_amount = 1.04\n",
        "  \n",
        "  def __init__(self, first, last, pay):\n",
        "    self.first = first\n",
        "    self.last = last\n",
        "    self.pay = pay\n",
        "    self.email = first + '.' + last + '@zoam.com'\n",
        "  \n",
        "  def fullname(self):              \n",
        "    return '{} {}'.format(self.first, self.last)\n",
        "  \n",
        "  def apply_raise(self):\n",
        "    self.pay = int(self.pay * self.raise_amount)\n",
        "    \n",
        "class Developer(Employee):\n",
        "  pass\n",
        "\n",
        "   \n",
        "dev_1 = Developer('baval', 'preet', 50000)\n",
        "dev_2 = Developer('sam', 'preet', 60000)\n",
        "\n",
        "print(dev_1.email) \n",
        "print(dev_2.email) "
      ],
      "execution_count": 2,
      "outputs": [
        {
          "output_type": "stream",
          "text": [
            "baval.preet@zoam.com\n",
            "sam.preet@zoam.com\n"
          ],
          "name": "stdout"
        }
      ]
    },
    {
      "cell_type": "code",
      "metadata": {
        "id": "TZloD7kka1l7",
        "colab_type": "code",
        "colab": {
          "base_uri": "https://localhost:8080/",
          "height": 572
        },
        "outputId": "02af488e-3384-4917-d4a5-4c397155ebc8"
      },
      "source": [
        "class Employee:\n",
        "  \n",
        "  raise_amount = 1.04\n",
        "  \n",
        "  def __init__(self, first, last, pay):\n",
        "    self.first = first\n",
        "    self.last = last\n",
        "    self.pay = pay\n",
        "    self.email = first + '.' + last + '@zoam.com'\n",
        "  \n",
        "  def fullname(self):              \n",
        "    return '{} {}'.format(self.first, self.last)\n",
        "  \n",
        "  def apply_raise(self):\n",
        "    self.pay = int(self.pay * self.raise_amount)\n",
        "    \n",
        "class Developer(Employee):\n",
        "  pass\n",
        "\n",
        "   \n",
        "dev_1 = Employee('baval', 'preet', 50000)\n",
        "dev_2 = Employee('sam', 'preet', 60000)\n",
        "\n",
        "print(help(Developer))\n",
        "#print(dev_1.email) \n",
        "#print(dev_2.email) "
      ],
      "execution_count": 3,
      "outputs": [
        {
          "output_type": "stream",
          "text": [
            "Help on class Developer in module __main__:\n",
            "\n",
            "class Developer(Employee)\n",
            " |  Method resolution order:\n",
            " |      Developer\n",
            " |      Employee\n",
            " |      builtins.object\n",
            " |  \n",
            " |  Methods inherited from Employee:\n",
            " |  \n",
            " |  __init__(self, first, last, pay)\n",
            " |      Initialize self.  See help(type(self)) for accurate signature.\n",
            " |  \n",
            " |  apply_raise(self)\n",
            " |  \n",
            " |  fullname(self)\n",
            " |  \n",
            " |  ----------------------------------------------------------------------\n",
            " |  Data descriptors inherited from Employee:\n",
            " |  \n",
            " |  __dict__\n",
            " |      dictionary for instance variables (if defined)\n",
            " |  \n",
            " |  __weakref__\n",
            " |      list of weak references to the object (if defined)\n",
            " |  \n",
            " |  ----------------------------------------------------------------------\n",
            " |  Data and other attributes inherited from Employee:\n",
            " |  \n",
            " |  raise_amount = 1.04\n",
            "\n",
            "None\n"
          ],
          "name": "stdout"
        }
      ]
    },
    {
      "cell_type": "markdown",
      "metadata": {
        "id": "hpbT3aPAarts",
        "colab_type": "text"
      },
      "source": [
        "Every class in python inherits from builtins.object class\n",
        "\n",
        "\n",
        "print(help(Developer)) this function will give you the complete about from where you get attributes,methods and data"
      ]
    },
    {
      "cell_type": "code",
      "metadata": {
        "id": "zo6ZDeWucTdc",
        "colab_type": "code",
        "colab": {
          "base_uri": "https://localhost:8080/",
          "height": 52
        },
        "outputId": "e2d2a987-e0e7-412e-ebe7-508109cdc57d"
      },
      "source": [
        "class Employee:\n",
        "  \n",
        "  raise_amount = 1.04\n",
        "  \n",
        "  def __init__(self, first, last, pay):\n",
        "    self.first = first\n",
        "    self.last = last\n",
        "    self.pay = pay\n",
        "    self.email = first + '.' + last + '@zoam.com'\n",
        "  \n",
        "  def fullname(self):              \n",
        "    return '{} {}'.format(self.first, self.last)\n",
        "  \n",
        "  def apply_raise(self):\n",
        "    self.pay = int(self.pay * self.raise_amount)\n",
        "    \n",
        "class Developer(Employee):\n",
        "  pass\n",
        "\n",
        "   \n",
        "dev_1 = Developer('baval', 'preet', 50000)\n",
        "dev_2 = Developer('sam', 'preet', 60000)\n",
        "\n",
        "print(dev_1.pay)\n",
        "dev_1.apply_raise()\n",
        "print(dev_1.pay) "
      ],
      "execution_count": 4,
      "outputs": [
        {
          "output_type": "stream",
          "text": [
            "50000\n",
            "52000\n"
          ],
          "name": "stdout"
        }
      ]
    },
    {
      "cell_type": "code",
      "metadata": {
        "id": "i9tGFyZhcvvz",
        "colab_type": "code",
        "colab": {
          "base_uri": "https://localhost:8080/",
          "height": 52
        },
        "outputId": "20126721-c312-41d3-e558-859c18a0db36"
      },
      "source": [
        "#IF WE WANT TO CHANGE THE RAISE AMOUNT IN THE DEVELOPER CLASS\n",
        "class Employee:\n",
        "  \n",
        "  raise_amount = 1.04\n",
        "  \n",
        "  def __init__(self, first, last, pay):\n",
        "    self.first = first\n",
        "    self.last = last\n",
        "    self.pay = pay\n",
        "    self.email = first + '.' + last + '@zoam.com'\n",
        "  \n",
        "  def fullname(self):              \n",
        "    return '{} {}'.format(self.first, self.last)\n",
        "  \n",
        "  def apply_raise(self):\n",
        "    self.pay = int(self.pay * self.raise_amount)\n",
        "    \n",
        "class Developer(Employee):\n",
        "  raise_amount = 1.10\n",
        "\n",
        "   \n",
        "dev_1 = Developer('baval', 'preet', 50000)\n",
        "dev_2 = Developer('sam', 'preet', 60000)\n",
        "\n",
        "print(dev_1.pay)\n",
        "dev_1.apply_raise()\n",
        "print(dev_1.pay) "
      ],
      "execution_count": 5,
      "outputs": [
        {
          "output_type": "stream",
          "text": [
            "50000\n",
            "55000\n"
          ],
          "name": "stdout"
        }
      ]
    },
    {
      "cell_type": "code",
      "metadata": {
        "id": "8PX4M3NHdMox",
        "colab_type": "code",
        "colab": {
          "base_uri": "https://localhost:8080/",
          "height": 69
        },
        "outputId": "0b7b83d4-ee91-4352-de37-83029fd5d147"
      },
      "source": [
        "#SOMETIMES WE WANT TO INITIATE THE MORE INFORMATION IN THE CHILD CLASS THAN PARENT CLASS \n",
        "#SO WE WILL GOING TO ADD ONE NEW ATTRIBUTE IN DEVELOPER CLASS OF PROGRAMMING LANGUAGE\n",
        "class Employee:\n",
        "  \n",
        "  raise_amount = 1.04\n",
        "  \n",
        "  def __init__(self, first, last, pay):\n",
        "    self.first = first\n",
        "    self.last = last\n",
        "    self.pay = pay\n",
        "    self.email = first + '.' + last + '@zoam.com'\n",
        "  \n",
        "  def fullname(self):              \n",
        "    return '{} {}'.format(self.first, self.last)\n",
        "  \n",
        "  def apply_raise(self):\n",
        "    self.pay = int(self.pay * self.raise_amount)\n",
        "    \n",
        "class Developer(Employee):\n",
        "  raise_amount = 1.10\n",
        "  def __init__(self, first, last, pay, prog_lang):\n",
        "    super().__init__(first, last, pay)\n",
        "    self.prog_lang = prog_lang\n",
        "\n",
        "    \n",
        "class Manager(Employee):\n",
        "  def __init__(self, first, last, pay, employees = None):\n",
        "    super().__init__(first, last, pay)\n",
        "    if employees is None:\n",
        "      self.employees = []\n",
        "    else:\n",
        "      self.employees = employees\n",
        "      \n",
        "  def add_emp(self, emp):\n",
        "    if emp not in self.employees:\n",
        "      self.employees.append(emp)\n",
        "  \n",
        "  def remove_emp(self, emp):\n",
        "    if emp in self.employees:\n",
        "      self.employees.remove(emp)\n",
        "  \n",
        "  def print_emps(self):\n",
        "    for emp in self.employees:\n",
        "      print('-->', emp.fullname())\n",
        "  \n",
        "       \n",
        "dev_1 = Developer('baval', 'preet', 50000, 'python')\n",
        "dev_2 = Developer('sam', 'preet', 60000, 'java')\n",
        "\n",
        "\n",
        "mgr_1 = Manager('sue', 'smith', '90000', [dev_1])\n",
        "print(mgr_1.email)\n",
        "mgr_1.add_emp(dev_2)\n",
        "mgr_1.print_emps()\n"
      ],
      "execution_count": 8,
      "outputs": [
        {
          "output_type": "stream",
          "text": [
            "sue.smith@zoam.com\n",
            "--> baval preet\n",
            "--> sam preet\n"
          ],
          "name": "stdout"
        }
      ]
    },
    {
      "cell_type": "markdown",
      "metadata": {
        "id": "HPWPzBrJSboL",
        "colab_type": "text"
      },
      "source": [
        "super().__init__(first, last, pay)         \n",
        "\n",
        "can also be written as \n",
        "\n",
        "  Employee.__init__(self, first, last, pay)\n",
        "  \n",
        "  they both performs same function"
      ]
    },
    {
      "cell_type": "code",
      "metadata": {
        "id": "tou-H546sCIy",
        "colab_type": "code",
        "colab": {
          "base_uri": "https://localhost:8080/",
          "height": 121
        },
        "outputId": "e129dda0-5484-47a1-86d6-1d858dadbc4a"
      },
      "source": [
        "class Employee:\n",
        "  \n",
        "  raise_amount = 1.04\n",
        "  \n",
        "  def __init__(self, first, last, pay):\n",
        "    self.first = first\n",
        "    self.last = last\n",
        "    self.pay = pay\n",
        "    self.email = first + '.' + last + '@zoam.com'\n",
        "  \n",
        "  def fullname(self):              \n",
        "    return '{} {}'.format(self.first, self.last)\n",
        "  \n",
        "  def apply_raise(self):\n",
        "    self.pay = int(self.pay * self.raise_amount)\n",
        "    \n",
        "class Developer(Employee):\n",
        "  raise_amount = 1.10\n",
        "  def __init__(self, first, last, pay, prog_lang):\n",
        "    super().__init__(first, last, pay)\n",
        "    self.prog_lang = prog_lang\n",
        "\n",
        "    \n",
        "class Manager(Employee):\n",
        "  def __init__(self, first, last, pay, employees = None):\n",
        "    super().__init__(first, last, pay)\n",
        "    if employees is None:\n",
        "      self.employees = []\n",
        "    else:\n",
        "      self.employees = employees\n",
        "      \n",
        "  def add_emp(self, emp):\n",
        "    if emp not in self.employees:\n",
        "      self.employees.append(emp)\n",
        "  \n",
        "  def remove_emp(self, emp):\n",
        "    if emp in self.employees:\n",
        "      self.employees.remove(emp)\n",
        "  \n",
        "  def print_emps(self):\n",
        "    for emp in self.employees:\n",
        "      print('-->', emp.fullname())\n",
        "  \n",
        "       \n",
        "dev_1 = Developer('baval', 'preet', 50000, 'python')\n",
        "dev_2 = Developer('sam', 'preet', 60000, 'java')\n",
        "\n",
        "\n",
        "mgr_1 = Manager('sue', 'smith', '90000', [dev_1])\n",
        "\n",
        "print(isinstance(mgr_1, Manager))#gives value true or false \n",
        "print(isinstance(mgr_1, Employee))\n",
        "print(isinstance(mgr_1, Developer))\n",
        "print(issubclass(Developer, Employee))\n",
        "print(issubclass(Manager, Employee))\n",
        "print(issubclass(Manager, Developer))"
      ],
      "execution_count": 12,
      "outputs": [
        {
          "output_type": "stream",
          "text": [
            "True\n",
            "True\n",
            "False\n",
            "True\n",
            "True\n",
            "False\n"
          ],
          "name": "stdout"
        }
      ]
    }
  ]
}