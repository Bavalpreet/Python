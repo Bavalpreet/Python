{
  "nbformat": 4,
  "nbformat_minor": 0,
  "metadata": {
    "colab": {
      "name": "py__11(classes_and_modules_2).ipynb",
      "version": "0.3.2",
      "provenance": [],
      "collapsed_sections": []
    },
    "kernelspec": {
      "name": "python3",
      "display_name": "Python 3"
    }
  },
  "cells": [
    {
      "cell_type": "code",
      "metadata": {
        "id": "HPli9nP3ulCc",
        "colab_type": "code",
        "colab": {
          "base_uri": "https://localhost:8080/",
          "height": 69
        },
        "outputId": "2653e8c6-89c7-4ed1-f2eb-ba9834819248"
      },
      "source": [
        "#DIFFERENCE BETWEEN REGULAR METHOD, CLASS METHOD AND STATIC METHOD\n",
        "class Employee:\n",
        "  \n",
        "  num_of_emps = 0\n",
        "  raise_amount = 1.04#class variable\n",
        "  \n",
        "  def __init__(self, first, last, pay):\n",
        "    self.first = first\n",
        "    self.last = last\n",
        "    self.pay = pay\n",
        "    self.email = first + '.' + last + '@zoam.com'\n",
        "    Employee.num_of_emps += 1\n",
        "  \n",
        "  def fullname(self):              \n",
        "    return '{} {}'.format(self.first, self.last)\n",
        "  def apply_raise(self):\n",
        "    self.pay = int(self.pay * self.raise_amount)\n",
        "    \n",
        "    \n",
        "  @classmethod\n",
        "  def set_raise_amount(cls, amount):\n",
        "    cls.raise_amount = amount\n",
        "\n",
        "Employee.set_raise_amount(1.05) #here we are using class method to raise the amount\n",
        "\n",
        "emp_1 = Employee('baval', 'preet', 50000)\n",
        "emp_2 = Employee('sam', 'preet', 60000)\n",
        "print(Employee.raise_amount)\n",
        "\n",
        "print(emp_1.raise_amount)\n",
        "print(emp_2.raise_amount)\n",
        "\n",
        "#print(emp_1.fullname()) \n",
        "#print(emp_2.fullname()) \n",
        "#print(Employee.fullname(emp_2)) "
      ],
      "execution_count": 7,
      "outputs": [
        {
          "output_type": "stream",
          "text": [
            "1.05\n",
            "1.05\n",
            "1.05\n"
          ],
          "name": "stdout"
        }
      ]
    },
    {
      "cell_type": "markdown",
      "metadata": {
        "id": "7EM4YGG2wGMD",
        "colab_type": "text"
      },
      "source": [
        "regular methods in the class automatically take instance as the first argument and by convention we call it self.\n",
        "\n",
        "you can use the @classmethod decorator for classmethod definition.\n",
        "\n",
        "The syntax is:\n",
        "\n",
        "@classmethod\n",
        "\n",
        "def func(cls, args...)"
      ]
    },
    {
      "cell_type": "code",
      "metadata": {
        "id": "TeR3f0fOdFmo",
        "colab_type": "code",
        "colab": {
          "base_uri": "https://localhost:8080/",
          "height": 52
        },
        "outputId": "f47974b0-3714-44c4-e8eb-67602c22bb96"
      },
      "source": [
        "class Employee:\n",
        "  \n",
        "  num_of_emps = 0\n",
        "  raise_amount = 1.04#class variable\n",
        "  \n",
        "  def __init__(self, first, last, pay):\n",
        "    self.first = first\n",
        "    self.last = last\n",
        "    self.pay = pay\n",
        "    self.email = first + '.' + last + '@zoam.com'\n",
        "    Employee.num_of_emps += 1\n",
        "  \n",
        "  def fullname(self):              \n",
        "    return '{} {}'.format(self.first, self.last)\n",
        "  def apply_raise(self):\n",
        "    self.pay = int(self.pay * self.raise_amount)\n",
        "    \n",
        "    \n",
        "  @classmethod\n",
        "  def set_raise_amount(cls, amount):\n",
        "    cls.raise_amount = amount\n",
        "    \n",
        "    \n",
        "\n",
        "Employee.set_raise_amount(1.05) #here we are using class method to raise the amount\n",
        "\n",
        "emp_1 = Employee('baval', 'preet', 50000)\n",
        "emp_2 = Employee('sam', 'preet', 60000)\n",
        "\n",
        "emp_str_1 = 'johny-sins-70000'\n",
        "emp_str_2 = 'sunny-leone-80000'\n",
        "emp_str_3 = 'Mia-khalifa-70000'\n",
        "\n",
        "first, last, pay = emp_str_1.split('-')\n",
        "new_emp_1 = Employee(first, last, pay)\n",
        "\n",
        "\n",
        "\n",
        "print(new_emp_1.email)\n",
        "print(new_emp_1.pay)\n",
        "\n"
      ],
      "execution_count": 2,
      "outputs": [
        {
          "output_type": "stream",
          "text": [
            "johny.sins@zoam.com\n",
            "70000\n"
          ],
          "name": "stdout"
        }
      ]
    },
    {
      "cell_type": "markdown",
      "metadata": {
        "id": "Qgy5xGqkWmcu",
        "colab_type": "text"
      },
      "source": [
        "rather than writing this code for every string we will create a class method ."
      ]
    },
    {
      "cell_type": "code",
      "metadata": {
        "id": "oHOkCeiqWGgO",
        "colab_type": "code",
        "colab": {
          "base_uri": "https://localhost:8080/",
          "height": 52
        },
        "outputId": "bbd4ca0e-25dd-4517-bad9-f6af97e5cc04"
      },
      "source": [
        "class Employee:\n",
        "  \n",
        "  num_of_emps = 0\n",
        "  raise_amount = 1.04#class variable\n",
        "  \n",
        "  def __init__(self, first, last, pay):\n",
        "    self.first = first\n",
        "    self.last = last\n",
        "    self.pay = pay\n",
        "    self.email = first + '.' + last + '@zoam.com'\n",
        "    Employee.num_of_emps += 1\n",
        "  \n",
        "  def fullname(self):              \n",
        "    return '{} {}'.format(self.first, self.last)\n",
        "  def apply_raise(self):\n",
        "    self.pay = int(self.pay * self.raise_amount)\n",
        "    \n",
        "    \n",
        "  @classmethod\n",
        "  def set_raise_amount(cls, amount):\n",
        "    cls.raise_amount = amount\n",
        "    \n",
        "  @classmethod\n",
        "  def from_string(cls, emp_str):\n",
        "    first, last, pay = emp_str.split('-')\n",
        "    return cls(first, last, pay)#this line will create the new employee\n",
        "    \n",
        "\n",
        "Employee.set_raise_amount(1.05) #here we are using class method to raise the amount\n",
        "\n",
        "emp_1 = Employee('baval', 'preet', 50000)\n",
        "emp_2 = Employee('sam', 'preet', 60000)\n",
        "\n",
        "emp_str_1 = 'johny-sins-70000'\n",
        "emp_str_2 = 'sunny-leone-80000'\n",
        "emp_str_3 = 'Mia-khalifa-70000'\n",
        "\n",
        "new_emp_1 = Employee.from_string(emp_str_1)#here from string is constructor\n",
        "\n",
        "print(new_emp_1.email)\n",
        "print(new_emp_1.pay)\n"
      ],
      "execution_count": 3,
      "outputs": [
        {
          "output_type": "stream",
          "text": [
            "johny.sins@zoam.com\n",
            "70000\n"
          ],
          "name": "stdout"
        }
      ]
    },
    {
      "cell_type": "code",
      "metadata": {
        "id": "rx9lUdMxXcCP",
        "colab_type": "code",
        "colab": {}
      },
      "source": [
        "#static method"
      ],
      "execution_count": 0,
      "outputs": []
    },
    {
      "cell_type": "markdown",
      "metadata": {
        "id": "NkaV0Aw8Xc5B",
        "colab_type": "text"
      },
      "source": [
        "Static methods don't paas anything automatically in the argument\n",
        "\n",
        "they have decorator @staticmethod"
      ]
    },
    {
      "cell_type": "code",
      "metadata": {
        "id": "3xmrBCWzZZEC",
        "colab_type": "code",
        "colab": {
          "base_uri": "https://localhost:8080/",
          "height": 35
        },
        "outputId": "33143835-8fcb-47d7-e49c-3529ef1bc6c6"
      },
      "source": [
        "class Employee:\n",
        "  \n",
        "  num_of_emps = 0\n",
        "  raise_amount = 1.04#class variable\n",
        "  \n",
        "  def __init__(self, first, last, pay):\n",
        "    self.first = first\n",
        "    self.last = last\n",
        "    self.pay = pay\n",
        "    self.email = first + '.' + last + '@zoam.com'\n",
        "    Employee.num_of_emps += 1\n",
        "  \n",
        "  def fullname(self):              \n",
        "    return '{} {}'.format(self.first, self.last)\n",
        "  def apply_raise(self):\n",
        "    self.pay = int(self.pay * self.raise_amount)\n",
        "    \n",
        "    \n",
        "  @classmethod\n",
        "  def set_raise_amount(cls, amount):\n",
        "    cls.raise_amount = amount\n",
        "    \n",
        "  @classmethod\n",
        "  def from_string(cls, emp_str):\n",
        "    first, last, pay = emp_str.split('-')\n",
        "    return cls(first, last, pay)#this line will create the new employee\n",
        "  \n",
        "  @staticmethod\n",
        "  def is_workday(day):\n",
        "    if day.weekday() == 5 or day.weekday() == 6:\n",
        "      return False\n",
        "    return True\n",
        "    \n",
        "\n",
        "Employee.set_raise_amount(1.05) #here we are using class method to raise the amount\n",
        "\n",
        "emp_1 = Employee('baval', 'preet', 50000)\n",
        "emp_2 = Employee('sam', 'preet', 60000)\n",
        "\n",
        "import datetime\n",
        "my_date = datetime.date(2019, 7, 10)\n",
        "print(Employee.is_workday(my_date))"
      ],
      "execution_count": 5,
      "outputs": [
        {
          "output_type": "stream",
          "text": [
            "True\n"
          ],
          "name": "stdout"
        }
      ]
    },
    {
      "cell_type": "markdown",
      "metadata": {
        "id": "MwFMdqjzaAvf",
        "colab_type": "text"
      },
      "source": [
        "python dates have weekday method where monday = 0 and sunday= 6 and all the other days inbetween"
      ]
    }
  ]
}