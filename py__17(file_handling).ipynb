{
  "nbformat": 4,
  "nbformat_minor": 0,
  "metadata": {
    "colab": {
      "name": "py__17(file handling).ipynb",
      "version": "0.3.2",
      "provenance": []
    },
    "kernelspec": {
      "name": "python3",
      "display_name": "Python 3"
    }
  },
  "cells": [
    {
      "cell_type": "markdown",
      "metadata": {
        "id": "_pr2jFuAcbHT",
        "colab_type": "text"
      },
      "source": [
        "# New Section"
      ]
    },
    {
      "cell_type": "code",
      "metadata": {
        "id": "BE9RjwVzcl2L",
        "colab_type": "code",
        "colab": {}
      },
      "source": [
        "filename = 'xyz'  #here xyz is name of the text file lying in the same directory\n",
        "f = open(filename, 'r')\n",
        "print(f.read())"
      ],
      "execution_count": 0,
      "outputs": []
    },
    {
      "cell_type": "markdown",
      "metadata": {
        "id": "ywtg34AhfUUP",
        "colab_type": "text"
      },
      "source": [
        "(https://www.w3schools.com/python/showpython.asp?filename=demo_file_open)"
      ]
    },
    {
      "cell_type": "markdown",
      "metadata": {
        "id": "9WAogwOknNCT",
        "colab_type": "text"
      },
      "source": [
        "Python provides us with various modes that help us to use the file object.Including a mode argument is optional because a default value of r will be assumed if it is omitted. The r value stands for read mode, which is just one of many.\n",
        "\n",
        "”r” –Read mode which is used when the file is only being read\n",
        "\n",
        "”w” – Write mode which is used to edit and write new information to the file (any existing files with the same name will be erased when this mode is activated)\n",
        "\n",
        "”a” –Appending mode, which is used to add new data to the end of the file; that is new information is automatically amended to the end\n",
        "\n",
        "”r+” – Special read and write mode, which is used to handle both actions when working with a file .\n"
      ]
    },
    {
      "cell_type": "code",
      "metadata": {
        "id": "0802XHH_gdqP",
        "colab_type": "code",
        "colab": {}
      },
      "source": [
        "filename = 'xyz'  #here xyz is name of the text file lying in the same directory\n",
        "f = open(filename, 'r')\n",
        "print(f.readlines())# method 2 for reading the lines"
      ],
      "execution_count": 0,
      "outputs": []
    },
    {
      "cell_type": "markdown",
      "metadata": {
        "id": "dIwLKFq1g7vF",
        "colab_type": "text"
      },
      "source": [
        "\n",
        "Depending on the usage we can opt for various options available to us.Below are few of the ways ,let’s explore: Note-We have our file object in a variable named ”file”.\n",
        "\n",
        "file.read()– If you need to extract a string that contains all characters in the file.\n",
        "\n",
        "file.readline()–If you want to read a file line by line.\n",
        "\n",
        "file.readlines()–If we wanted to return every line in the file and return it in the format of a list that has all the lines as its elements.\n"
      ]
    },
    {
      "cell_type": "code",
      "metadata": {
        "id": "ZubnJCdKgzEY",
        "colab_type": "code",
        "colab": {}
      },
      "source": [
        "filename = 'hw1'\n",
        "f = open(filename,'w')\n",
        "print(f.write('hello who are you?'))\n"
      ],
      "execution_count": 0,
      "outputs": []
    },
    {
      "cell_type": "code",
      "metadata": {
        "id": "gZlS8u4YpMWw",
        "colab_type": "code",
        "colab": {}
      },
      "source": [
        "filename = 'hw1'\n",
        "with open(filename,'r', encoding = 'utf-8') as f:\n",
        "  print(f.read(5))\n",
        "  print(f.tell())#it will tell our cursors's position"
      ],
      "execution_count": 0,
      "outputs": []
    },
    {
      "cell_type": "code",
      "metadata": {
        "id": "lbscJdgtrRoe",
        "colab_type": "code",
        "colab": {}
      },
      "source": [
        "filename = 'hw1'\n",
        "with open(filename,'r', encoding = 'utf-8') as f:\n",
        "  print(f.read(5))\n",
        "  print(f.tell())#it will tell our cursors's position\n",
        "  f.seek(10,0)#means 10th position from starting\n",
        "  print(f.read(5))"
      ],
      "execution_count": 0,
      "outputs": []
    },
    {
      "cell_type": "code",
      "metadata": {
        "id": "Rm18ZB1gr64y",
        "colab_type": "code",
        "colab": {}
      },
      "source": [
        "import os \n",
        "filename = 'hw1'\n",
        "with open(filename,'r', encoding = 'utf-8') as f:\n",
        "  print(f.read(5))\n",
        "  print(f.tell())#it will tell our cursors's position\n",
        "  f.seek(10,0)#means 10th position from starting\n",
        "  print(f.read(5))\n",
        "  \n",
        "os.rename('hw1', 'hw2')  #this will rename the fill from hw1 to hw2"
      ],
      "execution_count": 0,
      "outputs": []
    },
    {
      "cell_type": "code",
      "metadata": {
        "id": "AcuPEhl8sYBw",
        "colab_type": "code",
        "colab": {}
      },
      "source": [
        "import os \n",
        "filename = 'hw1'\n",
        "with open(filename,'r', encoding = 'utf-8') as f:\n",
        "  print(f.read(5))\n",
        "  print(f.tell())#it will tell our cursors's position\n",
        "  f.seek(10,0)#means 10th position from starting\n",
        "  print(f.read(5))\n",
        "  \n",
        "os.remove('hw1')  #this will remove the file"
      ],
      "execution_count": 0,
      "outputs": []
    },
    {
      "cell_type": "code",
      "metadata": {
        "id": "3ATnAQFfuXg5",
        "colab_type": "code",
        "colab": {}
      },
      "source": [
        "a = [{'name': 'rohan', 'age': 20},\n",
        "     {'name': 'sonia', 'age': 19},\n",
        "     {'name': 'aman', 'age': 28},\n",
        "     {'name': 'ruhani', 'age': 23}]# adding data in form of dictionary into a new file\n",
        "filename = 'data'\n",
        "f = open(filename, 'w')\n",
        "print(f.write(str(a)))\n",
        "f.close()\n"
      ],
      "execution_count": 0,
      "outputs": []
    },
    {
      "cell_type": "markdown",
      "metadata": {
        "id": "UabLSsGDuyLo",
        "colab_type": "text"
      },
      "source": [
        "the above method ids not a correct method of storing info in form of dictionary because when you will access the data in future it will return type str not dict."
      ]
    },
    {
      "cell_type": "code",
      "metadata": {
        "id": "tCXsSNavvDiv",
        "colab_type": "code",
        "colab": {}
      },
      "source": [
        "#correct way\n",
        "import json\n",
        "\n",
        "a = [{'name': 'rohan', 'age': 20},\n",
        "     {'name': 'sonia', 'age': 19},\n",
        "     {'name': 'aman', 'age': 28},\n",
        "     {'name': 'ruhani', 'age': 23}]# adding data in form of dictionary in list into a new file\n",
        "filename = 'data.json'\n",
        "f = open(filename, 'w')\n",
        "print(f.write(json.dumps(a)))\n",
        "f.close()\n",
        "\n"
      ],
      "execution_count": 0,
      "outputs": []
    },
    {
      "cell_type": "code",
      "metadata": {
        "id": "1i82oR_CwmQ1",
        "colab_type": "code",
        "colab": {}
      },
      "source": [
        "import json\n",
        "filename = 'data.json'\n",
        "f = open(filename, 'r')\n",
        "a = json.loads(f.read())\n",
        "print(a)\n",
        "print(type(a))\n"
      ],
      "execution_count": 0,
      "outputs": []
    },
    {
      "cell_type": "markdown",
      "metadata": {
        "id": "6G4UDvCjxKn6",
        "colab_type": "text"
      },
      "source": [
        "it will show you the type list"
      ]
    },
    {
      "cell_type": "code",
      "metadata": {
        "id": "hssKV9Jdyf_k",
        "colab_type": "code",
        "colab": {}
      },
      "source": [
        "# ques - how to access json file after opening in the browser?\n",
        "\n",
        "import requests\n",
        "a = requests.get('link')\n",
        "x = a.json#this will give us the file after parsing in x as a dictionary or as a list"
      ],
      "execution_count": 0,
      "outputs": []
    }
  ]
}