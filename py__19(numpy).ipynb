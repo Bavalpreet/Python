{
  "nbformat": 4,
  "nbformat_minor": 0,
  "metadata": {
    "colab": {
      "name": "py__19(numpy).ipynb",
      "version": "0.3.2",
      "provenance": [],
      "collapsed_sections": []
    },
    "kernelspec": {
      "name": "python3",
      "display_name": "Python 3"
    }
  },
  "cells": [
    {
      "cell_type": "code",
      "metadata": {
        "id": "w_9ZmJeFCYEG",
        "colab_type": "code",
        "outputId": "09874dea-d68e-49e2-e5f2-099b4f94ea20",
        "colab": {
          "base_uri": "https://localhost:8080/",
          "height": 52
        }
      },
      "source": [
        "import numpy as np\n",
        "arr = np.array([1,2,3])\n",
        "print(type(arr))\n",
        "print(arr)"
      ],
      "execution_count": 1,
      "outputs": [
        {
          "output_type": "stream",
          "text": [
            "<class 'numpy.ndarray'>\n",
            "[1 2 3]\n"
          ],
          "name": "stdout"
        }
      ]
    },
    {
      "cell_type": "code",
      "metadata": {
        "id": "gStY3IVcJt8G",
        "colab_type": "code",
        "outputId": "0b6bea6d-fe66-4a73-dc4a-cd9d5bc792ad",
        "colab": {
          "base_uri": "https://localhost:8080/",
          "height": 69
        }
      },
      "source": [
        "import numpy as np\n",
        "arr = np.array([1,2,3])\n",
        "print(type(arr))\n",
        "print(\"Array:\",arr)\n",
        "print(arr[0],arr[1])"
      ],
      "execution_count": 4,
      "outputs": [
        {
          "output_type": "stream",
          "text": [
            "<class 'numpy.ndarray'>\n",
            "Array: [1 2 3]\n",
            "1 2\n"
          ],
          "name": "stdout"
        }
      ]
    },
    {
      "cell_type": "code",
      "metadata": {
        "id": "nQuknNkWKTiJ",
        "colab_type": "code",
        "outputId": "630fe310-2fe6-4112-fc66-287435df9a61",
        "colab": {
          "base_uri": "https://localhost:8080/",
          "height": 52
        }
      },
      "source": [
        "import numpy as np\n",
        "arr = np.array([1,2,3])\n",
        "print(type(arr))\n",
        "print(arr.shape)"
      ],
      "execution_count": 5,
      "outputs": [
        {
          "output_type": "stream",
          "text": [
            "<class 'numpy.ndarray'>\n",
            "(3,)\n"
          ],
          "name": "stdout"
        }
      ]
    },
    {
      "cell_type": "code",
      "metadata": {
        "id": "8MXF7AfyKa4x",
        "colab_type": "code",
        "outputId": "208e9d61-30ac-47c8-ea27-a967cd40f6cb",
        "colab": {
          "base_uri": "https://localhost:8080/",
          "height": 87
        }
      },
      "source": [
        "import numpy as np\n",
        "l = [1,2,3]\n",
        "l = [l,l,l]\n",
        "arr = np.array(l)\n",
        "print(type(arr))\n",
        "print(arr)"
      ],
      "execution_count": 0,
      "outputs": [
        {
          "output_type": "stream",
          "text": [
            "<class 'numpy.ndarray'>\n",
            "[[1 2 3]\n",
            " [1 2 3]\n",
            " [1 2 3]]\n"
          ],
          "name": "stdout"
        }
      ]
    },
    {
      "cell_type": "code",
      "metadata": {
        "id": "PXvtXXcmKwmy",
        "colab_type": "code",
        "outputId": "bdcdeb7b-4c85-4f97-bea9-08148c0e7baf",
        "colab": {
          "base_uri": "https://localhost:8080/",
          "height": 52
        }
      },
      "source": [
        "import numpy as np\n",
        "l = [1,2,3]\n",
        "l = [l,l,l]\n",
        "arr = np.array(l)\n",
        "print(type(arr))\n",
        "print(arr.shape)"
      ],
      "execution_count": 0,
      "outputs": [
        {
          "output_type": "stream",
          "text": [
            "<class 'numpy.ndarray'>\n",
            "(3, 3)\n"
          ],
          "name": "stdout"
        }
      ]
    },
    {
      "cell_type": "code",
      "metadata": {
        "id": "xwi0c2OiL5Ic",
        "colab_type": "code",
        "outputId": "b96e1ab5-e66c-4f60-ff93-413ce2bf01b0",
        "colab": {
          "base_uri": "https://localhost:8080/",
          "height": 225
        }
      },
      "source": [
        "import numpy as np\n",
        "l = [1,2,3]\n",
        "l = [l,l,l]\n",
        "l = [l,l,l]\n",
        "arr = np.array(l)\n",
        "print(arr)\n",
        "print(arr.shape)"
      ],
      "execution_count": 0,
      "outputs": [
        {
          "output_type": "stream",
          "text": [
            "[[[1 2 3]\n",
            "  [1 2 3]\n",
            "  [1 2 3]]\n",
            "\n",
            " [[1 2 3]\n",
            "  [1 2 3]\n",
            "  [1 2 3]]\n",
            "\n",
            " [[1 2 3]\n",
            "  [1 2 3]\n",
            "  [1 2 3]]]\n",
            "(3, 3, 3)\n"
          ],
          "name": "stdout"
        }
      ]
    },
    {
      "cell_type": "code",
      "metadata": {
        "id": "TcxKEWeAN-vg",
        "colab_type": "code",
        "colab": {}
      },
      "source": [
        "import numpy as np\n",
        "l = [1,2,3]\n",
        "l = [l,l,l]\n",
        "l = [l,l,l]\n",
        "arr = np.array(l)\n",
        "print(arr)"
      ],
      "execution_count": 0,
      "outputs": []
    },
    {
      "cell_type": "code",
      "metadata": {
        "id": "HofUp8swnlQj",
        "colab_type": "code",
        "colab": {
          "base_uri": "https://localhost:8080/",
          "height": 52
        },
        "outputId": "db1399e0-8b87-4db5-c181-66107b1a4a8c"
      },
      "source": [
        "import numpy as np\n",
        "arr = np.array([[1,2,3]])\n",
        "print(arr)\n",
        "print(arr[0][1])"
      ],
      "execution_count": 9,
      "outputs": [
        {
          "output_type": "stream",
          "text": [
            "[[1 2 3]]\n",
            "2\n"
          ],
          "name": "stdout"
        }
      ]
    },
    {
      "cell_type": "code",
      "metadata": {
        "id": "rEhj5BL2oadn",
        "colab_type": "code",
        "colab": {
          "base_uri": "https://localhost:8080/",
          "height": 52
        },
        "outputId": "3df250ba-4346-426f-ee4a-96bec60562ff"
      },
      "source": [
        "import numpy as np\n",
        "arr = np.array([[1,2,3]])\n",
        "print(arr)\n",
        "print(arr[0,1])"
      ],
      "execution_count": 10,
      "outputs": [
        {
          "output_type": "stream",
          "text": [
            "[[1 2 3]]\n",
            "2\n"
          ],
          "name": "stdout"
        }
      ]
    },
    {
      "cell_type": "code",
      "metadata": {
        "id": "HLakmcIYoa8J",
        "colab_type": "code",
        "colab": {
          "base_uri": "https://localhost:8080/",
          "height": 69
        },
        "outputId": "5a85f11a-0d19-4536-84cd-972f7ee31f8f"
      },
      "source": [
        "arr = np.zeros((3,3))\n",
        "print(arr)"
      ],
      "execution_count": 12,
      "outputs": [
        {
          "output_type": "stream",
          "text": [
            "[[0. 0. 0.]\n",
            " [0. 0. 0.]\n",
            " [0. 0. 0.]]\n"
          ],
          "name": "stdout"
        }
      ]
    },
    {
      "cell_type": "code",
      "metadata": {
        "id": "Af5sU29SrCxI",
        "colab_type": "code",
        "colab": {
          "base_uri": "https://localhost:8080/",
          "height": 69
        },
        "outputId": "3e737182-886f-49ce-f387-5405cf96a0e2"
      },
      "source": [
        "arr = np.ones((3,3))\n",
        "print(arr)"
      ],
      "execution_count": 13,
      "outputs": [
        {
          "output_type": "stream",
          "text": [
            "[[1. 1. 1.]\n",
            " [1. 1. 1.]\n",
            " [1. 1. 1.]]\n"
          ],
          "name": "stdout"
        }
      ]
    },
    {
      "cell_type": "code",
      "metadata": {
        "id": "rFEaA67jrIcY",
        "colab_type": "code",
        "colab": {
          "base_uri": "https://localhost:8080/",
          "height": 69
        },
        "outputId": "7375bb4e-a25e-4252-854f-913e7c7b2637"
      },
      "source": [
        "arr = np.full((3,3),5)\n",
        "print(arr)"
      ],
      "execution_count": 14,
      "outputs": [
        {
          "output_type": "stream",
          "text": [
            "[[5 5 5]\n",
            " [5 5 5]\n",
            " [5 5 5]]\n"
          ],
          "name": "stdout"
        }
      ]
    },
    {
      "cell_type": "code",
      "metadata": {
        "id": "34wb9MV-rlEL",
        "colab_type": "code",
        "colab": {
          "base_uri": "https://localhost:8080/",
          "height": 69
        },
        "outputId": "0815766d-3a97-4f5a-c99d-adf9a6742368"
      },
      "source": [
        "arr = np.eye((3))\n",
        "print(arr)"
      ],
      "execution_count": 15,
      "outputs": [
        {
          "output_type": "stream",
          "text": [
            "[[1. 0. 0.]\n",
            " [0. 1. 0.]\n",
            " [0. 0. 1.]]\n"
          ],
          "name": "stdout"
        }
      ]
    },
    {
      "cell_type": "code",
      "metadata": {
        "id": "yhiVZuZIs1AW",
        "colab_type": "code",
        "colab": {
          "base_uri": "https://localhost:8080/",
          "height": 69
        },
        "outputId": "3079a8d1-ac09-4a75-f2f4-90572cf4986a"
      },
      "source": [
        "arr = np.random.random((3,3))\n",
        "print(arr)"
      ],
      "execution_count": 17,
      "outputs": [
        {
          "output_type": "stream",
          "text": [
            "[[0.97378817 0.62990678 0.83216135]\n",
            " [0.22048537 0.4752398  0.2379163 ]\n",
            " [0.26294945 0.33026768 0.5815055 ]]\n"
          ],
          "name": "stdout"
        }
      ]
    },
    {
      "cell_type": "code",
      "metadata": {
        "id": "2N54lX78vAH1",
        "colab_type": "code",
        "colab": {
          "base_uri": "https://localhost:8080/",
          "height": 69
        },
        "outputId": "f8c363df-d172-45f0-d6aa-9b003bdbe6e3"
      },
      "source": [
        "arr = np.arange(15).reshape(3,5)#range of array from 0 to 15 \n",
        "print(arr)"
      ],
      "execution_count": 18,
      "outputs": [
        {
          "output_type": "stream",
          "text": [
            "[[ 0  1  2  3  4]\n",
            " [ 5  6  7  8  9]\n",
            " [10 11 12 13 14]]\n"
          ],
          "name": "stdout"
        }
      ]
    },
    {
      "cell_type": "code",
      "metadata": {
        "id": "w0VaXk75fk64",
        "colab_type": "code",
        "colab": {
          "base_uri": "https://localhost:8080/",
          "height": 87
        },
        "outputId": "9b718bf4-c327-4d2d-9649-d686224f1163"
      },
      "source": [
        "arr = np.arange(15).reshape(3,5)#range of array from 0 to 15 \n",
        "print(arr)\n",
        "print(arr.ndim)"
      ],
      "execution_count": 2,
      "outputs": [
        {
          "output_type": "stream",
          "text": [
            "[[ 0  1  2  3  4]\n",
            " [ 5  6  7  8  9]\n",
            " [10 11 12 13 14]]\n",
            "2\n"
          ],
          "name": "stdout"
        }
      ]
    },
    {
      "cell_type": "code",
      "metadata": {
        "id": "bhwva4uJfnXi",
        "colab_type": "code",
        "colab": {
          "base_uri": "https://localhost:8080/",
          "height": 104
        },
        "outputId": "f1d8537c-5990-401b-802a-fb0b457d935c"
      },
      "source": [
        "arr = np.arange(15).reshape(3,5)#range of array from 0 to 15 \n",
        "print(arr)\n",
        "print(arr.ndim)\n",
        "print(arr.dtype.name)"
      ],
      "execution_count": 3,
      "outputs": [
        {
          "output_type": "stream",
          "text": [
            "[[ 0  1  2  3  4]\n",
            " [ 5  6  7  8  9]\n",
            " [10 11 12 13 14]]\n",
            "2\n",
            "int64\n"
          ],
          "name": "stdout"
        }
      ]
    },
    {
      "cell_type": "code",
      "metadata": {
        "id": "jM-u1fc-jG6L",
        "colab_type": "code",
        "colab": {
          "base_uri": "https://localhost:8080/",
          "height": 104
        },
        "outputId": "a93f7efc-5915-4091-8a8d-985808ce89a2"
      },
      "source": [
        "arr = np.arange(15).reshape(3,5)#range of array from 0 to 15 \n",
        "print(arr)\n",
        "print(arr.ndim)\n",
        "print(arr.itemsize)"
      ],
      "execution_count": 4,
      "outputs": [
        {
          "output_type": "stream",
          "text": [
            "[[ 0  1  2  3  4]\n",
            " [ 5  6  7  8  9]\n",
            " [10 11 12 13 14]]\n",
            "2\n",
            "8\n"
          ],
          "name": "stdout"
        }
      ]
    },
    {
      "cell_type": "code",
      "metadata": {
        "id": "1F0JNmqMjt9A",
        "colab_type": "code",
        "colab": {
          "base_uri": "https://localhost:8080/",
          "height": 104
        },
        "outputId": "b7138322-4b3a-403c-f8b3-0652d925bf7a"
      },
      "source": [
        "arr = np.arange(15).reshape(3,5)#range of array from 0 to 15 \n",
        "print(arr)\n",
        "print(arr.ndim)\n",
        "print(type(arr))"
      ],
      "execution_count": 5,
      "outputs": [
        {
          "output_type": "stream",
          "text": [
            "[[ 0  1  2  3  4]\n",
            " [ 5  6  7  8  9]\n",
            " [10 11 12 13 14]]\n",
            "2\n",
            "<class 'numpy.ndarray'>\n"
          ],
          "name": "stdout"
        }
      ]
    },
    {
      "cell_type": "code",
      "metadata": {
        "id": "cx4iKL3nkKeh",
        "colab_type": "code",
        "colab": {
          "base_uri": "https://localhost:8080/",
          "height": 87
        },
        "outputId": "84a9db38-9b7b-4583-8bb3-541c3114c2fe"
      },
      "source": [
        "arr = np.array([[1,2,3,4], [5,6,7,8], [9,10,11,12]])\n",
        "print(arr)\n",
        "print(arr.shape)"
      ],
      "execution_count": 6,
      "outputs": [
        {
          "output_type": "stream",
          "text": [
            "[[ 1  2  3  4]\n",
            " [ 5  6  7  8]\n",
            " [ 9 10 11 12]]\n",
            "(3, 4)\n"
          ],
          "name": "stdout"
        }
      ]
    },
    {
      "cell_type": "code",
      "metadata": {
        "id": "G3mc4iq-khK1",
        "colab_type": "code",
        "colab": {
          "base_uri": "https://localhost:8080/",
          "height": 87
        },
        "outputId": "63a75b35-f418-4177-de6e-26926d716265"
      },
      "source": [
        "arr = np.array([[1,2,3], [5,6,7], [9,10,11]])\n",
        "print(arr)\n",
        "print(arr.shape)"
      ],
      "execution_count": 9,
      "outputs": [
        {
          "output_type": "stream",
          "text": [
            "[[ 1  2  3]\n",
            " [ 5  6  7]\n",
            " [ 9 10 11]]\n",
            "(3, 3)\n"
          ],
          "name": "stdout"
        }
      ]
    },
    {
      "cell_type": "code",
      "metadata": {
        "id": "Bf7jVIKzkte1",
        "colab_type": "code",
        "colab": {
          "base_uri": "https://localhost:8080/",
          "height": 52
        },
        "outputId": "17a209a3-3c0c-490f-f70a-cea5e250010f"
      },
      "source": [
        "arr = np.array([[1,2,3]])\n",
        "print(arr)\n",
        "print(arr.shape)"
      ],
      "execution_count": 10,
      "outputs": [
        {
          "output_type": "stream",
          "text": [
            "[[1 2 3]]\n",
            "(1, 3)\n"
          ],
          "name": "stdout"
        }
      ]
    },
    {
      "cell_type": "code",
      "metadata": {
        "id": "mmgF_vs3k_Pl",
        "colab_type": "code",
        "colab": {
          "base_uri": "https://localhost:8080/",
          "height": 52
        },
        "outputId": "ce82102a-80b7-4bfb-e2d1-6e5c10b626ef"
      },
      "source": [
        "arr = np.array([[1,2,3,4], [5,6,7,8], [9,10,11,12]])\n",
        "print(arr[:2, 1:3])"
      ],
      "execution_count": 11,
      "outputs": [
        {
          "output_type": "stream",
          "text": [
            "[[2 3]\n",
            " [6 7]]\n"
          ],
          "name": "stdout"
        }
      ]
    },
    {
      "cell_type": "code",
      "metadata": {
        "id": "fVEevadxlO4D",
        "colab_type": "code",
        "colab": {
          "base_uri": "https://localhost:8080/",
          "height": 69
        },
        "outputId": "e06ddf48-d2c5-4553-f71b-74e778cf5c39"
      },
      "source": [
        "arr = np.array([1,2,3])\n",
        "print(arr[:0])\n",
        "print(arr[:1])\n",
        "print(arr[:2])"
      ],
      "execution_count": 15,
      "outputs": [
        {
          "output_type": "stream",
          "text": [
            "[]\n",
            "[1]\n",
            "[1 2]\n"
          ],
          "name": "stdout"
        }
      ]
    },
    {
      "cell_type": "code",
      "metadata": {
        "id": "VtxJE2NglpRD",
        "colab_type": "code",
        "colab": {
          "base_uri": "https://localhost:8080/",
          "height": 121
        },
        "outputId": "b51fe062-61aa-480a-fdd1-2f51d24e348d"
      },
      "source": [
        "arr = np.array([1,2,3])\n",
        "print(arr[0:3])\n",
        "print(arr[1:3])\n",
        "print(arr[2:3])\n",
        "print(arr[0:1])\n",
        "print(arr[0:2])\n",
        "print(arr[0:3])"
      ],
      "execution_count": 19,
      "outputs": [
        {
          "output_type": "stream",
          "text": [
            "[1 2 3]\n",
            "[2 3]\n",
            "[3]\n",
            "[1]\n",
            "[1 2]\n",
            "[1 2 3]\n"
          ],
          "name": "stdout"
        }
      ]
    },
    {
      "cell_type": "code",
      "metadata": {
        "id": "4-2176m5mydj",
        "colab_type": "code",
        "colab": {
          "base_uri": "https://localhost:8080/",
          "height": 104
        },
        "outputId": "7f0a747c-6c4e-4cef-af2a-83adde3f8ca8"
      },
      "source": [
        "arr = np.array([[1,2,3,4], [5,6,7,8], [9,10,11,12]])\n",
        "print(arr[2, 1])\n",
        "print(arr[:2])\n",
        "print(arr[0:2])\n"
      ],
      "execution_count": 22,
      "outputs": [
        {
          "output_type": "stream",
          "text": [
            "10\n",
            "[[1 2 3 4]\n",
            " [5 6 7 8]]\n",
            "[[1 2 3 4]\n",
            " [5 6 7 8]]\n"
          ],
          "name": "stdout"
        }
      ]
    },
    {
      "cell_type": "code",
      "metadata": {
        "id": "0pD2bT0CnrOJ",
        "colab_type": "code",
        "colab": {
          "base_uri": "https://localhost:8080/",
          "height": 52
        },
        "outputId": "a0609496-bd5c-4ba9-f9e3-f93f5cdb65b2"
      },
      "source": [
        "arr = np.array([[1,2,3,4], [5,6,7,8], [9,10,11,12]])\n",
        "print(arr[:2, 1:3])"
      ],
      "execution_count": 25,
      "outputs": [
        {
          "output_type": "stream",
          "text": [
            "[[2 3]\n",
            " [6 7]]\n"
          ],
          "name": "stdout"
        }
      ]
    },
    {
      "cell_type": "markdown",
      "metadata": {
        "id": "DXYYtoLjn8Y7",
        "colab_type": "text"
      },
      "source": [
        "print(arr[:2, 1:3]) this means from  \n",
        "\n",
        "np.array([[1,2,3,4], [5,6,7,8], [9,10,11,12]])\n",
        "firstly 0th and 1th element of list is selected that is [1,2,3,4], [5,6,7,8] now out of them 1:3 \n",
        "position is selected i.e from  [1,2,3,4]  [2 3] is selected and from  [5,6,7,8] [6 7] is selected."
      ]
    },
    {
      "cell_type": "code",
      "metadata": {
        "id": "hgBGz3T3peoV",
        "colab_type": "code",
        "colab": {
          "base_uri": "https://localhost:8080/",
          "height": 52
        },
        "outputId": "6178476c-b121-428d-9e56-42f0b9688f09"
      },
      "source": [
        "arr = np.array([[1,2,3,4], [5,6,7,8], [9,10,11,12]])\n",
        "row_r1 = arr[1, :]\n",
        "row_r2 = arr[1:2, :]\n",
        "print(row_r1)\n",
        "print(row_r2)"
      ],
      "execution_count": 26,
      "outputs": [
        {
          "output_type": "stream",
          "text": [
            "[5 6 7 8]\n",
            "[[5 6 7 8]]\n"
          ],
          "name": "stdout"
        }
      ]
    },
    {
      "cell_type": "code",
      "metadata": {
        "id": "oyG5BecNqQJ6",
        "colab_type": "code",
        "colab": {
          "base_uri": "https://localhost:8080/",
          "height": 52
        },
        "outputId": "1681c835-875f-4b3e-fd93-9d925a71861b"
      },
      "source": [
        "a = [1,2,3]\n",
        "print(a[0])\n",
        "print(a[0:1])"
      ],
      "execution_count": 27,
      "outputs": [
        {
          "output_type": "stream",
          "text": [
            "1\n",
            "[1]\n"
          ],
          "name": "stdout"
        }
      ]
    },
    {
      "cell_type": "code",
      "metadata": {
        "id": "881KDS33--Rt",
        "colab_type": "code",
        "colab": {
          "base_uri": "https://localhost:8080/",
          "height": 52
        },
        "outputId": "c2d74a10-0bef-4b0a-d09e-d2736864e71f"
      },
      "source": [
        "arr = np.array([[1,2,3,4], [5,6,7,8], [9,10,11,12]])\n",
        "row_r1 = arr[1, :]\n",
        "row_r2 = arr[1:2, :]\n",
        "print(row_r1.shape)\n",
        "print(row_r2.shape)"
      ],
      "execution_count": 28,
      "outputs": [
        {
          "output_type": "stream",
          "text": [
            "(4,)\n",
            "(1, 4)\n"
          ],
          "name": "stdout"
        }
      ]
    },
    {
      "cell_type": "code",
      "metadata": {
        "id": "nfGcM4Nm_9pu",
        "colab_type": "code",
        "colab": {
          "base_uri": "https://localhost:8080/",
          "height": 139
        },
        "outputId": "94035796-401d-4a4e-d85b-13647fed43e6"
      },
      "source": [
        "arr = np.array([[1,2,3,4], [5,6,7,8], [9,10,11,12]])\n",
        "row_r1 = arr[:, 1]\n",
        "row_r2 = arr[:, 1:2]\n",
        "print(row_r1)\n",
        "print(row_r2)\n",
        "print(row_r1.shape)\n",
        "print(row_r2.shape)\n",
        "print(arr.shape)"
      ],
      "execution_count": 31,
      "outputs": [
        {
          "output_type": "stream",
          "text": [
            "[ 2  6 10]\n",
            "[[ 2]\n",
            " [ 6]\n",
            " [10]]\n",
            "(3,)\n",
            "(3, 1)\n",
            "(3, 4)\n"
          ],
          "name": "stdout"
        }
      ]
    },
    {
      "cell_type": "code",
      "metadata": {
        "id": "7pGTFNVmBLc8",
        "colab_type": "code",
        "colab": {
          "base_uri": "https://localhost:8080/",
          "height": 35
        },
        "outputId": "7b41a22c-28bd-407b-df17-c95070c61971"
      },
      "source": [
        "arr = np.array([[1, 2], [3, 4], [5, 6]])\n",
        "print(arr[[0, 1, 2], [0, 1, 0]])"
      ],
      "execution_count": 32,
      "outputs": [
        {
          "output_type": "stream",
          "text": [
            "[1 4 5]\n"
          ],
          "name": "stdout"
        }
      ]
    },
    {
      "cell_type": "markdown",
      "metadata": {
        "id": "gI-u7lpJCcl0",
        "colab_type": "text"
      },
      "source": [
        "print(arr[[0, 1, 2], [0, 1, 0]]) this statement is equal to \n",
        "\n",
        "print(np.array([arr[0,0], arr[1,1], arr[2,0]]))"
      ]
    },
    {
      "cell_type": "code",
      "metadata": {
        "id": "5hOSjGYrxAPw",
        "colab_type": "code",
        "colab": {
          "base_uri": "https://localhost:8080/",
          "height": 69
        },
        "outputId": "136b8889-8c1b-4d73-941a-b4e5f66e91f7"
      },
      "source": [
        "arr = np.array([[1,2,3,4], [5,6,7,8], [9,10,11,12]])\n",
        "print(arr > 2)"
      ],
      "execution_count": 2,
      "outputs": [
        {
          "output_type": "stream",
          "text": [
            "[[False False  True  True]\n",
            " [ True  True  True  True]\n",
            " [ True  True  True  True]]\n"
          ],
          "name": "stdout"
        }
      ]
    },
    {
      "cell_type": "code",
      "metadata": {
        "id": "sGjFX9G-xKWH",
        "colab_type": "code",
        "colab": {
          "base_uri": "https://localhost:8080/",
          "height": 35
        },
        "outputId": "98627c7a-fa2c-4cf5-e8a2-a249c0f83b46"
      },
      "source": [
        "arr = np.array([[1,2,3,4], [5,6,7,8], [9,10,11,12]])\n",
        "print(arr[arr > 2])"
      ],
      "execution_count": 3,
      "outputs": [
        {
          "output_type": "stream",
          "text": [
            "[ 3  4  5  6  7  8  9 10 11 12]\n"
          ],
          "name": "stdout"
        }
      ]
    },
    {
      "cell_type": "code",
      "metadata": {
        "id": "3XzvcPNdCxdQ",
        "colab_type": "code",
        "colab": {
          "base_uri": "https://localhost:8080/",
          "height": 69
        },
        "outputId": "5e841268-4de1-446f-e921-888e885d5a61"
      },
      "source": [
        "arr = np.array([1, 2])\n",
        "print(np.dtype)\n",
        "\n",
        "arr = np.array([1.0, 2.0])\n",
        "print(np.dtype)\n",
        "\n",
        "arr = np.array([1.0,2.0], dtype = np.int64)\n",
        "print(arr)"
      ],
      "execution_count": 4,
      "outputs": [
        {
          "output_type": "stream",
          "text": [
            "<class 'numpy.dtype'>\n",
            "<class 'numpy.dtype'>\n",
            "[1 2]\n"
          ],
          "name": "stdout"
        }
      ]
    },
    {
      "cell_type": "code",
      "metadata": {
        "id": "t4xKQm1pyxUN",
        "colab_type": "code",
        "colab": {
          "base_uri": "https://localhost:8080/",
          "height": 69
        },
        "outputId": "34341b4f-501c-4b57-be9f-6eb78895493b"
      },
      "source": [
        "arr = np.array([1, 2])\n",
        "print(arr.dtype)\n",
        "\n",
        "arr = np.array([1.0, 2.0])\n",
        "print(arr.dtype)\n",
        "\n",
        "arr = np.array([1.0,2.0], dtype = np.int64)\n",
        "print(arr)"
      ],
      "execution_count": 5,
      "outputs": [
        {
          "output_type": "stream",
          "text": [
            "int64\n",
            "float64\n",
            "[1 2]\n"
          ],
          "name": "stdout"
        }
      ]
    },
    {
      "cell_type": "code",
      "metadata": {
        "id": "SLhw1ImpzNsm",
        "colab_type": "code",
        "colab": {
          "base_uri": "https://localhost:8080/",
          "height": 52
        },
        "outputId": "cfe2c985-7f5f-460c-d196-17ff6503a557"
      },
      "source": [
        "arr_a = np.array([1.0, 2.0])\n",
        "arr_b = np.array([3.0, 4.0])\n",
        "\n",
        "print(arr_a + arr_b)\n",
        "print(np.add(arr_a, arr_b))\n"
      ],
      "execution_count": 11,
      "outputs": [
        {
          "output_type": "stream",
          "text": [
            "[4. 6.]\n",
            "[4. 6.]\n"
          ],
          "name": "stdout"
        }
      ]
    },
    {
      "cell_type": "code",
      "metadata": {
        "id": "HtdTyTO_3OBh",
        "colab_type": "code",
        "colab": {
          "base_uri": "https://localhost:8080/",
          "height": 52
        },
        "outputId": "c73f560f-0df7-4c6d-fd71-5b856056fb3d"
      },
      "source": [
        "\n",
        "print(arr_b- arr_a)\n",
        "print(np.subtract(arr_b, arr_a))\n"
      ],
      "execution_count": 12,
      "outputs": [
        {
          "output_type": "stream",
          "text": [
            "[2. 2.]\n",
            "[2. 2.]\n"
          ],
          "name": "stdout"
        }
      ]
    },
    {
      "cell_type": "code",
      "metadata": {
        "id": "H_COm2pR3QWx",
        "colab_type": "code",
        "colab": {
          "base_uri": "https://localhost:8080/",
          "height": 52
        },
        "outputId": "8e44777b-06ea-45ac-83f7-07dd802d112e"
      },
      "source": [
        "\n",
        "print(arr_b * arr_a)\n",
        "print(np.multiply(arr_b, arr_a))\n"
      ],
      "execution_count": 13,
      "outputs": [
        {
          "output_type": "stream",
          "text": [
            "[3. 8.]\n",
            "[3. 8.]\n"
          ],
          "name": "stdout"
        }
      ]
    },
    {
      "cell_type": "code",
      "metadata": {
        "id": "71NYwYpczXw9",
        "colab_type": "code",
        "colab": {
          "base_uri": "https://localhost:8080/",
          "height": 52
        },
        "outputId": "a6850276-9c0d-408a-fb8b-711a022cbe60"
      },
      "source": [
        "\n",
        "print(arr_b / arr_a)\n",
        "print(np.divide(arr_b, arr_a))\n",
        "\n"
      ],
      "execution_count": 14,
      "outputs": [
        {
          "output_type": "stream",
          "text": [
            "[3. 2.]\n",
            "[3. 2.]\n"
          ],
          "name": "stdout"
        }
      ]
    },
    {
      "cell_type": "code",
      "metadata": {
        "id": "NWRD9_h93Wtl",
        "colab_type": "code",
        "colab": {
          "base_uri": "https://localhost:8080/",
          "height": 52
        },
        "outputId": "374c7443-9576-4a72-ada9-7369aac1a140"
      },
      "source": [
        "\n",
        "print(np.sqrt(arr_a))\n",
        "print(np.sqrt(arr_b))\n"
      ],
      "execution_count": 15,
      "outputs": [
        {
          "output_type": "stream",
          "text": [
            "[1.         1.41421356]\n",
            "[1.73205081 2.        ]\n"
          ],
          "name": "stdout"
        }
      ]
    },
    {
      "cell_type": "code",
      "metadata": {
        "id": "CnUmLMXT3ZFh",
        "colab_type": "code",
        "colab": {
          "base_uri": "https://localhost:8080/",
          "height": 52
        },
        "outputId": "0eca762a-0748-4150-9245-d8d6f7c069e4"
      },
      "source": [
        "\n",
        "print(np.dot(arr_a, arr_b))\n",
        "print(arr_a.dot(arr_b))\n"
      ],
      "execution_count": 16,
      "outputs": [
        {
          "output_type": "stream",
          "text": [
            "11.0\n",
            "11.0\n"
          ],
          "name": "stdout"
        }
      ]
    },
    {
      "cell_type": "code",
      "metadata": {
        "id": "66HOMqJt3auR",
        "colab_type": "code",
        "colab": {
          "base_uri": "https://localhost:8080/",
          "height": 69
        },
        "outputId": "da9baced-6e1a-4a8e-9184-a174e2b2b5c8"
      },
      "source": [
        "arr = np.array([arr_a, arr_b])\n",
        "print(np.sum(arr, axis = 0))\n",
        "print(np.sum(arr, axis = 1))\n",
        "print(arr_a.T)"
      ],
      "execution_count": 18,
      "outputs": [
        {
          "output_type": "stream",
          "text": [
            "[4. 6.]\n",
            "[3. 7.]\n",
            "[1. 2.]\n"
          ],
          "name": "stdout"
        }
      ]
    },
    {
      "cell_type": "markdown",
      "metadata": {
        "id": "T1n5tjay5Slm",
        "colab_type": "text"
      },
      "source": [
        "arr_a = np.array([1.0, 2.0])\n",
        "\n",
        "arr_b = np.array([3.0, 4.0])\n",
        "\n",
        "for axis  = 0 [3+1 4+2]  which is equal to [4 6] \n",
        "\n",
        "and for axis =  1 [1+2 3+4] which is equal to [3 7] "
      ]
    },
    {
      "cell_type": "code",
      "metadata": {
        "id": "swF1utIf6Biy",
        "colab_type": "code",
        "colab": {
          "base_uri": "https://localhost:8080/",
          "height": 52
        },
        "outputId": "0a7cd709-ddd7-4f9e-b64c-486bab4a3695"
      },
      "source": [
        "print(arr.T)"
      ],
      "execution_count": 19,
      "outputs": [
        {
          "output_type": "stream",
          "text": [
            "[[1. 3.]\n",
            " [2. 4.]]\n"
          ],
          "name": "stdout"
        }
      ]
    }
  ]
}