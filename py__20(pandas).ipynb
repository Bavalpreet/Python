{
  "nbformat": 4,
  "nbformat_minor": 0,
  "metadata": {
    "colab": {
      "name": "py__20(pandas).ipynb",
      "version": "0.3.2",
      "provenance": []
    },
    "kernelspec": {
      "name": "python3",
      "display_name": "Python 3"
    }
  },
  "cells": [
    {
      "cell_type": "code",
      "metadata": {
        "id": "1LFG-lJoSKjv",
        "colab_type": "code",
        "colab": {
          "base_uri": "https://localhost:8080/",
          "height": 87
        },
        "outputId": "962358f6-b2fc-4cae-cef6-cab743ab7d30"
      },
      "source": [
        "#DataFrame\n",
        "#Series\n",
        "#Index\n",
        "#T\n",
        "#Axes\n",
        "#dType\n",
        "#csv_read\n",
        "import pandas as pd\n",
        "data = {'Name': ['tapas', 'ashita', 'ramu'], 'Age': [19,20,21]}\n",
        "df = pd.DataFrame(data) \n",
        "print(df)"
      ],
      "execution_count": 16,
      "outputs": [
        {
          "output_type": "stream",
          "text": [
            "     Name  Age\n",
            "0   tapas   19\n",
            "1  ashita   20\n",
            "2    ramu   21\n"
          ],
          "name": "stdout"
        }
      ]
    },
    {
      "cell_type": "markdown",
      "metadata": {
        "id": "A6-OLt-8T6qc",
        "colab_type": "text"
      },
      "source": [
        "df = dataframe"
      ]
    },
    {
      "cell_type": "code",
      "metadata": {
        "id": "JG9HrLBlWPa4",
        "colab_type": "code",
        "colab": {
          "base_uri": "https://localhost:8080/",
          "height": 87
        },
        "outputId": "e1244cf5-5710-4a0c-c744-564e2a05be14"
      },
      "source": [
        "import pandas as pd\n",
        "data = {'Name': ['tapas', 'ashita', 'ramu'], 'Age': [19,20,21]}\n",
        "df = pd.DataFrame(data, index = ['number 1', 'number 2', 'number 3']) \n",
        "print(df)"
      ],
      "execution_count": 2,
      "outputs": [
        {
          "output_type": "stream",
          "text": [
            "            Name  Age\n",
            "number 1   tapas   19\n",
            "number 2  ashita   20\n",
            "number 3    ramu   21\n"
          ],
          "name": "stdout"
        }
      ]
    },
    {
      "cell_type": "code",
      "metadata": {
        "id": "tVUer6qCWgQD",
        "colab_type": "code",
        "colab": {
          "base_uri": "https://localhost:8080/",
          "height": 87
        },
        "outputId": "3bfd55aa-c15c-4511-b8c2-78a95b6c3b90"
      },
      "source": [
        "import pandas as pd\n",
        "data = {'Name':pd.Series(['tapas', 'ashita', 'ramu']), 'Age':pd.Series([19,20,21])}\n",
        "df = pd.DataFrame(data, index = ['number 1', 'number 2', 'number 3']) \n",
        "print(df)"
      ],
      "execution_count": 3,
      "outputs": [
        {
          "output_type": "stream",
          "text": [
            "         Name  Age\n",
            "number 1  NaN  NaN\n",
            "number 2  NaN  NaN\n",
            "number 3  NaN  NaN\n"
          ],
          "name": "stdout"
        }
      ]
    },
    {
      "cell_type": "code",
      "metadata": {
        "id": "Kvhx6botA3c_",
        "colab_type": "code",
        "colab": {
          "base_uri": "https://localhost:8080/",
          "height": 87
        },
        "outputId": "2f094db5-d84e-406a-c2f2-a6e0a235de62"
      },
      "source": [
        "import pandas as pd\n",
        "data = {'Name':pd.Series(['tapas', 'ashita', 'ramu']), 'Age':pd.Series([19,20,21])}\n",
        "print(pd.Series(['a', 'b', 'c']))"
      ],
      "execution_count": 2,
      "outputs": [
        {
          "output_type": "stream",
          "text": [
            "0    a\n",
            "1    b\n",
            "2    c\n",
            "dtype: object\n"
          ],
          "name": "stdout"
        }
      ]
    },
    {
      "cell_type": "code",
      "metadata": {
        "id": "4aLt-dg_BbPc",
        "colab_type": "code",
        "colab": {
          "base_uri": "https://localhost:8080/",
          "height": 87
        },
        "outputId": "e4b65545-c1bd-4a76-9521-a814cc17fe16"
      },
      "source": [
        "import pandas as pd\n",
        "data = {'Name':pd.Series(['tapas', 'ashita', 'ramu']), 'Age':pd.Series([19,20,21])}\n",
        "print(pd.Series(['a', 'b', 'c'], index = ['m', 'n', 'o']))"
      ],
      "execution_count": 3,
      "outputs": [
        {
          "output_type": "stream",
          "text": [
            "m    a\n",
            "n    b\n",
            "o    c\n",
            "dtype: object\n"
          ],
          "name": "stdout"
        }
      ]
    },
    {
      "cell_type": "code",
      "metadata": {
        "id": "fmhyInw0EWTp",
        "colab_type": "code",
        "colab": {
          "base_uri": "https://localhost:8080/",
          "height": 87
        },
        "outputId": "50278bcf-d584-4444-e94f-258b763aafe9"
      },
      "source": [
        "import pandas as pd\n",
        "data = {'Name':pd.Series(['tapas', 'ashita', 'ramu']), 'Age':pd.Series([19,20,21])}\n",
        "df = pd.DataFrame(data) \n",
        "print(df)"
      ],
      "execution_count": 4,
      "outputs": [
        {
          "output_type": "stream",
          "text": [
            "     Name  Age\n",
            "0   tapas   19\n",
            "1  ashita   20\n",
            "2    ramu   21\n"
          ],
          "name": "stdout"
        }
      ]
    },
    {
      "cell_type": "code",
      "metadata": {
        "id": "D9Fh9caVEulo",
        "colab_type": "code",
        "colab": {
          "base_uri": "https://localhost:8080/",
          "height": 87
        },
        "outputId": "90ae7f8c-1021-435c-e306-b26269f76598"
      },
      "source": [
        "import pandas as pd\n",
        "data = {'Name':pd.Series(['tapas', 'ashita', 'ramu']), 'Age':pd.Series([19,20,21])}\n",
        "df = pd.DataFrame(data, index = [2, 3, 4]) \n",
        "print(df)"
      ],
      "execution_count": 6,
      "outputs": [
        {
          "output_type": "stream",
          "text": [
            "   Name   Age\n",
            "2  ramu  21.0\n",
            "3   NaN   NaN\n",
            "4   NaN   NaN\n"
          ],
          "name": "stdout"
        }
      ]
    },
    {
      "cell_type": "code",
      "metadata": {
        "id": "qLMKayPfFLIg",
        "colab_type": "code",
        "colab": {
          "base_uri": "https://localhost:8080/",
          "height": 87
        },
        "outputId": "e845bbc2-0f64-45be-e058-80af854fba93"
      },
      "source": [
        "import pandas as pd\n",
        "data = {'Name':pd.Series(['tapas', 'ashita', 'ramu'], index = range(3, 6)), 'Age':pd.Series([19,20,21])}\n",
        "df = pd.DataFrame(data, index = [2, 3, 4]) \n",
        "print(df)"
      ],
      "execution_count": 7,
      "outputs": [
        {
          "output_type": "stream",
          "text": [
            "     Name   Age\n",
            "2     NaN  21.0\n",
            "3   tapas   NaN\n",
            "4  ashita   NaN\n"
          ],
          "name": "stdout"
        }
      ]
    },
    {
      "cell_type": "markdown",
      "metadata": {
        "id": "5BvHtRx2GW25",
        "colab_type": "text"
      },
      "source": [
        "so firstly see why this kind of output come\n",
        "\n",
        "index Name:\n",
        "\n",
        "3 Tapas\n",
        "\n",
        "4 ashita\n",
        "\n",
        "5 ramu\n",
        "\n",
        "---\n",
        "\n",
        "\n",
        "\n",
        "index Age:\n",
        "\n",
        "0 19\n",
        "\n",
        "1 20\n",
        "\n",
        "2 21\n",
        "\n",
        "---\n",
        "\n",
        "\n",
        "\n",
        "DATA FRAME\n",
        "\n",
        "index     Name      Age\n",
        "              \n",
        "               \n",
        "2            Nan           21\n",
        "\n",
        "3            Tapas       Nan\n",
        "\n",
        "4            Akshay     Nan\n"
      ]
    },
    {
      "cell_type": "code",
      "metadata": {
        "id": "ddqAz5ByIOsH",
        "colab_type": "code",
        "colab": {
          "base_uri": "https://localhost:8080/",
          "height": 69
        },
        "outputId": "5241ef19-e422-4444-b7d4-08375b6cb675"
      },
      "source": [
        "import pandas as pd\n",
        "data = {'Name': ['tapas', 'ashita', 'ramu'], 'Age': [19,20,21]}\n",
        "df = pd.DataFrame(data, index = ['number 1', 'number 2', 'number 3']) \n",
        "print(df.T)"
      ],
      "execution_count": 8,
      "outputs": [
        {
          "output_type": "stream",
          "text": [
            "     number 1 number 2 number 3\n",
            "Name    tapas   ashita     ramu\n",
            "Age        19       20       21\n"
          ],
          "name": "stdout"
        }
      ]
    },
    {
      "cell_type": "code",
      "metadata": {
        "id": "vYbmtQHUI8NC",
        "colab_type": "code",
        "colab": {
          "base_uri": "https://localhost:8080/",
          "height": 35
        },
        "outputId": "f919dbc9-f3eb-43d5-e42e-b834a81b58d8"
      },
      "source": [
        "import pandas as pd\n",
        "data = {'Name': ['tapas', 'ashita', 'ramu'], 'Age': [19,20,21]}\n",
        "df = pd.DataFrame(data) \n",
        "print(df.axes)"
      ],
      "execution_count": 10,
      "outputs": [
        {
          "output_type": "stream",
          "text": [
            "[RangeIndex(start=0, stop=3, step=1), Index(['Name', 'Age'], dtype='object')]\n"
          ],
          "name": "stdout"
        }
      ]
    },
    {
      "cell_type": "code",
      "metadata": {
        "id": "pf-u7eCmIGc3",
        "colab_type": "code",
        "colab": {
          "base_uri": "https://localhost:8080/",
          "height": 69
        },
        "outputId": "0691bbb8-6eee-4bbc-834d-5092c1d3e4a0"
      },
      "source": [
        "import pandas as pd\n",
        "data = {'Name': ['tapas', 'ashita', 'ramu'], 'Age': [19,20,21]}\n",
        "df = pd.DataFrame(data) \n",
        "print(df.dtypes)"
      ],
      "execution_count": 11,
      "outputs": [
        {
          "output_type": "stream",
          "text": [
            "Name    object\n",
            "Age      int64\n",
            "dtype: object\n"
          ],
          "name": "stdout"
        }
      ]
    },
    {
      "cell_type": "code",
      "metadata": {
        "id": "l3rYm9f5IDGV",
        "colab_type": "code",
        "colab": {
          "base_uri": "https://localhost:8080/",
          "height": 35
        },
        "outputId": "39ce34b0-023b-4f95-d8ad-d20e3b5f191a"
      },
      "source": [
        "import pandas as pd\n",
        "data = {'Name': ['tapas', 'ashita', 'ramu'], 'Age': [19,20,21]}\n",
        "df = pd.DataFrame(data) \n",
        "print(df.shape)"
      ],
      "execution_count": 12,
      "outputs": [
        {
          "output_type": "stream",
          "text": [
            "(3, 2)\n"
          ],
          "name": "stdout"
        }
      ]
    },
    {
      "cell_type": "code",
      "metadata": {
        "id": "e-KMg7_gKglF",
        "colab_type": "code",
        "colab": {
          "base_uri": "https://localhost:8080/",
          "height": 69
        },
        "outputId": "1584d7ac-2ed1-4016-dcaf-ec7998ecc309"
      },
      "source": [
        "import pandas as pd\n",
        "data = {'Name': ['tapas', 'ashita', 'ramu'], 'Age': [19,20,21]}\n",
        "df = pd.DataFrame(data) \n",
        "print(df.values)"
      ],
      "execution_count": 13,
      "outputs": [
        {
          "output_type": "stream",
          "text": [
            "[['tapas' 19]\n",
            " ['ashita' 20]\n",
            " ['ramu' 21]]\n"
          ],
          "name": "stdout"
        }
      ]
    },
    {
      "cell_type": "code",
      "metadata": {
        "id": "FUr9d_YFKvtV",
        "colab_type": "code",
        "colab": {
          "base_uri": "https://localhost:8080/",
          "height": 191
        },
        "outputId": "1e2b5040-f5ae-43ff-e1d2-be84cd60779d"
      },
      "source": [
        "import pandas as pd\n",
        "data = {'Name': ['tapas', 'ashita', 'ramu'], 'Age': [19,20,21]}\n",
        "df = pd.DataFrame(data)\n",
        "print(df)\n",
        "print(df.head(2))\n",
        "print(df.tail(2))"
      ],
      "execution_count": 14,
      "outputs": [
        {
          "output_type": "stream",
          "text": [
            "     Name  Age\n",
            "0   tapas   19\n",
            "1  ashita   20\n",
            "2    ramu   21\n",
            "     Name  Age\n",
            "0   tapas   19\n",
            "1  ashita   20\n",
            "     Name  Age\n",
            "1  ashita   20\n",
            "2    ramu   21\n"
          ],
          "name": "stdout"
        }
      ]
    },
    {
      "cell_type": "code",
      "metadata": {
        "id": "Muw4mPAgLP9z",
        "colab_type": "code",
        "colab": {
          "base_uri": "https://localhost:8080/",
          "height": 87
        },
        "outputId": "f2f4c65d-e7aa-4dc9-a081-c40af3d11dca"
      },
      "source": [
        "import pandas as pd\n",
        "data = {'a': 1, 'b': 2, 'c': 3}\n",
        "s = pd.Series(data) \n",
        "print(s)"
      ],
      "execution_count": 15,
      "outputs": [
        {
          "output_type": "stream",
          "text": [
            "a    1\n",
            "b    2\n",
            "c    3\n",
            "dtype: int64\n"
          ],
          "name": "stdout"
        }
      ]
    }
  ]
}