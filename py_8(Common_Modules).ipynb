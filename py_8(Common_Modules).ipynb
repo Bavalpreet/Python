{
  "nbformat": 4,
  "nbformat_minor": 0,
  "metadata": {
    "colab": {
      "name": "py(Common Modules).ipynb",
      "version": "0.3.2",
      "provenance": []
    },
    "kernelspec": {
      "name": "python3",
      "display_name": "Python 3"
    }
  },
  "cells": [
    {
      "cell_type": "code",
      "metadata": {
        "id": "FuYC3r3jRfUD",
        "colab_type": "code",
        "colab": {
          "base_uri": "https://localhost:8080/",
          "height": 107
        },
        "outputId": "ba9c3701-568c-4f36-ddce-da6a4870d3d7"
      },
      "source": [
        "import time\n",
        "print(time.time())             #giving value of time in seconds,this function counts no of seconds elapsed since epochs\n",
        "print(time.gmtime())           #it will tell you certain parameters like year,month,day etc.\n",
        "print(time.asctime())\n",
        "print(time.ctime())"
      ],
      "execution_count": 8,
      "outputs": [
        {
          "output_type": "stream",
          "text": [
            "1558172915.6370547\n",
            "time.struct_time(tm_year=2019, tm_mon=5, tm_mday=18, tm_hour=9, tm_min=48, tm_sec=35, tm_wday=5, tm_yday=138, tm_isdst=0)\n",
            "Sat May 18 09:48:35 2019\n",
            "Sat May 18 09:48:35 2019\n"
          ],
          "name": "stdout"
        }
      ]
    },
    {
      "cell_type": "code",
      "metadata": {
        "id": "_dDYbxKBWRhs",
        "colab_type": "code",
        "colab": {
          "base_uri": "https://localhost:8080/",
          "height": 52
        },
        "outputId": "0f8b6bdb-c390-452a-8399-75840d0b0f7b"
      },
      "source": [
        "import time\n",
        "gmtime_obj = time.gmtime() #creating object of gmtime\n",
        "sec_obj = time.time()      # creating object of sec \n",
        "print(time.ctime(sec_obj))\n",
        "print(time.asctime(gmtime_obj))\n"
      ],
      "execution_count": 9,
      "outputs": [
        {
          "output_type": "stream",
          "text": [
            "Sat May 18 09:53:06 2019\n",
            "Sat May 18 09:53:06 2019\n"
          ],
          "name": "stdout"
        }
      ]
    },
    {
      "cell_type": "code",
      "metadata": {
        "id": "5RuuAnoQXH3I",
        "colab_type": "code",
        "colab": {
          "base_uri": "https://localhost:8080/",
          "height": 87
        },
        "outputId": "95fadd4c-35ad-4fef-ce05-b129bf288dde"
      },
      "source": [
        "import datetime\n",
        "print(datetime.MAXYEAR)\n",
        "print(datetime.MINYEAR)\n",
        "print(datetime.datetime.today())\n",
        "print(datetime.date.today())"
      ],
      "execution_count": 15,
      "outputs": [
        {
          "output_type": "stream",
          "text": [
            "9999\n",
            "1\n",
            "2019-05-18 10:02:49.863555\n",
            "2019-05-18\n"
          ],
          "name": "stdout"
        }
      ]
    },
    {
      "cell_type": "code",
      "metadata": {
        "id": "GXhXyy5Hazos",
        "colab_type": "code",
        "colab": {
          "base_uri": "https://localhost:8080/",
          "height": 69
        },
        "outputId": "9aed29ad-3750-4fd0-99cb-354fa5ec1d5d"
      },
      "source": [
        "import time\n",
        "import datetime\n",
        "print(datetime.datetime.fromtimestamp(time.time()))   #  it converts datatype from seconds to datetime\n",
        "print(datetime.datetime.min)\n",
        "print(datetime.datetime.max)"
      ],
      "execution_count": 19,
      "outputs": [
        {
          "output_type": "stream",
          "text": [
            "2019-05-18 10:13:43.985456\n",
            "0001-01-01 00:00:00\n",
            "9999-12-31 23:59:59.999999\n"
          ],
          "name": "stdout"
        }
      ]
    },
    {
      "cell_type": "code",
      "metadata": {
        "id": "rFuEooSjTENI",
        "colab_type": "code",
        "colab": {
          "base_uri": "https://localhost:8080/",
          "height": 121
        },
        "outputId": "601ed269-0cb3-47a3-f784-ab02551e3a2b"
      },
      "source": [
        "import math\n",
        "print(math.pi)          #pi is basically ratio of circumference by diameter\n",
        "print(math.factorial(10))\n",
        "print(math.floor(3.2))\n",
        "print(math.ceil(3.2))\n",
        "print(math.gcd(220,430))\n",
        "print(math.tau)\n"
      ],
      "execution_count": 25,
      "outputs": [
        {
          "output_type": "stream",
          "text": [
            "3.141592653589793\n",
            "3628800\n",
            "3\n",
            "4\n",
            "10\n",
            "6.283185307179586\n"
          ],
          "name": "stdout"
        }
      ]
    },
    {
      "cell_type": "code",
      "metadata": {
        "id": "i2xcpCHVdmDi",
        "colab_type": "code",
        "colab": {
          "base_uri": "https://localhost:8080/",
          "height": 69
        },
        "outputId": "32ade05e-6c1d-48a0-ecb6-a5ebe285c5a6"
      },
      "source": [
        "import os\n",
        "print(os.name)\n",
        "print(os.getcwd())   #tells about current working directory\n",
        "print(os.listdir('.'))\n"
      ],
      "execution_count": 29,
      "outputs": [
        {
          "output_type": "stream",
          "text": [
            "posix\n",
            "/content\n",
            "['.config', 'sample_data']\n"
          ],
          "name": "stdout"
        }
      ]
    },
    {
      "cell_type": "code",
      "metadata": {
        "id": "ckpwYi7_g8C_",
        "colab_type": "code",
        "colab": {}
      },
      "source": [
        "import os                   #small use of os.mkdir\n",
        "for x in range(20):\n",
        "  os.mkdir('folder_of_virus' + str(x))\n"
      ],
      "execution_count": 0,
      "outputs": []
    },
    {
      "cell_type": "code",
      "metadata": {
        "id": "-7cnk4djhygU",
        "colab_type": "code",
        "colab": {
          "base_uri": "https://localhost:8080/",
          "height": 55
        },
        "outputId": "bf0d6464-c699-42aa-f31c-9a0f78bc1ec1"
      },
      "source": [
        "print(os.listdir('.'))  "
      ],
      "execution_count": 35,
      "outputs": [
        {
          "output_type": "stream",
          "text": [
            "['.config', 'folder_of_virus6', 'folder_of_virus0', 'folder_of_virus1', 'folder_of_virus18', 'folder_of_virus7', 'folder_of_virus4', 'folder_of_virus13', 'folder_of_virus15', 'folder_of_virus12', 'folder_of_virus9', 'folder_of_virus19', 'folder_of_virus2', 'folder_of_virus14', 'folder_of_virus17', 'folder_of_virus5', 'folder_of_virus11', 'folder_of_virus16', 'folder_of_virus8', 'folder_of_virus10', 'folder_of_virus3', 'sample_data']\n"
          ],
          "name": "stdout"
        }
      ]
    },
    {
      "cell_type": "code",
      "metadata": {
        "id": "HJGT6_AFjFJB",
        "colab_type": "code",
        "colab": {}
      },
      "source": [
        "import os                   #small use of os.mkdir\n",
        "for x in range(20):\n",
        "  os.rmdir('folder_of_virus' + str(x))"
      ],
      "execution_count": 0,
      "outputs": []
    },
    {
      "cell_type": "code",
      "metadata": {
        "id": "uAmgKYLbjWCB",
        "colab_type": "code",
        "colab": {
          "base_uri": "https://localhost:8080/",
          "height": 35
        },
        "outputId": "e383a490-9369-4eba-c7e3-9abbe204e149"
      },
      "source": [
        "print(os.listdir('.')) \n"
      ],
      "execution_count": 40,
      "outputs": [
        {
          "output_type": "stream",
          "text": [
            "['.config', 'sample_data']\n"
          ],
          "name": "stdout"
        }
      ]
    },
    {
      "cell_type": "code",
      "metadata": {
        "id": "TCxxV_hvkIWb",
        "colab_type": "code",
        "colab": {
          "base_uri": "https://localhost:8080/",
          "height": 35
        },
        "outputId": "67c22e76-078e-4eb6-83ce-c2b97fb3ae4f"
      },
      "source": [
        "import os\n",
        "filename = 'sample_data'\n",
        "try:\n",
        "  f = open(filename,'r')\n",
        "except IOError:\n",
        "  print('problem in file' + filename)\n",
        "else:\n",
        "  text = f.read()\n",
        "  f.close()\n",
        "  print(text)"
      ],
      "execution_count": 46,
      "outputs": [
        {
          "output_type": "stream",
          "text": [
            "problem in filesample_data\n"
          ],
          "name": "stdout"
        }
      ]
    },
    {
      "cell_type": "markdown",
      "metadata": {
        "id": "mWDQylXOlkBT",
        "colab_type": "text"
      },
      "source": [
        "error is coming because there is no such file existing in the system.\n",
        "if there will be valid file name then it will show contents of that file as output.\n"
      ]
    }
  ]
}