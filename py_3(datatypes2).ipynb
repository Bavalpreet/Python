{
  "nbformat": 4,
  "nbformat_minor": 0,
  "metadata": {
    "colab": {
      "name": "py_3(datatypes2).ipynb",
      "version": "0.3.2",
      "provenance": [],
      "collapsed_sections": []
    },
    "kernelspec": {
      "name": "python3",
      "display_name": "Python 3"
    }
  },
  "cells": [
    {
      "cell_type": "code",
      "metadata": {
        "id": "UqiMMjufVLe6",
        "colab_type": "code",
        "colab": {
          "base_uri": "https://localhost:8080/",
          "height": 34
        },
        "outputId": "809ad563-f172-4d80-a781-0935e815ab0b"
      },
      "source": [
        "#1.Length of tuple\n",
        "a = (1,2,3,4,55,'length')\n",
        "print('Lenght =',len(a))"
      ],
      "execution_count": 1,
      "outputs": [
        {
          "output_type": "stream",
          "text": [
            "Lenght = 6\n"
          ],
          "name": "stdout"
        }
      ]
    },
    {
      "cell_type": "code",
      "metadata": {
        "id": "vjMD9bWNVawf",
        "colab_type": "code",
        "colab": {
          "base_uri": "https://localhost:8080/",
          "height": 34
        },
        "outputId": "581e03fa-2740-47f0-a057-df62796e321a"
      },
      "source": [
        "#2.Largest and smallest in tuple\n",
        "b = (55,23,6,89,0)\n",
        "print('Largest is',max(b),'and','smallest is',min(b))                      #max() and min() functions are used to find the maximum and minimum elements.\n"
      ],
      "execution_count": 2,
      "outputs": [
        {
          "output_type": "stream",
          "text": [
            "Largest is 89 and smallest is 0\n"
          ],
          "name": "stdout"
        }
      ]
    },
    {
      "cell_type": "code",
      "metadata": {
        "id": "qKUV11KDVm_G",
        "colab_type": "code",
        "colab": {
          "base_uri": "https://localhost:8080/",
          "height": 34
        },
        "outputId": "3081e73c-f9bc-4a16-ded1-6543dad49307"
      },
      "source": [
        "#3.product of all elements\n",
        "c = (5,4,8)\n",
        "l = len(c)\n",
        "i=0\n",
        "f=1\n",
        "for i in range(l):\n",
        "    f  = f*c[i]\n",
        "    i+=1\n",
        "print(f)"
      ],
      "execution_count": 4,
      "outputs": [
        {
          "output_type": "stream",
          "text": [
            "160\n"
          ],
          "name": "stdout"
        }
      ]
    },
    {
      "cell_type": "code",
      "metadata": {
        "id": "fxHOYP4gWR3s",
        "colab_type": "code",
        "colab": {
          "base_uri": "https://localhost:8080/",
          "height": 102
        },
        "outputId": "c2fc94b4-d714-4e45-c9f4-9dbd5448ded6"
      },
      "source": [
        "#unpacking\n",
        "tup = (1,2,3,4,5)\n",
        "a,b,c,d,e = tup\n",
        "print(a)\n",
        "print(b)\n",
        "print(c)\n",
        "print(d)\n",
        "print(e)"
      ],
      "execution_count": 5,
      "outputs": [
        {
          "output_type": "stream",
          "text": [
            "1\n",
            "2\n",
            "3\n",
            "4\n",
            "5\n"
          ],
          "name": "stdout"
        }
      ]
    },
    {
      "cell_type": "code",
      "metadata": {
        "id": "VG4TS6bNWZtq",
        "colab_type": "code",
        "colab": {
          "base_uri": "https://localhost:8080/",
          "height": 34
        },
        "outputId": "5dc16f1c-c710-483c-b0a9-52cf3a673e8d"
      },
      "source": [
        "#SETS\n",
        "#1.diff btw 2 sets\n",
        "x = {1,2,4,65,6}\n",
        "y = {5,6,98,7}\n",
        "print(x-y)"
      ],
      "execution_count": 9,
      "outputs": [
        {
          "output_type": "stream",
          "text": [
            "{65, 2, 4, 1}\n"
          ],
          "name": "stdout"
        }
      ]
    },
    {
      "cell_type": "code",
      "metadata": {
        "id": "PuIj12W-W5jj",
        "colab_type": "code",
        "colab": {
          "base_uri": "https://localhost:8080/",
          "height": 34
        },
        "outputId": "efda288b-59f3-44e7-ab87-7303f693846b"
      },
      "source": [
        "#4.create a dict\n",
        "dit = {\"Name\":\"Ashita\",\"Age\":20}\n",
        "print(dit)"
      ],
      "execution_count": 10,
      "outputs": [
        {
          "output_type": "stream",
          "text": [
            "{'Name': 'Ashita', 'Age': 20}\n"
          ],
          "name": "stdout"
        }
      ]
    },
    {
      "cell_type": "code",
      "metadata": {
        "id": "R9tONaevW_a7",
        "colab_type": "code",
        "colab": {
          "base_uri": "https://localhost:8080/",
          "height": 51
        },
        "outputId": "7a83ad29-91fb-41d3-93ad-365c13d55d0e"
      },
      "source": [
        "#5.Sort a dict\n",
        "dit = {1:'keys',5:'values',4:'sorted',3:'keys'}\n",
        "li = list(dit.values())\n",
        "li.sort()\n",
        "print(li)\n",
        "ls = list(dit.items())\n",
        "ls.sort()\n",
        "print(ls)"
      ],
      "execution_count": 11,
      "outputs": [
        {
          "output_type": "stream",
          "text": [
            "['keys', 'keys', 'sorted', 'values']\n",
            "[(1, 'keys'), (3, 'keys'), (4, 'sorted'), (5, 'values')]\n"
          ],
          "name": "stdout"
        }
      ]
    },
    {
      "cell_type": "code",
      "metadata": {
        "id": "0HJDBJW3XDNj",
        "colab_type": "code",
        "colab": {
          "base_uri": "https://localhost:8080/",
          "height": 34
        },
        "outputId": "54ea6d8c-6aae-4c42-cac6-f8a6b89bde55"
      },
      "source": [
        "#6. occurence of each letter\n",
        "c = {}\n",
        "m = ['M','I','S','S','I','S','S','I','P','P','I']\n",
        "for i in range(len(m)):\n",
        "    j = m[i]\n",
        "c['M'] = m.count('M')\n",
        "c['I'] = m.count('I')\n",
        "c['S'] = m.count('S')\n",
        "c['P'] = m.count('P')\n",
        "print(c)"
      ],
      "execution_count": 12,
      "outputs": [
        {
          "output_type": "stream",
          "text": [
            "{'M': 1, 'I': 4, 'S': 4, 'P': 2}\n"
          ],
          "name": "stdout"
        }
      ]
    }
  ]
}