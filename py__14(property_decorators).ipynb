{
  "nbformat": 4,
  "nbformat_minor": 0,
  "metadata": {
    "colab": {
      "name": "py__14(property decorators).ipynb",
      "version": "0.3.2",
      "provenance": []
    },
    "kernelspec": {
      "name": "python3",
      "display_name": "Python 3"
    }
  },
  "cells": [
    {
      "cell_type": "code",
      "metadata": {
        "id": "8lJUp6RkVgz4",
        "colab_type": "code",
        "colab": {
          "base_uri": "https://localhost:8080/",
          "height": 69
        },
        "outputId": "44e286a9-f2b9-41ea-c863-ac3788dee07e"
      },
      "source": [
        "class Employee:\n",
        "\n",
        "    def __init__(self, first, last):\n",
        "        self.first = first\n",
        "        self.last = last\n",
        "        self.email = first + '.' + last + '@email.com'\n",
        "\n",
        "    def fullname(self):\n",
        "        return '{} {}'.format(self.first, self.last)\n",
        "\n",
        "\n",
        "emp_1 = Employee('John', 'Smith')\n",
        "\n",
        "print(emp_1.first)\n",
        "print(emp_1.email)\n",
        "print(emp_1.fullname())\n",
        "\n"
      ],
      "execution_count": 2,
      "outputs": [
        {
          "output_type": "stream",
          "text": [
            "John\n",
            "John.Smith@email.com\n",
            "John Smith\n"
          ],
          "name": "stdout"
        }
      ]
    },
    {
      "cell_type": "code",
      "metadata": {
        "id": "OvVlzqd5Vj2k",
        "colab_type": "code",
        "colab": {
          "base_uri": "https://localhost:8080/",
          "height": 69
        },
        "outputId": "02726eb9-7a26-43d5-ff9e-8e1cf708f1ec"
      },
      "source": [
        "class Employee:\n",
        "\n",
        "    def __init__(self, first, last):\n",
        "        self.first = first\n",
        "        self.last = last\n",
        "        self.email = first + '.' + last + '@email.com'\n",
        "\n",
        "    def fullname(self):\n",
        "        return '{} {}'.format(self.first, self.last)\n",
        "\n",
        "\n",
        "emp_1 = Employee('John', 'Smith')\n",
        "emp_1.first = \"sonia\"\n",
        "\n",
        "print(emp_1.first)\n",
        "print(emp_1.email)\n",
        "print(emp_1.fullname())"
      ],
      "execution_count": 3,
      "outputs": [
        {
          "output_type": "stream",
          "text": [
            "sonia\n",
            "John.Smith@email.com\n",
            "sonia Smith\n"
          ],
          "name": "stdout"
        }
      ]
    },
    {
      "cell_type": "code",
      "metadata": {
        "id": "Lr8j8j24Vj-y",
        "colab_type": "code",
        "colab": {
          "base_uri": "https://localhost:8080/",
          "height": 69
        },
        "outputId": "6f49b8ba-8b23-4e4e-a847-e90de7e0d9ff"
      },
      "source": [
        "class Employee:\n",
        "\n",
        "    def __init__(self, first, last):\n",
        "        self.first = first\n",
        "        self.last = last\n",
        "    \n",
        "    def email(self):\n",
        "        return '{}.{}@email.com'.format(self.first, self.last)\n",
        "\n",
        "    def fullname(self):\n",
        "        return '{} {}'.format(self.first, self.last)\n",
        "\n",
        "\n",
        "emp_1 = Employee('John', 'Smith')\n",
        "emp_1.first = \"sonia\"\n",
        "\n",
        "print(emp_1.first)\n",
        "print(emp_1.email())\n",
        "print(emp_1.fullname())"
      ],
      "execution_count": 5,
      "outputs": [
        {
          "output_type": "stream",
          "text": [
            "sonia\n",
            "sonia.Smith@email.com\n",
            "sonia Smith\n"
          ],
          "name": "stdout"
        }
      ]
    },
    {
      "cell_type": "code",
      "metadata": {
        "id": "ODWy_-LwVkBe",
        "colab_type": "code",
        "colab": {
          "base_uri": "https://localhost:8080/",
          "height": 69
        },
        "outputId": "b3a7b3ea-c6eb-40fe-8c1e-152175bb1199"
      },
      "source": [
        "class Employee:\n",
        "\n",
        "    def __init__(self, first, last):\n",
        "        self.first = first\n",
        "        self.last = last\n",
        "    \n",
        "    @property\n",
        "    def email(self):\n",
        "        return '{}.{}@email.com'.format(self.first, self.last)\n",
        "\n",
        "    @property  \n",
        "    def fullname(self):\n",
        "        return '{} {}'.format(self.first, self.last)\n",
        "\n",
        "\n",
        "emp_1 = Employee('John', 'Smith')\n",
        "emp_1.first = \"sonia\"\n",
        "\n",
        "print(emp_1.first)\n",
        "print(emp_1.email)\n",
        "print(emp_1.fullname)"
      ],
      "execution_count": 7,
      "outputs": [
        {
          "output_type": "stream",
          "text": [
            "sonia\n",
            "sonia.Smith@email.com\n",
            "sonia Smith\n"
          ],
          "name": "stdout"
        }
      ]
    },
    {
      "cell_type": "markdown",
      "metadata": {
        "id": "ODZ8eQIEXn0b",
        "colab_type": "text"
      },
      "source": [
        "we are defining email as a method and accessing it like an method and we are able to do this only because of property decorator(@property).same for the full name"
      ]
    },
    {
      "cell_type": "code",
      "metadata": {
        "id": "1gn5WL5bVkEi",
        "colab_type": "code",
        "colab": {
          "base_uri": "https://localhost:8080/",
          "height": 236
        },
        "outputId": "c00744ed-d9f0-4eb1-ffec-6d5d91aa00af"
      },
      "source": [
        "class Employee:\n",
        "\n",
        "    def __init__(self, first, last):\n",
        "        self.first = first\n",
        "        self.last = last\n",
        "    \n",
        "    @property\n",
        "    def email(self):\n",
        "        return '{}.{}@email.com'.format(self.first, self.last)\n",
        "\n",
        "    @property  \n",
        "    def fullname(self):\n",
        "        return '{} {}'.format(self.first, self.last)\n",
        "\n",
        "\n",
        "emp_1 = Employee('John', 'Smith')\n",
        "emp_1.fullname = \"Amanpreet kaur\"\n",
        "\n",
        "print(emp_1.first)\n",
        "print(emp_1.email)\n",
        "print(emp_1.fullname)"
      ],
      "execution_count": 8,
      "outputs": [
        {
          "output_type": "error",
          "ename": "AttributeError",
          "evalue": "ignored",
          "traceback": [
            "\u001b[0;31m---------------------------------------------------------------------------\u001b[0m",
            "\u001b[0;31mAttributeError\u001b[0m                            Traceback (most recent call last)",
            "\u001b[0;32m<ipython-input-8-17ddb14d06a1>\u001b[0m in \u001b[0;36m<module>\u001b[0;34m()\u001b[0m\n\u001b[1;32m     15\u001b[0m \u001b[0;34m\u001b[0m\u001b[0m\n\u001b[1;32m     16\u001b[0m \u001b[0memp_1\u001b[0m \u001b[0;34m=\u001b[0m \u001b[0mEmployee\u001b[0m\u001b[0;34m(\u001b[0m\u001b[0;34m'John'\u001b[0m\u001b[0;34m,\u001b[0m \u001b[0;34m'Smith'\u001b[0m\u001b[0;34m)\u001b[0m\u001b[0;34m\u001b[0m\u001b[0;34m\u001b[0m\u001b[0m\n\u001b[0;32m---> 17\u001b[0;31m \u001b[0memp_1\u001b[0m\u001b[0;34m.\u001b[0m\u001b[0mfullname\u001b[0m \u001b[0;34m=\u001b[0m \u001b[0;34m\"Amanpreet kaur\"\u001b[0m\u001b[0;34m\u001b[0m\u001b[0;34m\u001b[0m\u001b[0m\n\u001b[0m\u001b[1;32m     18\u001b[0m \u001b[0;34m\u001b[0m\u001b[0m\n\u001b[1;32m     19\u001b[0m \u001b[0mprint\u001b[0m\u001b[0;34m(\u001b[0m\u001b[0memp_1\u001b[0m\u001b[0;34m.\u001b[0m\u001b[0mfirst\u001b[0m\u001b[0;34m)\u001b[0m\u001b[0;34m\u001b[0m\u001b[0;34m\u001b[0m\u001b[0m\n",
            "\u001b[0;31mAttributeError\u001b[0m: can't set attribute"
          ]
        }
      ]
    },
    {
      "cell_type": "markdown",
      "metadata": {
        "id": "2426rXoqYhPz",
        "colab_type": "text"
      },
      "source": [
        "To solve this error we will use the setter which is another type of decorator."
      ]
    },
    {
      "cell_type": "code",
      "metadata": {
        "id": "V6q5RzG7VkHb",
        "colab_type": "code",
        "colab": {
          "base_uri": "https://localhost:8080/",
          "height": 69
        },
        "outputId": "423ac2f6-9b61-46a5-f490-4e1f0a48c536"
      },
      "source": [
        "class Employee:\n",
        "\n",
        "    def __init__(self, first, last):\n",
        "        self.first = first\n",
        "        self.last = last\n",
        "    \n",
        "    @property\n",
        "    def email(self):\n",
        "        return '{}.{}@email.com'.format(self.first, self.last)\n",
        "\n",
        "    @property  \n",
        "    def fullname(self):\n",
        "        return '{} {}'.format(self.first, self.last)\n",
        "\n",
        "    @fullname.setter\n",
        "    def fullname(self, name):\n",
        "        first, last = name.split(' ')\n",
        "        self.first = first\n",
        "        self.last = last  \n",
        "\n",
        "emp_1 = Employee('John', 'Smith')\n",
        "emp_1.fullname = \"Amanpreet kaur\"\n",
        "\n",
        "print(emp_1.first)\n",
        "print(emp_1.email)\n",
        "print(emp_1.fullname)"
      ],
      "execution_count": 9,
      "outputs": [
        {
          "output_type": "stream",
          "text": [
            "Amanpreet\n",
            "Amanpreet.kaur@email.com\n",
            "Amanpreet kaur\n"
          ],
          "name": "stdout"
        }
      ]
    },
    {
      "cell_type": "code",
      "metadata": {
        "id": "s4xn7qJ2VkK1",
        "colab_type": "code",
        "colab": {}
      },
      "source": [
        "class Employee:\n",
        "\n",
        "    def __init__(self, first, last):\n",
        "        self.first = first\n",
        "        self.last = last\n",
        "\n",
        "    @property\n",
        "    def email(self):\n",
        "        return '{}.{}@email.com'.format(self.first, self.last)\n",
        "\n",
        "    @property\n",
        "    def fullname(self):\n",
        "        return '{} {}'.format(self.first, self.last)\n",
        "    \n",
        "    @fullname.setter\n",
        "    def fullname(self, name):\n",
        "        first, last = name.split(' ')\n",
        "        self.first = first\n",
        "        self.last = last\n",
        "    \n",
        "    @fullname.deleter\n",
        "    def fullname(self):\n",
        "        print('Delete Name!')\n",
        "        self.first = None\n",
        "        self.last = None\n",
        "\n",
        "\n",
        "emp_1 = Employee('John', 'Smith')\n",
        "emp_1.fullname = \"Corey Schafer\"\n",
        "\n",
        "print(emp_1.first)\n",
        "print(emp_1.email)\n",
        "print(emp_1.fullname)\n",
        "\n",
        "del emp_1.fullname"
      ],
      "execution_count": 0,
      "outputs": []
    }
  ]
}