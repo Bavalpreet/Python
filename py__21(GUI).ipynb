{
  "nbformat": 4,
  "nbformat_minor": 0,
  "metadata": {
    "colab": {
      "name": "py__21(GUI).ipynb",
      "version": "0.3.2",
      "provenance": [],
      "collapsed_sections": []
    },
    "kernelspec": {
      "name": "python3",
      "display_name": "Python 3"
    }
  },
  "cells": [
    {
      "cell_type": "code",
      "metadata": {
        "id": "7szFkLnmautQ",
        "colab_type": "code",
        "colab": {}
      },
      "source": [
        "#creating a window\n",
        "import tkinter as Tk\n",
        "x = Tk.Tk()\n",
        "x.mainloop()"
      ],
      "execution_count": 0,
      "outputs": []
    },
    {
      "cell_type": "code",
      "metadata": {
        "id": "Brlpw2c3d4cN",
        "colab_type": "code",
        "colab": {}
      },
      "source": [
        "#creating a button in the window\n",
        "import tkinter as Tk\n",
        "x = Tk.Tk()\n",
        "bt = Tk.Button(x)# x is telling us that button is to be created at root window\n",
        "bt.pack()\n",
        "x.mainloop()"
      ],
      "execution_count": 0,
      "outputs": []
    },
    {
      "cell_type": "code",
      "metadata": {
        "id": "uiqnRsMfevFr",
        "colab_type": "code",
        "colab": {}
      },
      "source": [
        "#button with name on it\n",
        "import tkinter as Tk\n",
        "x = Tk.Tk()\n",
        "bt = Tk.Button(x, text = 'Fire', width = 25)\n",
        "bt.pack()\n",
        "x.mainloop()"
      ],
      "execution_count": 0,
      "outputs": []
    },
    {
      "cell_type": "code",
      "metadata": {
        "id": "skZL--sZfLi4",
        "colab_type": "code",
        "colab": {}
      },
      "source": [
        "#add multiple buttons\n",
        "import tkinter as Tk\n",
        "x = Tk.Tk()\n",
        "bt = Tk.Button(x, text = 'Fire', width = 25)\n",
        "bt.pack()\n",
        "bt = Tk.Button(x, text = 'hold', width = 25)\n",
        "bt.pack()\n",
        "bt = Tk.Button(x, text = 'change weapon', width = 25)\n",
        "bt.pack()\n",
        "bt = Tk.Button(x, text = 'reload', width = 25)\n",
        "bt.pack()\n",
        "bt = Tk.Button(x, text = 'zoom', width = 25)\n",
        "bt.pack()\n",
        "x.mainloop()\n"
      ],
      "execution_count": 0,
      "outputs": []
    },
    {
      "cell_type": "code",
      "metadata": {
        "id": "0ASKYcfNgexD",
        "colab_type": "code",
        "colab": {}
      },
      "source": [
        "#making piano\n",
        "import tkinter as Tk\n",
        "x = Tk.Tk()\n",
        "bt = Tk.Button(x, text = 'sa', height = 25, width = 5)\n",
        "bt.grid(row = 0, column = 0)\n",
        "bt = Tk.Button(x, text = 're', height = 25, width = 5)\n",
        "bt.grid(row = 0, column = 1)\n",
        "bt = Tk.Button(x, text = 'ga', height = 25, width = 5)\n",
        "bt.grid(row = 0, column = 2)\n",
        "bt = Tk.Button(x, text = 'ma', height = 25, width = 5)\n",
        "bt.grid(row = 0, column = 3)\n",
        "bt = Tk.Button(x, text = 'pa', height = 25, width = 5)\n",
        "bt.grid(row = 0, column = 4)\n",
        "bt = Tk.Button(x, text = 'dha', height = 25, width = 5)\n",
        "bt.grid(row = 0, column = 5)\n",
        "bt = Tk.Button(x, text = 'ni', height = 25, width = 5)\n",
        "bt.grid(row = 0, column = 6)\n",
        "bt = Tk.Button(x, text = 'sa', height = 25, width = 5)\n",
        "bt.grid(row = 0, column = 7)\n",
        "x.mainloop()"
      ],
      "execution_count": 0,
      "outputs": []
    },
    {
      "cell_type": "code",
      "metadata": {
        "id": "8do3rxAgd-rU",
        "colab_type": "code",
        "colab": {}
      },
      "source": [
        "# on clicking button close the piano window\n",
        "import tkinter as Tk\n",
        "x = Tk.Tk()\n",
        "bt = Tk.Button(x, text = 'sa', height = 25, width = 5, command = x.destroy)\n",
        "bt.grid(row = 0, column = 0)\n",
        "bt = Tk.Button(x, text = 're', height = 25, width = 5)\n",
        "bt.grid(row = 0, column = 1)\n",
        "bt = Tk.Button(x, text = 'ga', height = 25, width = 5)\n",
        "bt.grid(row = 0, column = 2)\n",
        "bt = Tk.Button(x, text = 'ma', height = 25, width = 5)\n",
        "bt.grid(row = 0, column = 3)\n",
        "bt = Tk.Button(x, text = 'pa', height = 25, width = 5)\n",
        "bt.grid(row = 0, column = 4)\n",
        "bt = Tk.Button(x, text = 'dha', height = 25, width = 5)\n",
        "bt.grid(row = 0, column = 5)\n",
        "bt = Tk.Button(x, text = 'ni', height = 25, width = 5)\n",
        "bt.grid(row = 0, column = 6)\n",
        "bt = Tk.Button(x, text = 'sa', height = 25, width = 5)\n",
        "bt.grid(row = 0, column = 7)\n",
        "x.mainloop()"
      ],
      "execution_count": 0,
      "outputs": []
    },
    {
      "cell_type": "code",
      "metadata": {
        "id": "XuHMJ_0iikqS",
        "colab_type": "code",
        "colab": {}
      },
      "source": [
        "#adding title to your window\n",
        "import tkinter as Tk\n",
        "x = Tk.Tk()\n",
        "x.title('combat controls')\n",
        "bt = Tk.Button(x, text = 'Fire', width = 25)\n",
        "bt.pack()\n",
        "bt = Tk.Button(x, text = 'hold', width = 25)\n",
        "bt.pack()\n",
        "bt = Tk.Button(x, text = 'change weapon', width = 25)\n",
        "bt.pack()\n",
        "bt = Tk.Button(x, text = 'reload', width = 25)\n",
        "bt.pack()\n",
        "bt = Tk.Button(x, text = 'zoom', width = 25)\n",
        "bt.pack()\n",
        "x.mainloop()"
      ],
      "execution_count": 0,
      "outputs": []
    },
    {
      "cell_type": "code",
      "metadata": {
        "id": "gOvWtRMxlvw4",
        "colab_type": "code",
        "colab": {}
      },
      "source": [
        "#canvas\n",
        "from tkinter import *\n",
        "master = Tk()\n",
        "w = Canvas(master, width = 40, height = 60)\n",
        "w.pack()\n",
        "canvas_height = 20\n",
        "canvas_width = 200\n",
        "y = int(canvas_height / 2)\n",
        "w.create_line(0,y,canvas_width, y)\n",
        "mainloop()"
      ],
      "execution_count": 0,
      "outputs": []
    },
    {
      "cell_type": "code",
      "metadata": {
        "id": "YQ-mPt7ZnyUd",
        "colab_type": "code",
        "colab": {}
      },
      "source": [
        "#canvas\n",
        "from tkinter import *\n",
        "master = Tk()\n",
        "w = Canvas(master, width = 40, height = 60,bd = 50, bg = 'red')\n",
        "w.pack()\n",
        "canvas_height = 20\n",
        "canvas_width = 200\n",
        "y = int(canvas_height / 2)\n",
        "w.create_line(0,y,canvas_width, y)\n",
        "mainloop()\n"
      ],
      "execution_count": 0,
      "outputs": []
    },
    {
      "cell_type": "code",
      "metadata": {
        "id": "DVyBUNQXobgp",
        "colab_type": "code",
        "colab": {}
      },
      "source": [
        "#drawing a line on canvas\n",
        "import tkinter as Tk\n",
        "x = Tk.Tk()\n",
        "x.title('canvas drawing')\n",
        "cnvs = Tk.Canvas(x, width = 500, height = 500)\n",
        "cnvs.pack()\n",
        "x1 = 0\n",
        "y1 = 10\n",
        "x2 = 240\n",
        "y2 = 150\n",
        "cnvs.create_line(x1,y1,x2,y2)\n",
        "x.mainloop()"
      ],
      "execution_count": 0,
      "outputs": []
    },
    {
      "cell_type": "code",
      "metadata": {
        "id": "IfbngVokrAL7",
        "colab_type": "code",
        "colab": {}
      },
      "source": [
        "#drawing a polygon on canvas\n",
        "import tkinter as Tk\n",
        "x = Tk.Tk()\n",
        "x.title('canvas drawing')\n",
        "cnvs = Tk.Canvas(x, width = 500, height = 500)\n",
        "cnvs.pack()\n",
        "x1 = 0\n",
        "y1 = 10\n",
        "x2 = 240\n",
        "y2 = 150\n",
        "x3 = 320\n",
        "y3 = 270\n",
        "x4 = 420\n",
        "y4 = 295\n",
        "cnvs.create_polygon(x1,y1,x2,y2,x3,y3,x4,y4)\n",
        "x.mainloop()\n",
        "\n"
      ],
      "execution_count": 0,
      "outputs": []
    },
    {
      "cell_type": "code",
      "metadata": {
        "id": "bSCl3kZBsh1p",
        "colab_type": "code",
        "colab": {}
      },
      "source": [
        "#drawing a hexagon on canvas\n",
        "import tkinter as Tk\n",
        "x = Tk.Tk()\n",
        "x.title('canvas drawing')\n",
        "cnvs = Tk.Canvas(x, width = 500, height = 500)\n",
        "cnvs.pack()\n",
        "p1 = (100, 0)\n",
        "p2 = (50,50)\n",
        "p3 = (50, 100)\n",
        "p4 = (100, 150)\n",
        "p5 = (150,100)\n",
        "p6 = (150,50)\n",
        "cnvs.create_polygon(p1[0], p1[1],\n",
        "                    p2[0], p2[1],\n",
        "                    p3[0], p3[1],\n",
        "                    p4[0], p4[1],\n",
        "                    p5[0], p5[1],\n",
        "                    p6[0], p6[1])\n",
        "x.mainloop()\n",
        "\n"
      ],
      "execution_count": 0,
      "outputs": []
    },
    {
      "cell_type": "code",
      "metadata": {
        "id": "kzc4r4jDuDmB",
        "colab_type": "code",
        "colab": {}
      },
      "source": [
        "#drawing a star on canvas\n",
        "import tkinter as Tk\n",
        "x = Tk.Tk()\n",
        "x.title('canvas drawing')\n",
        "cnvs = Tk.Canvas(x, width = 500, height = 500)\n",
        "cnvs.pack()\n",
        "p1 = (100, 0)\n",
        "p2 = (50,50)\n",
        "p3 = (50, 100)\n",
        "p4 = (100, 150)\n",
        "p5 = (150,100)\n",
        "p6 = (150,50)\n",
        "cnvs.create_polygon(p3[0], p3[1],\n",
        "                    p1[0], p1[1],\n",
        "                    p5[0], p5[1],\n",
        "                    p2[0], p2[1],\n",
        "                    p6[0], p6[1])\n",
        "x.mainloop()\n",
        "\n"
      ],
      "execution_count": 0,
      "outputs": []
    },
    {
      "cell_type": "code",
      "metadata": {
        "id": "sYLbO2sKvRcY",
        "colab_type": "code",
        "colab": {}
      },
      "source": [
        "#drawing a star on canvas\n",
        "import tkinter as Tk\n",
        "x = Tk.Tk()\n",
        "x.title('canvas drawing')\n",
        "cnvs = Tk.Canvas(x, width = 500, height = 500)\n",
        "cnvs.pack()\n",
        "scale = 50\n",
        "p1 = (scale*2, 0)\n",
        "p2 = (scale,scale)\n",
        "p3 = (scale, scale*2)\n",
        "p4 = (scale*2, scale*3)\n",
        "p5 = (scale*3,scale*2)\n",
        "p6 = (scale*3,scale)\n",
        "cnvs.create_polygon(p3[0], p3[1],\n",
        "                    p1[0], p1[1],\n",
        "                    p5[0], p5[1],\n",
        "                    p2[0], p2[1],\n",
        "                    p6[0], p6[1])\n",
        "x.mainloop()\n",
        "\n"
      ],
      "execution_count": 0,
      "outputs": []
    },
    {
      "cell_type": "code",
      "metadata": {
        "id": "_rDg8do_wZgS",
        "colab_type": "code",
        "colab": {}
      },
      "source": [
        "#drawing a star on canvas\n",
        "import tkinter as Tk\n",
        "x = Tk.Tk()\n",
        "x.title('canvas drawing')\n",
        "cnvs = Tk.Canvas(x, width = 500, height = 500)\n",
        "cnvs.pack()\n",
        "for y in range(5):\n",
        "  scale = 50*y\n",
        "  p1 = (scale*2, 0)\n",
        "  p2 = (scale,scale)\n",
        "  p3 = (scale, scale*2)\n",
        "  p4 = (scale*2, scale*3)\n",
        "  p5 = (scale*3,scale*2)\n",
        "  p6 = (scale*3,scale)\n",
        "  cnvs.create_polygon(p3[0], p3[1],\n",
        "                      p1[0], p1[1],\n",
        "                      p5[0], p5[1],\n",
        "                      p2[0], p2[1],\n",
        "                      p6[0], p6[1])\n",
        "x.mainloop()\n"
      ],
      "execution_count": 0,
      "outputs": []
    },
    {
      "cell_type": "code",
      "metadata": {
        "id": "6jo8NslRxz0q",
        "colab_type": "code",
        "colab": {}
      },
      "source": [
        ""
      ],
      "execution_count": 0,
      "outputs": []
    }
  ]
}