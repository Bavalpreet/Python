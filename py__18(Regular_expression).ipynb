{
  "nbformat": 4,
  "nbformat_minor": 0,
  "metadata": {
    "colab": {
      "name": "py__18(Regular expression).ipynb",
      "version": "0.3.2",
      "provenance": [],
      "collapsed_sections": []
    },
    "kernelspec": {
      "name": "python3",
      "display_name": "Python 3"
    }
  },
  "cells": [
    {
      "cell_type": "code",
      "metadata": {
        "id": "MObLpsBr7wa_",
        "colab_type": "code",
        "colab": {
          "base_uri": "https://localhost:8080/",
          "height": 69
        },
        "outputId": "f3bb5d50-f064-45c8-83dc-e740c5a060b2"
      },
      "source": [
        "import re\n",
        "#REGular EXpression\n",
        "pattern = re.compile('ab*')\n",
        "print(pattern.match('abbbbbbbbbbbbbb'))\n",
        "print(pattern.match('dcjcnjksnckscb'))\n",
        "print(pattern.match('abbbbsjscnsnk'))"
      ],
      "execution_count": 2,
      "outputs": [
        {
          "output_type": "stream",
          "text": [
            "<_sre.SRE_Match object; span=(0, 15), match='abbbbbbbbbbbbbb'>\n",
            "None\n",
            "<_sre.SRE_Match object; span=(0, 5), match='abbbb'>\n"
          ],
          "name": "stdout"
        }
      ]
    },
    {
      "cell_type": "markdown",
      "metadata": {
        "id": "Xkal8GeM9QrT",
        "colab_type": "text"
      },
      "source": [
        "print(pattern.match('abbbbbbbbbbbbbb')) here matching from 0 to 15\n",
        "\n",
        "print(pattern.match('dcjcnjksnckscb')) here matching none\n",
        "\n",
        "print(pattern.match('abbbbsjscnsnk')) here matching from 0 to 5"
      ]
    },
    {
      "cell_type": "code",
      "metadata": {
        "id": "aQdwkHDq96Mi",
        "colab_type": "code",
        "colab": {
          "base_uri": "https://localhost:8080/",
          "height": 173
        },
        "outputId": "afe5379f-eb72-4bd3-f26b-ccfea2eb1a61"
      },
      "source": [
        "pattern = re.compile('[abcdef]')#square bracket says regex can have these set of characters nothing else\n",
        "print(pattern.match('abcdef'))\n",
        "print(pattern.match('bcsd'))\n",
        "print(pattern.match('csdddef'))\n",
        "print(pattern.match('dsacecsf'))\n",
        "print(pattern.match('eascewfxa'))\n",
        "print(pattern.match('fsajcka'))\n",
        "print(pattern.match('vdesajcka'))\n",
        "print(pattern.match('kacscsc'))\n",
        "print(pattern.match('qjcka'))"
      ],
      "execution_count": 9,
      "outputs": [
        {
          "output_type": "stream",
          "text": [
            "<_sre.SRE_Match object; span=(0, 1), match='a'>\n",
            "<_sre.SRE_Match object; span=(0, 1), match='b'>\n",
            "<_sre.SRE_Match object; span=(0, 1), match='c'>\n",
            "<_sre.SRE_Match object; span=(0, 1), match='d'>\n",
            "<_sre.SRE_Match object; span=(0, 1), match='e'>\n",
            "<_sre.SRE_Match object; span=(0, 1), match='f'>\n",
            "None\n",
            "None\n",
            "None\n"
          ],
          "name": "stdout"
        }
      ]
    },
    {
      "cell_type": "markdown",
      "metadata": {
        "id": "55GySCVv-_8p",
        "colab_type": "text"
      },
      "source": [
        "you have seen that \n",
        "\n",
        "pattern = re.compile('[abcdef]')\n",
        "\n",
        "here we define the pattern that whenever we perform pattern.match than it should start with any of the above defined i.e abcdef that is why when we are doing pattern.match with any of character define above it is giving us output. for any other than that it will give none as an output.\n"
      ]
    },
    {
      "cell_type": "code",
      "metadata": {
        "id": "_DSW213z_9gq",
        "colab_type": "code",
        "colab": {
          "base_uri": "https://localhost:8080/",
          "height": 139
        },
        "outputId": "1d4252d5-121b-455e-b959-0f6492782197"
      },
      "source": [
        "pattern = re.compile('[abc]bingo')\n",
        "print(pattern.match('abingo'))\n",
        "print(pattern.match('bbingo'))\n",
        "print(pattern.match('cbingo'))\n",
        "print(pattern.match('bingo'))\n",
        "print(pattern.match('dbingo'))\n",
        "print(pattern.match('edvdfv'))\n",
        "print(pattern.match('bjnjncw'))"
      ],
      "execution_count": 11,
      "outputs": [
        {
          "output_type": "stream",
          "text": [
            "<_sre.SRE_Match object; span=(0, 6), match='abingo'>\n",
            "<_sre.SRE_Match object; span=(0, 6), match='bbingo'>\n",
            "<_sre.SRE_Match object; span=(0, 6), match='cbingo'>\n",
            "None\n",
            "None\n",
            "None\n",
            "None\n"
          ],
          "name": "stdout"
        }
      ]
    },
    {
      "cell_type": "code",
      "metadata": {
        "id": "Uz-01hxwA2kl",
        "colab_type": "code",
        "colab": {
          "base_uri": "https://localhost:8080/",
          "height": 87
        },
        "outputId": "ad1d909f-e87d-4147-aa75-61a52914127f"
      },
      "source": [
        "pattern = re.compile('[a-c]bingo')\n",
        "print(pattern.match('abingo'))\n",
        "print(pattern.match('bbingo'))\n",
        "print(pattern.match('cbingo'))\n",
        "print(pattern.match('dbingo'))\n"
      ],
      "execution_count": 13,
      "outputs": [
        {
          "output_type": "stream",
          "text": [
            "<_sre.SRE_Match object; span=(0, 6), match='abingo'>\n",
            "<_sre.SRE_Match object; span=(0, 6), match='bbingo'>\n",
            "<_sre.SRE_Match object; span=(0, 6), match='cbingo'>\n",
            "None\n"
          ],
          "name": "stdout"
        }
      ]
    },
    {
      "cell_type": "code",
      "metadata": {
        "id": "F8ChoYBPB2uX",
        "colab_type": "code",
        "colab": {
          "base_uri": "https://localhost:8080/",
          "height": 87
        },
        "outputId": "11722bdd-1701-46a5-f8ac-441ead898985"
      },
      "source": [
        "pattern = re.compile('abcd[a-c]zyxc')\n",
        "print(pattern.match('abcdazyxc'))\n",
        "print(pattern.match('abcdbzyxc'))\n",
        "print(pattern.match('abcdczyxc'))\n",
        "print(pattern.match('abcddzyxc'))"
      ],
      "execution_count": 15,
      "outputs": [
        {
          "output_type": "stream",
          "text": [
            "<_sre.SRE_Match object; span=(0, 9), match='abcdazyxc'>\n",
            "<_sre.SRE_Match object; span=(0, 9), match='abcdbzyxc'>\n",
            "<_sre.SRE_Match object; span=(0, 9), match='abcdczyxc'>\n",
            "None\n"
          ],
          "name": "stdout"
        }
      ]
    },
    {
      "cell_type": "code",
      "metadata": {
        "id": "QEhTWs8DBiBV",
        "colab_type": "code",
        "colab": {
          "base_uri": "https://localhost:8080/",
          "height": 69
        },
        "outputId": "061e0f17-2425-49ca-a98b-db76003a15e1"
      },
      "source": [
        "pattern = re.compile('[a-zA-z]bingo')\n",
        "print(pattern.match('abingo'))\n",
        "print(pattern.match('0abingo'))\n",
        "print(pattern.match('Sbingo'))\n"
      ],
      "execution_count": 14,
      "outputs": [
        {
          "output_type": "stream",
          "text": [
            "<_sre.SRE_Match object; span=(0, 6), match='abingo'>\n",
            "None\n",
            "<_sre.SRE_Match object; span=(0, 6), match='Sbingo'>\n"
          ],
          "name": "stdout"
        }
      ]
    },
    {
      "cell_type": "code",
      "metadata": {
        "id": "IXN9w55qCOfl",
        "colab_type": "code",
        "colab": {
          "base_uri": "https://localhost:8080/",
          "height": 104
        },
        "outputId": "964c72a4-9e5b-4be4-a8a8-6535d06e7677"
      },
      "source": [
        "pattern = re.compile('abcd[a-g]efg')\n",
        "print(pattern.match('abcdaefg'))\n",
        "print(pattern.match('abcdbefg'))\n",
        "print(pattern.match('abcdcefg'))\n",
        "print(pattern.match('abcddefg'))\n",
        "print(pattern.match('abcdeefg'))"
      ],
      "execution_count": 16,
      "outputs": [
        {
          "output_type": "stream",
          "text": [
            "<_sre.SRE_Match object; span=(0, 8), match='abcdaefg'>\n",
            "<_sre.SRE_Match object; span=(0, 8), match='abcdbefg'>\n",
            "<_sre.SRE_Match object; span=(0, 8), match='abcdcefg'>\n",
            "<_sre.SRE_Match object; span=(0, 8), match='abcddefg'>\n",
            "<_sre.SRE_Match object; span=(0, 8), match='abcdeefg'>\n"
          ],
          "name": "stdout"
        }
      ]
    },
    {
      "cell_type": "code",
      "metadata": {
        "id": "1qSGt4ZZCmI-",
        "colab_type": "code",
        "colab": {
          "base_uri": "https://localhost:8080/",
          "height": 104
        },
        "outputId": "4cbfe181-45d1-4ee5-ed3d-1cd8f475ecb7"
      },
      "source": [
        "pattern = re.compile('abcd[^a-g]efg')# means we can't have null and values ato g inbetween \n",
        "\n",
        "print(pattern.match('abcdbefg'))\n",
        "print(pattern.match('abcdcefg'))\n",
        "print(pattern.match('abcddefg'))\n",
        "print(pattern.match('abcd3efg'))\n",
        "print(pattern.match('abcdWefg'))"
      ],
      "execution_count": 17,
      "outputs": [
        {
          "output_type": "stream",
          "text": [
            "None\n",
            "None\n",
            "None\n",
            "<_sre.SRE_Match object; span=(0, 8), match='abcd3efg'>\n",
            "<_sre.SRE_Match object; span=(0, 8), match='abcdWefg'>\n"
          ],
          "name": "stdout"
        }
      ]
    },
    {
      "cell_type": "code",
      "metadata": {
        "id": "l1gA3hcJDffB",
        "colab_type": "code",
        "colab": {
          "base_uri": "https://localhost:8080/",
          "height": 87
        },
        "outputId": "08c9b010-de03-4f8d-d4ea-0b01eeabb40d"
      },
      "source": [
        "pattern = re.compile('school[\\d]')# means it can hold values from0 to 9\n",
        "print(pattern.match('school0'))\n",
        "print(pattern.match('school9'))\n",
        "print(pattern.match('school5'))\n",
        "print(pattern.match('school534253635'))"
      ],
      "execution_count": 20,
      "outputs": [
        {
          "output_type": "stream",
          "text": [
            "<_sre.SRE_Match object; span=(0, 7), match='school0'>\n",
            "<_sre.SRE_Match object; span=(0, 7), match='school9'>\n",
            "<_sre.SRE_Match object; span=(0, 7), match='school5'>\n",
            "<_sre.SRE_Match object; span=(0, 7), match='school5'>\n"
          ],
          "name": "stdout"
        }
      ]
    },
    {
      "cell_type": "code",
      "metadata": {
        "id": "YKcjWaoCD4tK",
        "colab_type": "code",
        "colab": {}
      },
      "source": [
        "# \\d: Digit[0-9]\n",
        "# \\D: Anything except Digit [^0-9]\n",
        "# \\s: Whitespace[]\n",
        "# \\S: Anything except Whitespace [^]\n",
        "# \\w: Alphanumeric[a-zA-Z0-9]\n",
        "# \\W: Anything except Whitespace [^a-zA-Z0-9]\n",
        "# * closure\n",
        "# + clean closure\n",
        "# .: dot accept everything except newline character i.e [^\\n]\n",
        "# []: used to represent character class\n",
        "# (): used for combining a set or making a group\n",
        "# {}: used to denotes number of times it should repeat"
      ],
      "execution_count": 0,
      "outputs": []
    },
    {
      "cell_type": "code",
      "metadata": {
        "id": "c0Vo-oGgEojE",
        "colab_type": "code",
        "colab": {
          "base_uri": "https://localhost:8080/",
          "height": 35
        },
        "outputId": "74fe783d-1123-4f31-becf-be87a441e46f"
      },
      "source": [
        "pattern = re.compile('school[\\d]*')\n",
        "print(pattern.match('school534253635'))"
      ],
      "execution_count": 19,
      "outputs": [
        {
          "output_type": "stream",
          "text": [
            "<_sre.SRE_Match object; span=(0, 15), match='school534253635'>\n"
          ],
          "name": "stdout"
        }
      ]
    },
    {
      "cell_type": "code",
      "metadata": {
        "id": "gwIUzuUIFSM-",
        "colab_type": "code",
        "colab": {
          "base_uri": "https://localhost:8080/",
          "height": 87
        },
        "outputId": "fee82f78-ae7c-45e9-a4d6-4205b091f993"
      },
      "source": [
        "pattern = re.compile('school[\\d]+')\n",
        "\n",
        "print(pattern.match('school'))\n",
        "print(pattern.match('school5'))\n",
        "print(pattern.match('school53425'))\n",
        "print(pattern.match('school534253635'))"
      ],
      "execution_count": 21,
      "outputs": [
        {
          "output_type": "stream",
          "text": [
            "None\n",
            "<_sre.SRE_Match object; span=(0, 7), match='school5'>\n",
            "<_sre.SRE_Match object; span=(0, 11), match='school53425'>\n",
            "<_sre.SRE_Match object; span=(0, 15), match='school534253635'>\n"
          ],
          "name": "stdout"
        }
      ]
    },
    {
      "cell_type": "code",
      "metadata": {
        "id": "2lrja2QqGZsO",
        "colab_type": "code",
        "colab": {
          "base_uri": "https://localhost:8080/",
          "height": 104
        },
        "outputId": "d3539836-5b8b-4f96-8fcf-be805f13d61d"
      },
      "source": [
        "pattern = re.compile('school[\\d]{1,3}')\n",
        "print(pattern.match('school1'))\n",
        "print(pattern.match('school11'))\n",
        "print(pattern.match('school111'))\n",
        "print(pattern.match('school11111'))\n",
        "print(pattern.match('school'))\n"
      ],
      "execution_count": 24,
      "outputs": [
        {
          "output_type": "stream",
          "text": [
            "<_sre.SRE_Match object; span=(0, 7), match='school1'>\n",
            "<_sre.SRE_Match object; span=(0, 8), match='school11'>\n",
            "<_sre.SRE_Match object; span=(0, 9), match='school111'>\n",
            "<_sre.SRE_Match object; span=(0, 9), match='school111'>\n",
            "None\n"
          ],
          "name": "stdout"
        }
      ]
    },
    {
      "cell_type": "code",
      "metadata": {
        "id": "mNrO_p-UHn3-",
        "colab_type": "code",
        "colab": {
          "base_uri": "https://localhost:8080/",
          "height": 87
        },
        "outputId": "356b39bb-9dd1-42f2-8b82-aa3ce78247a1"
      },
      "source": [
        "pattern = re.compile('(ab)*')\n",
        "print(pattern.match(''))\n",
        "print(pattern.match('a'))\n",
        "print(pattern.match('b'))\n",
        "print(pattern.match('ab'))"
      ],
      "execution_count": 27,
      "outputs": [
        {
          "output_type": "stream",
          "text": [
            "<_sre.SRE_Match object; span=(0, 0), match=''>\n",
            "<_sre.SRE_Match object; span=(0, 0), match=''>\n",
            "<_sre.SRE_Match object; span=(0, 0), match=''>\n",
            "<_sre.SRE_Match object; span=(0, 2), match='ab'>\n"
          ],
          "name": "stdout"
        }
      ]
    },
    {
      "cell_type": "code",
      "metadata": {
        "id": "q-EaX036IoVK",
        "colab_type": "code",
        "colab": {
          "base_uri": "https://localhost:8080/",
          "height": 52
        },
        "outputId": "704900f8-3418-46b8-e145-15a2e477e265"
      },
      "source": [
        "pattern = re.compile('Himanshu')\n",
        "print(pattern.search('kashkdadkhaHimanshujshdakhd'))#it searches for the wole \n",
        "print(pattern.match('kashkdadkhaHimanshujshdakhd'))#it looks at starting only"
      ],
      "execution_count": 30,
      "outputs": [
        {
          "output_type": "stream",
          "text": [
            "<_sre.SRE_Match object; span=(11, 19), match='Himanshu'>\n",
            "None\n"
          ],
          "name": "stdout"
        }
      ]
    },
    {
      "cell_type": "code",
      "metadata": {
        "id": "8z3SmU47JVBc",
        "colab_type": "code",
        "colab": {
          "base_uri": "https://localhost:8080/",
          "height": 52
        },
        "outputId": "351814bd-2dd7-4a71-ca02-72a60890cbf0"
      },
      "source": [
        "pattern = re.compile('(ab)*')\n",
        "print(pattern.search('kashkdadkhabHimanshujshdakhd'))#isko starting me empty space milgeya to isne bas use dhoond ke chod diya ab pe dhyan nahi diya aage ki wo bhi present hai\n",
        "print(pattern.findall('kashkdadkhabHimanshujshdakhd'))\n"
      ],
      "execution_count": 32,
      "outputs": [
        {
          "output_type": "stream",
          "text": [
            "<_sre.SRE_Match object; span=(0, 0), match=''>\n",
            "['', '', '', '', '', '', '', '', '', '', 'ab', '', '', '', '', '', '', '', '', '', '', '', '', '', '', '', '', '']\n"
          ],
          "name": "stdout"
        }
      ]
    },
    {
      "cell_type": "code",
      "metadata": {
        "id": "hxkBc6QXczUP",
        "colab_type": "code",
        "colab": {
          "base_uri": "https://localhost:8080/",
          "height": 52
        },
        "outputId": "ae270c9a-b990-4f25-a06d-bba85a323753"
      },
      "source": [
        "pattern = re.compile('(ab)+')\n",
        "print(pattern.findall('kashkdadkhabHimanshujshdakhd'))#it gives us list as output\n",
        "print(pattern.finditer('kashkdadkhabHimanshujshdakhd'))#whereas it gives ud iterator\n"
      ],
      "execution_count": 4,
      "outputs": [
        {
          "output_type": "stream",
          "text": [
            "['ab']\n",
            "<callable_iterator object at 0x7f31313f5390>\n"
          ],
          "name": "stdout"
        }
      ]
    },
    {
      "cell_type": "code",
      "metadata": {
        "id": "IOy4kaKTdfng",
        "colab_type": "code",
        "colab": {
          "base_uri": "https://localhost:8080/",
          "height": 35
        },
        "outputId": "07371ee8-2af8-43ca-9d6c-58ef6d59f4c5"
      },
      "source": [
        "re.sub('Iron Man', 'Batman', 'Iron Man is the best ')"
      ],
      "execution_count": 5,
      "outputs": [
        {
          "output_type": "execute_result",
          "data": {
            "text/plain": [
              "'Batman is the best '"
            ]
          },
          "metadata": {
            "tags": []
          },
          "execution_count": 5
        }
      ]
    },
    {
      "cell_type": "code",
      "metadata": {
        "id": "1HOArntyd7UE",
        "colab_type": "code",
        "colab": {
          "base_uri": "https://localhost:8080/",
          "height": 35
        },
        "outputId": "82c06201-236a-4f4e-8e22-5bcee5b18e39"
      },
      "source": [
        "re.sub('Stark Industries', 'Wayne Enterprises', 'Stark Industries is the best ')"
      ],
      "execution_count": 6,
      "outputs": [
        {
          "output_type": "execute_result",
          "data": {
            "text/plain": [
              "'Wayne Enterprises is the best '"
            ]
          },
          "metadata": {
            "tags": []
          },
          "execution_count": 6
        }
      ]
    },
    {
      "cell_type": "code",
      "metadata": {
        "id": "GcjYAewGd2NU",
        "colab_type": "code",
        "colab": {
          "base_uri": "https://localhost:8080/",
          "height": 35
        },
        "outputId": "e243b2f2-a0f5-4eb7-a473-f90b1ccee43b"
      },
      "source": [
        "re.sub(r'S[\\w]{4,14}', 'Wayne Enterprises', 'Stark Industries is the best ')\n"
      ],
      "execution_count": 7,
      "outputs": [
        {
          "output_type": "execute_result",
          "data": {
            "text/plain": [
              "'Wayne Enterprises Industries is the best '"
            ]
          },
          "metadata": {
            "tags": []
          },
          "execution_count": 7
        }
      ]
    },
    {
      "cell_type": "markdown",
      "metadata": {
        "id": "pDjc3axgfuWW",
        "colab_type": "text"
      },
      "source": [
        "r'S[\\w]{4,14}' means if after S any alphanumeric character is coming minimum4 and maximum 14 times then then replace it with Wayne Enterprises."
      ]
    },
    {
      "cell_type": "code",
      "metadata": {
        "id": "wSwUuomDgoCn",
        "colab_type": "code",
        "colab": {
          "base_uri": "https://localhost:8080/",
          "height": 35
        },
        "outputId": "bca678b7-ce78-4aaf-83b4-198377284d5d"
      },
      "source": [
        "pattern = re.compile('[\\w]*ab$', re.IGNORECASE)#$ means it should end with ab\n",
        "pattern.match('Himanshuab')"
      ],
      "execution_count": 8,
      "outputs": [
        {
          "output_type": "execute_result",
          "data": {
            "text/plain": [
              "<_sre.SRE_Match object; span=(0, 10), match='Himanshuab'>"
            ]
          },
          "metadata": {
            "tags": []
          },
          "execution_count": 8
        }
      ]
    },
    {
      "cell_type": "code",
      "metadata": {
        "id": "tzTx0RyWheko",
        "colab_type": "code",
        "colab": {
          "base_uri": "https://localhost:8080/",
          "height": 35
        },
        "outputId": "e4786eb2-87b8-4164-df10-ab3f2b82c7e0"
      },
      "source": [
        "pattern = re.compile('ab$')\n",
        "pattern.search('sahsodjhab')"
      ],
      "execution_count": 9,
      "outputs": [
        {
          "output_type": "execute_result",
          "data": {
            "text/plain": [
              "<_sre.SRE_Match object; span=(8, 10), match='ab'>"
            ]
          },
          "metadata": {
            "tags": []
          },
          "execution_count": 9
        }
      ]
    },
    {
      "cell_type": "code",
      "metadata": {
        "id": "yblS_ZqKh1dK",
        "colab_type": "code",
        "colab": {
          "base_uri": "https://localhost:8080/",
          "height": 35
        },
        "outputId": "90153d53-9834-4b6a-b9c1-b4715846f2da"
      },
      "source": [
        "pattern = re.compile('^ab$')#this means it should start with ab make sure ^this symbol must not be in []\n",
        "pattern.search('ab')\n",
        "\n"
      ],
      "execution_count": 17,
      "outputs": [
        {
          "output_type": "execute_result",
          "data": {
            "text/plain": [
              "<_sre.SRE_Match object; span=(0, 2), match='ab'>"
            ]
          },
          "metadata": {
            "tags": []
          },
          "execution_count": 17
        }
      ]
    },
    {
      "cell_type": "code",
      "metadata": {
        "id": "s4Mx0AcHiTRk",
        "colab_type": "code",
        "colab": {}
      },
      "source": [
        "pattern = re.compile('^ab$')#this means it should start with ab\n",
        "pattern.search('absahsodjhab')"
      ],
      "execution_count": 0,
      "outputs": []
    },
    {
      "cell_type": "markdown",
      "metadata": {
        "id": "vgdZeqxQi_J0",
        "colab_type": "text"
      },
      "source": [
        "for this thing to work \n",
        "pattern.search('absahsodjhab')\n",
        "\n",
        "we have to write like this given below."
      ]
    },
    {
      "cell_type": "code",
      "metadata": {
        "id": "G-S9Q-gojXyz",
        "colab_type": "code",
        "colab": {
          "base_uri": "https://localhost:8080/",
          "height": 35
        },
        "outputId": "bf85b48b-cd95-4de4-9824-64247035716f"
      },
      "source": [
        "pattern = re.compile('^ab[\\w]*ab$')\n",
        "pattern.match('absalnkcjnajcknab')"
      ],
      "execution_count": 20,
      "outputs": [
        {
          "output_type": "execute_result",
          "data": {
            "text/plain": [
              "<_sre.SRE_Match object; span=(0, 17), match='absalnkcjnajcknab'>"
            ]
          },
          "metadata": {
            "tags": []
          },
          "execution_count": 20
        }
      ]
    },
    {
      "cell_type": "code",
      "metadata": {
        "id": "kdlEP6JxkQyb",
        "colab_type": "code",
        "colab": {
          "base_uri": "https://localhost:8080/",
          "height": 35
        },
        "outputId": "e4736113-c2d4-4a11-970a-3374bbd00064"
      },
      "source": [
        "line = \"Boys are smarter than girls\"\n",
        "matchObj = re.match(r'[\\w]{1,4} are [\\w]{1,7} than [\\w]{1,5}',line)\n",
        "matchObj.group()"
      ],
      "execution_count": 21,
      "outputs": [
        {
          "output_type": "execute_result",
          "data": {
            "text/plain": [
              "'Boys are smarter than girls'"
            ]
          },
          "metadata": {
            "tags": []
          },
          "execution_count": 21
        }
      ]
    },
    {
      "cell_type": "code",
      "metadata": {
        "id": "QopD4Zn6mP8e",
        "colab_type": "code",
        "colab": {
          "base_uri": "https://localhost:8080/",
          "height": 35
        },
        "outputId": "2eb297e5-26f0-4092-e55f-f81f450c1060"
      },
      "source": [
        "line = \"Boys are smarter than girls\"\n",
        "matchObj = re.match(r'([\\w]){1,4} are ([\\w]){1,7} than ([\\w]){1,5}',line)\n",
        "matchObj.groups()\n"
      ],
      "execution_count": 26,
      "outputs": [
        {
          "output_type": "execute_result",
          "data": {
            "text/plain": [
              "('s', 'r', 's')"
            ]
          },
          "metadata": {
            "tags": []
          },
          "execution_count": 26
        }
      ]
    },
    {
      "cell_type": "code",
      "metadata": {
        "id": "QrVPZeTRlxDo",
        "colab_type": "code",
        "colab": {
          "base_uri": "https://localhost:8080/",
          "height": 35
        },
        "outputId": "2da8e434-f356-4dc2-e7d0-3c4bdc20736a"
      },
      "source": [
        "line = \"Boys are smarter than girls\"\n",
        "matchObj = re.match(r'([\\w]){1,4} are ([\\w]){1,7} than ([\\w]){1,5}',line)\n",
        "matchObj.group(0)\n"
      ],
      "execution_count": 24,
      "outputs": [
        {
          "output_type": "execute_result",
          "data": {
            "text/plain": [
              "'Boys are smarter than girls'"
            ]
          },
          "metadata": {
            "tags": []
          },
          "execution_count": 24
        }
      ]
    },
    {
      "cell_type": "code",
      "metadata": {
        "id": "hI-kCofkmHED",
        "colab_type": "code",
        "colab": {
          "base_uri": "https://localhost:8080/",
          "height": 35
        },
        "outputId": "73d632a3-c616-452f-d8f3-f7910dfcdb45"
      },
      "source": [
        "line = \"Boys are smarter than girls\"\n",
        "matchObj = re.match(r'([\\w]){1,4} are ([\\w]){1,7} than ([\\w]){1,5}',line)\n",
        "matchObj.group(1)"
      ],
      "execution_count": 25,
      "outputs": [
        {
          "output_type": "execute_result",
          "data": {
            "text/plain": [
              "'s'"
            ]
          },
          "metadata": {
            "tags": []
          },
          "execution_count": 25
        }
      ]
    },
    {
      "cell_type": "code",
      "metadata": {
        "id": "0a86TedZmLnQ",
        "colab_type": "code",
        "colab": {
          "base_uri": "https://localhost:8080/",
          "height": 35
        },
        "outputId": "a6297a7d-acd7-4fc0-954e-37421e0582ae"
      },
      "source": [
        "line = \"Boys are smarter than girls\"\n",
        "matchObj = re.match(r'([\\w]){1,4} are ([\\w]){1,7} than ([\\w]){1,5}',line)\n",
        "matchObj.group(2)"
      ],
      "execution_count": 28,
      "outputs": [
        {
          "output_type": "execute_result",
          "data": {
            "text/plain": [
              "'r'"
            ]
          },
          "metadata": {
            "tags": []
          },
          "execution_count": 28
        }
      ]
    },
    {
      "cell_type": "code",
      "metadata": {
        "id": "nbLfnhfomYM8",
        "colab_type": "code",
        "colab": {
          "base_uri": "https://localhost:8080/",
          "height": 35
        },
        "outputId": "f73bd238-5adb-488b-cef7-da9d7eabea2f"
      },
      "source": [
        "line = \"Boys are smarter than girls\"\n",
        "matchObj = re.match(r'([\\w]){1,4} are ([\\w]){1,7} than ([\\w]){1,5}',line)\n",
        "matchObj.group(3)"
      ],
      "execution_count": 27,
      "outputs": [
        {
          "output_type": "execute_result",
          "data": {
            "text/plain": [
              "'s'"
            ]
          },
          "metadata": {
            "tags": []
          },
          "execution_count": 27
        }
      ]
    },
    {
      "cell_type": "code",
      "metadata": {
        "id": "PZBBhbMtmwXl",
        "colab_type": "code",
        "colab": {
          "base_uri": "https://localhost:8080/",
          "height": 35
        },
        "outputId": "bde74b01-b4fb-4f51-90cf-78a5e598229e"
      },
      "source": [
        "line = \"Boys are smarter than girls\"\n",
        "matchObj = re.match(r'(....) are (.......) than (.....)',line)\n",
        "matchObj.groups()"
      ],
      "execution_count": 29,
      "outputs": [
        {
          "output_type": "execute_result",
          "data": {
            "text/plain": [
              "('Boys', 'smarter', 'girls')"
            ]
          },
          "metadata": {
            "tags": []
          },
          "execution_count": 29
        }
      ]
    },
    {
      "cell_type": "code",
      "metadata": {
        "id": "FRWUuVe3oz6_",
        "colab_type": "code",
        "colab": {
          "base_uri": "https://localhost:8080/",
          "height": 35
        },
        "outputId": "dc7a5096-2ad2-4032-9948-29ff48a7ade8"
      },
      "source": [
        "line = \"girls and boys are equal\"\n",
        "matchObj = re.match(r'(.....) and (....) are (.....)', line)\n",
        "matchObj.groups()"
      ],
      "execution_count": 31,
      "outputs": [
        {
          "output_type": "execute_result",
          "data": {
            "text/plain": [
              "('girls', 'boys', 'equal')"
            ]
          },
          "metadata": {
            "tags": []
          },
          "execution_count": 31
        }
      ]
    },
    {
      "cell_type": "code",
      "metadata": {
        "id": "II1jxXK-pQNH",
        "colab_type": "code",
        "colab": {
          "base_uri": "https://localhost:8080/",
          "height": 35
        },
        "outputId": "05cc879d-9f51-4ea0-812e-a47133dff82c"
      },
      "source": [
        "line = \"girls and boys are equal\"\n",
        "matchObj = re.match(r'([\\w]){1,5} and ([\\w]){1,4} are ([\\w]){1,5}', line)\n",
        "matchObj.groups()"
      ],
      "execution_count": 32,
      "outputs": [
        {
          "output_type": "execute_result",
          "data": {
            "text/plain": [
              "('s', 's', 'l')"
            ]
          },
          "metadata": {
            "tags": []
          },
          "execution_count": 32
        }
      ]
    },
    {
      "cell_type": "code",
      "metadata": {
        "id": "CgacCqYhprQ0",
        "colab_type": "code",
        "colab": {
          "base_uri": "https://localhost:8080/",
          "height": 35
        },
        "outputId": "20d80030-34d5-4e5e-f78f-61551e62896f"
      },
      "source": [
        "line = \"girls and boys are equal\"\n",
        "matchObj = re.match(r'([\\w]){1,5} and ([\\w]){1,4} are ([\\w]){1,5}', line)\n",
        "matchObj.group(0)"
      ],
      "execution_count": 33,
      "outputs": [
        {
          "output_type": "execute_result",
          "data": {
            "text/plain": [
              "'girls and boys are equal'"
            ]
          },
          "metadata": {
            "tags": []
          },
          "execution_count": 33
        }
      ]
    },
    {
      "cell_type": "code",
      "metadata": {
        "id": "9knBQu-9puZJ",
        "colab_type": "code",
        "colab": {
          "base_uri": "https://localhost:8080/",
          "height": 35
        },
        "outputId": "9188d6b6-9523-4db3-9487-d4ab28ee2e1e"
      },
      "source": [
        "line = \"girls and boys are equal\"\n",
        "matchObj = re.match(r'([\\w]){1,5} and ([\\w]){1,4} are ([\\w]){1,5}', line)\n",
        "matchObj.group(1)"
      ],
      "execution_count": 34,
      "outputs": [
        {
          "output_type": "execute_result",
          "data": {
            "text/plain": [
              "'s'"
            ]
          },
          "metadata": {
            "tags": []
          },
          "execution_count": 34
        }
      ]
    },
    {
      "cell_type": "code",
      "metadata": {
        "id": "eVVBN6rupwaS",
        "colab_type": "code",
        "colab": {
          "base_uri": "https://localhost:8080/",
          "height": 35
        },
        "outputId": "be05b12f-99e2-4018-90cb-11bfb9096f83"
      },
      "source": [
        "line = \"girls and boys are equal\"\n",
        "matchObj = re.match(r'([\\w]){1,5} and ([\\w]){1,4} are ([\\w]){1,5}', line)\n",
        "matchObj.group(2)"
      ],
      "execution_count": 35,
      "outputs": [
        {
          "output_type": "execute_result",
          "data": {
            "text/plain": [
              "'s'"
            ]
          },
          "metadata": {
            "tags": []
          },
          "execution_count": 35
        }
      ]
    },
    {
      "cell_type": "code",
      "metadata": {
        "id": "e52rRe_ipywV",
        "colab_type": "code",
        "colab": {
          "base_uri": "https://localhost:8080/",
          "height": 35
        },
        "outputId": "06809c11-c176-45e3-b270-b41077c69982"
      },
      "source": [
        "line = \"girls and boys are equal\"\n",
        "matchObj = re.match(r'([\\w]){1,5} and ([\\w]){1,4} are ([\\w]){1,5}', line)\n",
        "matchObj.group(3)"
      ],
      "execution_count": 36,
      "outputs": [
        {
          "output_type": "execute_result",
          "data": {
            "text/plain": [
              "'l'"
            ]
          },
          "metadata": {
            "tags": []
          },
          "execution_count": 36
        }
      ]
    }
  ]
}