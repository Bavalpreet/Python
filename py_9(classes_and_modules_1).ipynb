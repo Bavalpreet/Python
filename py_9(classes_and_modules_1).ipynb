{
  "nbformat": 4,
  "nbformat_minor": 0,
  "metadata": {
    "colab": {
      "name": "py_9(classes and modules-1).ipynb",
      "version": "0.3.2",
      "provenance": []
    },
    "kernelspec": {
      "name": "python3",
      "display_name": "Python 3"
    }
  },
  "cells": [
    {
      "cell_type": "code",
      "metadata": {
        "id": "YazPiesqIpkW",
        "colab_type": "code",
        "outputId": "eeb171a6-b003-49e3-deaf-c8b9f0f2e0ae",
        "colab": {
          "base_uri": "https://localhost:8080/",
          "height": 52
        }
      },
      "source": [
        "# REFERENCES - https://www.youtube.com/watch?v=ZDa-Z5JzLYM\n",
        "\n",
        "class Employee:\n",
        "  pass\n",
        "\n",
        "emp_1 = Employee()#creating object of class\n",
        "emp_2 = Employee()\n",
        "\n",
        "print(emp_1)\n",
        "print(emp_2)\n",
        "\n"
      ],
      "execution_count": 7,
      "outputs": [
        {
          "output_type": "stream",
          "text": [
            "<__main__.Employee object at 0x7f6e9b5fa518>\n",
            "<__main__.Employee object at 0x7f6e9b5fa4e0>\n"
          ],
          "name": "stdout"
        }
      ]
    },
    {
      "cell_type": "markdown",
      "metadata": {
        "id": "8_KeMOqaTkUy",
        "colab_type": "text"
      },
      "source": [
        "method - is a function associated with class\n",
        "\n",
        "if you want to leave class empty you can write pass in the class body with no attributes and methods."
      ]
    },
    {
      "cell_type": "code",
      "metadata": {
        "id": "3CiGJQi7TekP",
        "colab_type": "code",
        "colab": {
          "base_uri": "https://localhost:8080/",
          "height": 87
        },
        "outputId": "b57b5fbc-0c9f-43ae-d9bd-3c3ffbc08a50"
      },
      "source": [
        "class Employee:\n",
        "  pass\n",
        "\n",
        "emp_1 = Employee()#creating object of class\n",
        "emp_2 = Employee()\n",
        "\n",
        "print(emp_1)\n",
        "print(emp_2)\n",
        "\n",
        "emp_1.first = 'baval'#creating instance variable\n",
        "emp_1.last = 'preet'\n",
        "emp_1.email = 'baval.preet@zoam.com'\n",
        "emp_1.pay = 50000  \n",
        "\n",
        "emp_2.first = 'sam'\n",
        "emp_2.last = 'preet'\n",
        "emp_2.email = 'sam.preet@zoam.com'\n",
        "emp_2.pay = 60000  \n",
        "\n",
        "print(emp_1.email)\n",
        "print(emp_2.email)"
      ],
      "execution_count": 6,
      "outputs": [
        {
          "output_type": "stream",
          "text": [
            "<__main__.Employee object at 0x7f6e9bed94e0>\n",
            "<__main__.Employee object at 0x7f6e9bed9978>\n",
            "baval.preet@zoam.com\n",
            "sam.preet@zoam.com\n"
          ],
          "name": "stdout"
        }
      ]
    },
    {
      "cell_type": "markdown",
      "metadata": {
        "id": "lEqlPIXSPXPb",
        "colab_type": "text"
      },
      "source": [
        "\n",
        "instance variables contain data which is unique to each instance.\n",
        "\n",
        "Object is a contiguous block of memory that stores the actual information that distinguishes this object from other objects while an instance is a reference to an object"
      ]
    },
    {
      "cell_type": "markdown",
      "metadata": {
        "id": "t7JSi7MmS6oA",
        "colab_type": "text"
      },
      "source": [
        "to do this code automatically\n",
        "\n",
        "\n",
        "emp_1.first = 'baval'#creating instance variable\n",
        "\n",
        "emp_1.last = 'preet'\n",
        "\n",
        "emp_1.email = 'baval.preet@zoam.com'\n",
        "\n",
        "emp_1.pay = 50000  \n",
        "\n",
        "emp_2.first = 'sam'\n",
        "\n",
        "emp_2.last = 'preet'\n",
        "\n",
        "emp_2.email = 'sam.preet@zoam.com'\n",
        "\n",
        "emp_2.pay = 60000  \n",
        "\n",
        "\n",
        "\n",
        "we will create init method"
      ]
    },
    {
      "cell_type": "code",
      "metadata": {
        "id": "171YSzp9TUlj",
        "colab_type": "code",
        "colab": {
          "base_uri": "https://localhost:8080/",
          "height": 52
        },
        "outputId": "86ba0c5c-ef5f-44f6-c3e6-bbad7e8408d9"
      },
      "source": [
        "class Employee:\n",
        "  \n",
        "  def __init__(self, first, last, pay):#constructor where as in parenthesis containing instance variables and SELF IS THE INSTANCE (EXPLANATION BELOW)\n",
        "    self.first = first\n",
        "    self.last = last\n",
        "    self.pay = pay\n",
        "    self.email = first + '.' + last + '@zoam.com'\n",
        "  \n",
        "\n",
        "emp_1 = Employee('baval', 'preet', 50000)#when this line will be run init method will run automatically emp_1 will be passed as self then it will run like emp_1.first = baval and so on.\n",
        "emp_2 = Employee('sam', 'preet', 60000)\n",
        "\n",
        "#print(emp_1)\n",
        "#print(emp_2)\n",
        "\n",
        "print(emp_1.email)\n",
        "print(emp_2.email)"
      ],
      "execution_count": 9,
      "outputs": [
        {
          "output_type": "stream",
          "text": [
            "baval.preet@zoam.com\n",
            "sam.preet@zoam.com\n"
          ],
          "name": "stdout"
        }
      ]
    },
    {
      "cell_type": "markdown",
      "metadata": {
        "id": "XfI4BoXtVt8b",
        "colab_type": "text"
      },
      "source": [
        "when i say that SELF is the instance  what i mean is \n",
        "\n",
        "**self.first = first**      its going to be the same thing as    **emp_1.first = 'baval'**\n",
        "\n",
        "except now insted of doing this manually it will be automatically done when we create our employee object."
      ]
    },
    {
      "cell_type": "code",
      "metadata": {
        "id": "FljAnurDbCu_",
        "colab_type": "code",
        "colab": {
          "base_uri": "https://localhost:8080/",
          "height": 69
        },
        "outputId": "766c2acb-fed2-4318-d8e5-b1fb296f957f"
      },
      "source": [
        "# NOW IF WE WANT THE ABILITY TO PERFORM SOME KIND OF ACTION NOW TO DO THAT WE CAN ADD SOME METHODS TO OUR CLASS\n",
        "\n",
        "#SO IF I WANT TO PRINT THE WHOLE NAME WHAT I WILL DO IS \n",
        "class Employee:\n",
        "  \n",
        "  def __init__(self, first, last, pay):\n",
        "    self.first = first\n",
        "    self.last = last\n",
        "    self.pay = pay\n",
        "    self.email = first + '.' + last + '@zoam.com'\n",
        "  \n",
        "\n",
        "emp_1 = Employee('baval', 'preet', 50000)#when this line will be run init method will run automatically emp_1 will be passed as self then it will run like emp_1.first = baval and so on.\n",
        "emp_2 = Employee('sam', 'preet', 60000)\n",
        "\n",
        "#print(emp_1)\n",
        "#print(emp_2)\n",
        "\n",
        "print(emp_1.email)\n",
        "print(emp_2.email)\n",
        "\n",
        "print('{} {}'.format(emp_1.first, emp_1.last)) #THIS WAS THE CODE TO DO IT MANUALLY\n",
        "\n",
        "\n"
      ],
      "execution_count": 10,
      "outputs": [
        {
          "output_type": "stream",
          "text": [
            "baval.preet@zoam.com\n",
            "sam.preet@zoam.com\n",
            "baval preet\n"
          ],
          "name": "stdout"
        }
      ]
    },
    {
      "cell_type": "code",
      "metadata": {
        "id": "Yx2h4FbNcZGl",
        "colab_type": "code",
        "colab": {
          "base_uri": "https://localhost:8080/",
          "height": 104
        },
        "outputId": "1f33980d-fbb3-4add-f309-b6ac3282f701"
      },
      "source": [
        "# NOW IF WE WANT THE ABILITY TO PERFORM SOME KIND OF ACTION NOW TO DO THAT WE CAN ADD SOME METHODS TO OUR CLASS\n",
        "\n",
        "#SO IF I WANT TO PRINT THE WHOLE NAME WHAT I WILL DO IS \n",
        "class Employee:\n",
        "  \n",
        "  def __init__(self, first, last, pay):\n",
        "    self.first = first\n",
        "    self.last = last\n",
        "    self.pay = pay\n",
        "    self.email = first + '.' + last + '@zoam.com'\n",
        "  \n",
        "  def fullname(self):               #here we created a method to add ability to print full name for all instances \n",
        "    return '{} {}'.format(self.first, self.last)\n",
        "\n",
        "emp_1 = Employee('baval', 'preet', 50000)#when this line will be run init method will run automatically emp_1 will be passed as self then it will run like emp_1.first = baval and so on.\n",
        "emp_2 = Employee('sam', 'preet', 60000)\n",
        "\n",
        "#print(emp_1)\n",
        "#print(emp_2)\n",
        "\n",
        "print(emp_1.email)\n",
        "print(emp_2.email)\n",
        "\n",
        "print(emp_1.fullname()) \n",
        "print(emp_2.fullname()) \n",
        "print(Employee.fullname(emp_2)) "
      ],
      "execution_count": 14,
      "outputs": [
        {
          "output_type": "stream",
          "text": [
            "baval.preet@zoam.com\n",
            "sam.preet@zoam.com\n",
            "baval preet\n",
            "sam preet\n",
            "sam preet\n"
          ],
          "name": "stdout"
        }
      ]
    }
  ]
}