{
  "nbformat": 4,
  "nbformat_minor": 0,
  "metadata": {
    "colab": {
      "name": "py__15(Threads).ipynb",
      "version": "0.3.2",
      "provenance": []
    },
    "kernelspec": {
      "name": "python3",
      "display_name": "Python 3"
    }
  },
  "cells": [
    {
      "cell_type": "code",
      "metadata": {
        "id": "g5u65j3QYy1h",
        "colab_type": "code",
        "colab": {
          "base_uri": "https://localhost:8080/",
          "height": 191
        },
        "outputId": "17ee9642-ea4a-4814-a676-c23dbe90d875"
      },
      "source": [
        "import _thread as thread\n",
        "import time\n",
        "a = 0\n",
        "\n",
        "def print_time(tname, delay):\n",
        "  global a\n",
        "  count = 0\n",
        "  while count < 5:\n",
        "    time.sleep(delay)\n",
        "    count += 1\n",
        "    print('%s %s' % ( tname, time.ctime(time.time())))\n",
        "  a += 1  \n",
        "try:\n",
        "  thread.start_new_thread(print_time, ('Thread-1', 2))\n",
        "  thread.start_new_thread(print_time, ('Thread-2', 4))\n",
        "except:\n",
        "  print('unable to start thread.')\n",
        "  \n",
        "while a < 2:\n",
        "  pass"
      ],
      "execution_count": 8,
      "outputs": [
        {
          "output_type": "stream",
          "text": [
            "Thread-1 Sun Jun  9 09:17:50 2019\n",
            "Thread-1 Sun Jun  9 09:17:52 2019Thread-2 Sun Jun  9 09:17:52 2019\n",
            "\n",
            "Thread-1 Sun Jun  9 09:17:54 2019\n",
            "Thread-2 Sun Jun  9 09:17:56 2019\n",
            "Thread-1 Sun Jun  9 09:17:56 2019\n",
            "Thread-1 Sun Jun  9 09:17:58 2019\n",
            "Thread-2 Sun Jun  9 09:18:00 2019\n",
            "Thread-2 Sun Jun  9 09:18:04 2019\n",
            "Thread-2 Sun Jun  9 09:18:08 2019\n"
          ],
          "name": "stdout"
        }
      ]
    },
    {
      "cell_type": "code",
      "metadata": {
        "id": "RO9vgS9L7aUY",
        "colab_type": "code",
        "colab": {
          "base_uri": "https://localhost:8080/",
          "height": 87
        },
        "outputId": "ea2a899e-52a9-4f4d-d113-fd187a675776"
      },
      "source": [
        "import threading\n",
        "import time\n",
        "\n",
        "exitFlag = 0\n",
        "\n",
        "class myThread(threading.Thread):\n",
        "  def __init__(self, threadID, name, counter):\n",
        "    threading.Thread.__init__(self)#here we are calling super class's init method\n",
        "    self.threadID = threadID\n",
        "    self.name = name\n",
        "    self.counter = counter\n",
        "    \n",
        "  def run(self):\n",
        "    print('starting:' + self.name)\n",
        "    print_time(self.name, 5, self.counter)\n",
        "    print('Exiting:' + self.name)\n",
        "    \n",
        "\n",
        "def print_time(threadName, delay, counter):\n",
        "  while counter:\n",
        "    if exitFlag:\n",
        "      threadName.exit()\n",
        "    time.sleep(delay)\n",
        "    print('%s %s' % (threadName, time.ctime(time.time())))\n",
        "    counter -= 1\n",
        "    \n",
        "\n",
        "thread1 = myThread(1,'tapas',1)\n",
        "thread2 = myThread(2,'ashita',2)\n",
        "thread3 = myThread(3,'parul',3)\n",
        "\n",
        "thread1.start()\n",
        "thread2.start()\n",
        "thread3.start()\n",
        "\n",
        "\n",
        "\n",
        "print('main thread exiting.')"
      ],
      "execution_count": 13,
      "outputs": [
        {
          "output_type": "stream",
          "text": [
            "starting:tapas\n",
            "starting:ashita\n",
            "main thread exiting.\n",
            "starting:parul\n"
          ],
          "name": "stdout"
        }
      ]
    },
    {
      "cell_type": "code",
      "metadata": {
        "id": "FAAztbtItf6t",
        "colab_type": "code",
        "colab": {
          "base_uri": "https://localhost:8080/",
          "height": 243
        },
        "outputId": "b8ff3803-9065-47be-cf15-4c470207c849"
      },
      "source": [
        "import threading\n",
        "import time\n",
        "\n",
        "exitFlag = 0\n",
        "\n",
        "class myThread(threading.Thread):\n",
        "  def __init__(self, threadID, name, counter):\n",
        "    threading.Thread.__init__(self)#here we are calling super class's init method\n",
        "    self.threadID = threadID\n",
        "    self.name = name\n",
        "    self.counter = counter\n",
        "    \n",
        "  def run(self):\n",
        "    print('starting:' + self.name)\n",
        "    threadingLock.acquire()\n",
        "    print_time(self.name, 5, self.counter)\n",
        "    print('Exiting:' + self.name)\n",
        "    threadingLock.release()\n",
        "\n",
        "def print_time(threadName, delay, counter):\n",
        "  while counter:\n",
        "    if exitFlag:\n",
        "      threadName.exit()\n",
        "    time.sleep(delay)\n",
        "    print('%s %s' % (threadName, time.ctime(time.time())))\n",
        "    counter -= 1\n",
        "    \n",
        "threadingLock = threading.Lock() \n",
        "threads = []\n",
        "\n",
        "thread1 = myThread(1,'tapas',1)\n",
        "thread2 = myThread(2,'ashita',2)\n",
        "thread3 = myThread(3,'parul',3)\n",
        "\n",
        "thread1.start()\n",
        "thread2.start()\n",
        "thread3.start()\n",
        "\n",
        "threads.append(thread1)\n",
        "threads.append(thread2)\n",
        "threads.append(thread3)\n",
        "for t in threads:\n",
        "  t.join()\n",
        "\n",
        "\n",
        "print('main thread exiting.')"
      ],
      "execution_count": 12,
      "outputs": [
        {
          "output_type": "stream",
          "text": [
            "starting:tapas\n",
            "starting:ashita\n",
            "starting:parul\n",
            "ashita Sun Jun  9 11:08:29 2019\n",
            "ashita Sun Jun  9 11:08:34 2019\n",
            "Exiting:ashita\n",
            "tapas Sun Jun  9 11:08:39 2019\n",
            "Exiting:tapas\n",
            "parul Sun Jun  9 11:08:44 2019\n",
            "parul Sun Jun  9 11:08:49 2019\n",
            "parul Sun Jun  9 11:08:54 2019main thread exiting.\n",
            "\n",
            "Exiting:parul\n"
          ],
          "name": "stdout"
        }
      ]
    },
    {
      "cell_type": "code",
      "metadata": {
        "id": "NZlJUP0A9_uh",
        "colab_type": "code",
        "colab": {
          "base_uri": "https://localhost:8080/",
          "height": 69
        },
        "outputId": "324c5927-40e8-4666-f346-997c5830ee4e"
      },
      "source": [
        "import threading\n",
        "import time\n",
        "\n",
        "def worker():\n",
        "  print(threading.currentThread().getName(), 'Starting')\n",
        "  time.sleep(2)\n",
        "  print(threading.currentThread().getName(), 'Ending')\n",
        "  \n",
        "def my_service():\n",
        "  print(threading.currentThread().getName(), 'Starting')\n",
        "  time.sleep(3)\n",
        "  print(threading.currentThread().getName(), 'Ending')  \n",
        "  \n",
        "  \n",
        "t = threading.Thread(name = 'My Service', target = my_service)\n",
        "w1 = threading.Thread(name = 'worker1', target = worker)\n",
        "w2 = threading.Thread(target = worker)\n",
        "\n",
        "t.start()\n",
        "w1.start()\n",
        "w2.start()"
      ],
      "execution_count": 14,
      "outputs": [
        {
          "output_type": "stream",
          "text": [
            "My Service Starting\n",
            "worker1 Starting\n",
            "Thread-19 Starting\n"
          ],
          "name": "stdout"
        }
      ]
    },
    {
      "cell_type": "code",
      "metadata": {
        "id": "2-1Ve39I_Y2h",
        "colab_type": "code",
        "colab": {
          "base_uri": "https://localhost:8080/",
          "height": 69
        },
        "outputId": "a211e9f4-3f42-4d43-d839-c19a39421286"
      },
      "source": [
        "import threading\n",
        "import time\n",
        "\n",
        "def worker():\n",
        "  print(threading.currentThread().getName(), 'Starting')\n",
        "  time.sleep(2)\n",
        "  print(threading.currentThread().getName(), 'Ending')\n",
        "  \n",
        "def my_service():\n",
        "  print(threading.currentThread().getName(), 'Starting')\n",
        "  time.sleep(3)\n",
        "  print(threading.currentThread().getName(), 'Ending')  \n",
        "  \n",
        "  \n",
        "t = threading.Thread(target = my_service)\n",
        "w1 = threading.Thread(target = worker)\n",
        "w2 = threading.Thread(target = worker)\n",
        "\n",
        "t.start()\n",
        "w1.start()\n",
        "w2.start()\n"
      ],
      "execution_count": 16,
      "outputs": [
        {
          "output_type": "stream",
          "text": [
            "Thread-23 Starting\n",
            "Thread-24 Starting\n",
            "Thread-25 Starting\n"
          ],
          "name": "stdout"
        }
      ]
    },
    {
      "cell_type": "code",
      "metadata": {
        "id": "ePr0XufI_tlW",
        "colab_type": "code",
        "colab": {
          "base_uri": "https://localhost:8080/",
          "height": 69
        },
        "outputId": "2394bbbf-0d7e-46d5-83c2-3de9dd8fefa6"
      },
      "source": [
        "import threading\n",
        "import time\n",
        "\n",
        "def worker():\n",
        "  threading.currentThread().setName('senorita')\n",
        "  print(threading.currentThread().getName(), 'Starting')\n",
        "  time.sleep(2)\n",
        "  print(threading.currentThread().getName(), 'Ending')\n",
        "  \n",
        "def my_service():\n",
        "  print(threading.currentThread().getName(), 'Starting')\n",
        "  time.sleep(3)\n",
        "  print(threading.currentThread().getName(), 'Ending')  \n",
        "  \n",
        "  \n",
        "t = threading.Thread(target = my_service)\n",
        "w1 = threading.Thread(target = worker)\n",
        "w2 = threading.Thread(target = worker)\n",
        "\n",
        "t.start()\n",
        "w1.start()\n",
        "w2.start()"
      ],
      "execution_count": 17,
      "outputs": [
        {
          "output_type": "stream",
          "text": [
            "Thread-26 Starting\n",
            "senorita Starting\n",
            "senorita Starting\n"
          ],
          "name": "stdout"
        }
      ]
    },
    {
      "cell_type": "code",
      "metadata": {
        "id": "BLos0q5o7fNS",
        "colab_type": "code",
        "colab": {
          "base_uri": "https://localhost:8080/",
          "height": 191
        },
        "outputId": "754c9e7b-d3ed-4e23-ce24-f240a1f85f9e"
      },
      "source": [
        "#Create a threading process such that it sleeps for 5 seconds and then prints out a message.\n",
        "import time\n",
        "from threading import Thread\n",
        "def sleepMe(i):\n",
        "  print('Thread%i going to sleep for 5 seconds'%i)\n",
        "  time.sleep(5)\n",
        "  print('Thread%i is awake now.'%i)\n",
        "for i in range(10):\n",
        "  th = Thread(target = sleepMe, args = (i,))\n",
        "  th.start()\n",
        "\n",
        "  "
      ],
      "execution_count": 4,
      "outputs": [
        {
          "output_type": "stream",
          "text": [
            "Thread0 going to sleep for 5 seconds\n",
            "Thread1 going to sleep for 5 seconds\n",
            "Thread2 going to sleep for 5 seconds\n",
            "Thread3 going to sleep for 5 seconds\n",
            "Thread4 going to sleep for 5 seconds\n",
            "Thread5 going to sleep for 5 secondsThread7 going to sleep for 5 seconds\n",
            "Thread6 going to sleep for 5 secondsThread8 going to sleep for 5 seconds\n",
            "\n",
            "Thread9 going to sleep for 5 seconds\n",
            "\n"
          ],
          "name": "stdout"
        }
      ]
    },
    {
      "cell_type": "code",
      "metadata": {
        "id": "EQsAwh6aDl7L",
        "colab_type": "code",
        "colab": {
          "base_uri": "https://localhost:8080/",
          "height": 191
        },
        "outputId": "39f82a88-cf7c-4daa-bf04-a4126e8aa76d"
      },
      "source": [
        "import time\n",
        "from threading import Thread\n",
        "def sleepMe(i):\n",
        "  print(\"Thread %i.\" % (i+1))\n",
        "  time.sleep(1)\n",
        "for i in range(10):\n",
        "  th = Thread(target=sleepMe, args=(i, ))\n",
        "  th.start()\n"
      ],
      "execution_count": 6,
      "outputs": [
        {
          "output_type": "stream",
          "text": [
            "Thread 1.\n",
            "Thread 2.\n",
            "Thread 4.Thread 3.\n",
            "\n",
            "Thread 5.Thread 6.\n",
            "\n",
            "Thread 7.\n",
            "Thread 8.\n",
            "Thread 9.Thread 10.\n",
            "\n"
          ],
          "name": "stdout"
        }
      ]
    },
    {
      "cell_type": "code",
      "metadata": {
        "id": "F0vyYYsXFD33",
        "colab_type": "code",
        "colab": {}
      },
      "source": [
        "import time\n",
        "from threading import Thread\n",
        "def sleepMe(i , B):\n",
        "\ttime.sleep(B)\n",
        "\tprint(\"Thread %i.\" % (i))\n",
        "a = [0, 6, 8, 9]\n",
        "B = 2 \n",
        "for i in a:\n",
        "  th = Thread(target=sleepMe, args=(i,B , ))\n",
        "  th.start()\n",
        "  B+= 2 \n"
      ],
      "execution_count": 0,
      "outputs": []
    }
  ]
}