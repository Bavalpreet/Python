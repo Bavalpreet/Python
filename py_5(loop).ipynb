{
  "nbformat": 4,
  "nbformat_minor": 0,
  "metadata": {
    "colab": {
      "name": "py_5(loop).ipynb",
      "version": "0.3.2",
      "provenance": []
    },
    "kernelspec": {
      "name": "python3",
      "display_name": "Python 3"
    }
  },
  "cells": [
    {
      "cell_type": "code",
      "metadata": {
        "id": "NJrYmw8mAhjm",
        "colab_type": "code",
        "colab": {
          "base_uri": "https://localhost:8080/",
          "height": 204
        },
        "outputId": "fd8fe716-c2b3-45c0-f567-0dc45967a059"
      },
      "source": [
        "#1.take input and print\n",
        "a = []\n",
        "i = 0\n",
        "for i in range(0,10):\n",
        "     b = int(input('Enter a number'))\n",
        "     a.insert(i,b)\n",
        "print(a)\n",
        "\n"
      ],
      "execution_count": 1,
      "outputs": [
        {
          "output_type": "stream",
          "text": [
            "Enter a number5\n",
            "Enter a number4\n",
            "Enter a number8\n",
            "Enter a number9\n",
            "Enter a number0\n",
            "Enter a number2\n",
            "Enter a number5\n",
            "Enter a number77\n",
            "Enter a number89\n",
            "Enter a number95\n",
            "[5, 4, 8, 9, 0, 2, 5, 77, 89, 95]\n"
          ],
          "name": "stdout"
        }
      ]
    },
    {
      "cell_type": "code",
      "metadata": {
        "id": "Fi7Hik7dAo4u",
        "colab_type": "code",
        "colab": {
          "base_uri": "https://localhost:8080/",
          "height": 867
        },
        "outputId": "23c5d120-8d1a-4aab-e1ad-db47a6bc2bb1"
      },
      "source": [
        "#2.infinite loop\n",
        "i = 1\n",
        "while i>=0:\n",
        "    print('loop')\n",
        "    if(i==50):\n",
        "        break\n",
        "    i+=1\n",
        "\n",
        "\n",
        "\n"
      ],
      "execution_count": 2,
      "outputs": [
        {
          "output_type": "stream",
          "text": [
            "loop\n",
            "loop\n",
            "loop\n",
            "loop\n",
            "loop\n",
            "loop\n",
            "loop\n",
            "loop\n",
            "loop\n",
            "loop\n",
            "loop\n",
            "loop\n",
            "loop\n",
            "loop\n",
            "loop\n",
            "loop\n",
            "loop\n",
            "loop\n",
            "loop\n",
            "loop\n",
            "loop\n",
            "loop\n",
            "loop\n",
            "loop\n",
            "loop\n",
            "loop\n",
            "loop\n",
            "loop\n",
            "loop\n",
            "loop\n",
            "loop\n",
            "loop\n",
            "loop\n",
            "loop\n",
            "loop\n",
            "loop\n",
            "loop\n",
            "loop\n",
            "loop\n",
            "loop\n",
            "loop\n",
            "loop\n",
            "loop\n",
            "loop\n",
            "loop\n",
            "loop\n",
            "loop\n",
            "loop\n",
            "loop\n",
            "loop\n"
          ],
          "name": "stdout"
        }
      ]
    },
    {
      "cell_type": "code",
      "metadata": {
        "id": "wRHwdoppA4wE",
        "colab_type": "code",
        "colab": {
          "base_uri": "https://localhost:8080/",
          "height": 119
        },
        "outputId": "e9bdf8c1-ecf3-47dd-8b66-17e3f2b01784"
      },
      "source": [
        "#3.sqaure of prev list\n",
        "a = []\n",
        "c = []\n",
        "i = 0\n",
        "for i in range(0,4):\n",
        "    b=int(input('Enter a number'))\n",
        "    a.insert(i,b)\n",
        "    c.insert(i,b*b)\n",
        "print(a)\n",
        "print(c)\n",
        "\n"
      ],
      "execution_count": 3,
      "outputs": [
        {
          "output_type": "stream",
          "text": [
            "Enter a number3\n",
            "Enter a number6\n",
            "Enter a number7\n",
            "Enter a number5\n",
            "[3, 6, 7, 5]\n",
            "[9, 36, 49, 25]\n"
          ],
          "name": "stdout"
        }
      ]
    },
    {
      "cell_type": "code",
      "metadata": {
        "id": "Gdb9sh1yBLNW",
        "colab_type": "code",
        "colab": {
          "base_uri": "https://localhost:8080/",
          "height": 204
        },
        "outputId": "c06d55e9-0b29-4af2-f45b-fd4535026966"
      },
      "source": [
        "#4.store string,ints and floats speratelely\n",
        "lst = [1,5,8,5.0,4.5,9,'ash','jay']\n",
        "i = 0\n",
        "n = []\n",
        "s = []\n",
        "f = []\n",
        "for i in range(len(lst)):\n",
        "    t=type(lst[i])\n",
        "    print(t)\n",
        "    if(t==int):\n",
        "        n.insert(0,lst[i])\n",
        "    elif(t==float):\n",
        "        f.insert(0,lst[i])\n",
        "    elif(t==str):\n",
        "        s.insert(0,lst[i])\n",
        "print(n)\n",
        "print(s)\n",
        "print(f)\n",
        "\n"
      ],
      "execution_count": 4,
      "outputs": [
        {
          "output_type": "stream",
          "text": [
            "<class 'int'>\n",
            "<class 'int'>\n",
            "<class 'int'>\n",
            "<class 'float'>\n",
            "<class 'float'>\n",
            "<class 'int'>\n",
            "<class 'str'>\n",
            "<class 'str'>\n",
            "[9, 8, 5, 1]\n",
            "['jay', 'ash']\n",
            "[4.5, 5.0]\n"
          ],
          "name": "stdout"
        }
      ]
    },
    {
      "cell_type": "code",
      "metadata": {
        "id": "r5lI6jnEBO4U",
        "colab_type": "code",
        "colab": {
          "base_uri": "https://localhost:8080/",
          "height": 88
        },
        "outputId": "2cf72eab-d54d-4dd2-ebb5-ee50ec0dcd44"
      },
      "source": [
        "#5.list with even n odd nos.\n",
        "i = 1\n",
        "n = 1\n",
        "l = []\n",
        "odd = []\n",
        "even = []\n",
        "for i in range(102):\n",
        "    l.insert(0,i)\n",
        "    i+=1\n",
        "print(l)\n",
        "for n in range(0,101,1):\n",
        "    if(l[n]%2==0):\n",
        "        even.insert(0,l[n])\n",
        "    elif(l[n]%2==1):\n",
        "        odd.insert(0,l[n])\n",
        "print(even)\n",
        "print(odd)\n",
        "\n"
      ],
      "execution_count": 5,
      "outputs": [
        {
          "output_type": "stream",
          "text": [
            "[101, 100, 99, 98, 97, 96, 95, 94, 93, 92, 91, 90, 89, 88, 87, 86, 85, 84, 83, 82, 81, 80, 79, 78, 77, 76, 75, 74, 73, 72, 71, 70, 69, 68, 67, 66, 65, 64, 63, 62, 61, 60, 59, 58, 57, 56, 55, 54, 53, 52, 51, 50, 49, 48, 47, 46, 45, 44, 43, 42, 41, 40, 39, 38, 37, 36, 35, 34, 33, 32, 31, 30, 29, 28, 27, 26, 25, 24, 23, 22, 21, 20, 19, 18, 17, 16, 15, 14, 13, 12, 11, 10, 9, 8, 7, 6, 5, 4, 3, 2, 1, 0]\n",
            "[2, 4, 6, 8, 10, 12, 14, 16, 18, 20, 22, 24, 26, 28, 30, 32, 34, 36, 38, 40, 42, 44, 46, 48, 50, 52, 54, 56, 58, 60, 62, 64, 66, 68, 70, 72, 74, 76, 78, 80, 82, 84, 86, 88, 90, 92, 94, 96, 98, 100]\n",
            "[1, 3, 5, 7, 9, 11, 13, 15, 17, 19, 21, 23, 25, 27, 29, 31, 33, 35, 37, 39, 41, 43, 45, 47, 49, 51, 53, 55, 57, 59, 61, 63, 65, 67, 69, 71, 73, 75, 77, 79, 81, 83, 85, 87, 89, 91, 93, 95, 97, 99, 101]\n"
          ],
          "name": "stdout"
        }
      ]
    },
    {
      "cell_type": "code",
      "metadata": {
        "id": "O2KBeSsoBXur",
        "colab_type": "code",
        "colab": {
          "base_uri": "https://localhost:8080/",
          "height": 102
        },
        "outputId": "0fdb4fda-f656-4ff6-8b85-a2105c1cd666"
      },
      "source": [
        "#6.pattern\n",
        "i = 1\n",
        "for i in range(5):\n",
        "    print('*'*i)\n",
        "\n"
      ],
      "execution_count": 6,
      "outputs": [
        {
          "output_type": "stream",
          "text": [
            "\n",
            "*\n",
            "**\n",
            "***\n",
            "****\n"
          ],
          "name": "stdout"
        }
      ]
    },
    {
      "cell_type": "code",
      "metadata": {
        "id": "nVGEyp1EBbQ7",
        "colab_type": "code",
        "colab": {
          "base_uri": "https://localhost:8080/",
          "height": 136
        },
        "outputId": "900f3d9a-9f5a-4c84-c6c3-d6dcb40646c6"
      },
      "source": [
        "#7.user defined dict\n",
        "dic = {}\n",
        "i = 0\n",
        "for i in range(3):\n",
        "    m = input('enter a key')\n",
        "    n = input('enter a value')\n",
        "    dic[m] = n\n",
        "print(dic)\n",
        "\n",
        "\n",
        "\n"
      ],
      "execution_count": 7,
      "outputs": [
        {
          "output_type": "stream",
          "text": [
            "enter a key23\n",
            "enter a value555555\n",
            "enter a key89\n",
            "enter a value0000000\n",
            "enter a key99\n",
            "enter a value4444444\n",
            "{'23': '555555', '89': '0000000', '99': '4444444'}\n"
          ],
          "name": "stdout"
        }
      ]
    },
    {
      "cell_type": "code",
      "metadata": {
        "id": "FdogrQ20BdEs",
        "colab_type": "code",
        "colab": {
          "base_uri": "https://localhost:8080/",
          "height": 153
        },
        "outputId": "63132832-0999-4dd4-cbe0-1ceaae8ef9d8"
      },
      "source": [
        "#8.delete an element\n",
        "i = 0\n",
        "n = 0\n",
        "d = []\n",
        "for i in range(5):\n",
        "    k=int(input('enter a number'))\n",
        "    d.insert(0,k)\n",
        "print(d)\n",
        "j=int(input('enter another number'))\n",
        "for n in range(5):\n",
        "    if(d[n]==j):\n",
        "        d.pop(n)\n",
        "print(d)"
      ],
      "execution_count": 8,
      "outputs": [
        {
          "output_type": "stream",
          "text": [
            "enter a number8\n",
            "enter a number7\n",
            "enter a number6\n",
            "enter a number3\n",
            "enter a number2\n",
            "[2, 3, 6, 7, 8]\n",
            "enter another number5\n",
            "[2, 3, 6, 7, 8]\n"
          ],
          "name": "stdout"
        }
      ]
    }
  ]
}